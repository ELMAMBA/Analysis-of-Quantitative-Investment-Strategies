{
  "nbformat": 4,
  "nbformat_minor": 0,
  "metadata": {
    "colab": {
      "provenance": []
    },
    "kernelspec": {
      "name": "python3",
      "display_name": "Python 3"
    },
    "language_info": {
      "name": "python"
    }
  },
  "cells": [
    {
      "cell_type": "code",
      "execution_count": 1,
      "metadata": {
        "id": "uMBNHXxTqRyF"
      },
      "outputs": [],
      "source": [
        "import numpy as np\n",
        "import pandas as pd\n",
        "from google.colab import drive\n",
        "import warnings\n",
        "warnings.simplefilter(action='ignore', category=FutureWarning)\n",
        "import json\n",
        "TOLERANCE = 1e-10\n",
        "import pickle\n",
        "import statistics\n",
        "import matplotlib.pyplot as plt\n",
        "from matplotlib import pyplot as plt, dates as mdates\n",
        "from scipy.stats import skew, kurtosis\n",
        "import statsmodels.api as sm\n",
        "from scipy import stats\n",
        "import seaborn as sns"
      ]
    },
    {
      "cell_type": "code",
      "source": [
        "drive.mount('/content/drive')"
      ],
      "metadata": {
        "colab": {
          "base_uri": "https://localhost:8080/"
        },
        "id": "pvGokmIEqXZA",
        "outputId": "b7c1ef03-3dc6-4148-b4ff-a0841ebb105a"
      },
      "execution_count": 2,
      "outputs": [
        {
          "output_type": "stream",
          "name": "stdout",
          "text": [
            "Mounted at /content/drive\n"
          ]
        }
      ]
    },
    {
      "cell_type": "code",
      "source": [
        "fff = pd.read_csv('/content/drive/MyDrive/_Data_/ffm.csv', index_col = \"dateff\", parse_dates = True)[1:]\n",
        "with open(\"/content/drive/MyDrive/_Data_/dates.json\", \"rb\") as data:\n",
        "    plot_dates = pickle.load(data)[12:]\n",
        "\n",
        "rets = fff[\"mktrf\"].values"
      ],
      "metadata": {
        "id": "LXT5nGxcqani"
      },
      "execution_count": 3,
      "outputs": []
    },
    {
      "cell_type": "markdown",
      "source": [
        "**Full Sample**"
      ],
      "metadata": {
        "id": "-o-81ZR-rXF4"
      }
    },
    {
      "cell_type": "code",
      "source": [
        "std = statistics.pstdev(rets) * np.sqrt(12) * 100\n",
        "mean = np.mean(rets) * 12 * 100\n",
        "skewness = skew(rets)\n",
        "kurt = kurtosis(rets)\n",
        "max = np.max(rets) * 100\n",
        "min = np.min(rets) * 100\n",
        "std_negative = statistics.pstdev([ret for ret in rets if ret < 0])  * np.sqrt(12) * 100\n",
        "\n",
        "print(\"Standard Deviation: \" + str(std) + \"%\")\n",
        "print(\"Average Annual Return: \" + str(mean) + \"%\")\n",
        "print(\"Sharpe Ratio: \" + str(mean/std))\n",
        "print(\"Sortino Ratio: \" + str(mean/std_negative))\n",
        "print(\"Largest Gain: \" + str(max) + \"%\")\n",
        "print(\"Largest Loss: \" + str(min) + \"%\") \n",
        "print(\"Skewness: \" + str(skewness))\n",
        "print(\"Kurtosis: \" + str(kurt))"
      ],
      "metadata": {
        "colab": {
          "base_uri": "https://localhost:8080/"
        },
        "id": "X-c-tv-6qolw",
        "outputId": "0a9612dd-919a-4f76-88ea-bc0e14cced81"
      },
      "execution_count": 4,
      "outputs": [
        {
          "output_type": "stream",
          "name": "stdout",
          "text": [
            "Standard Deviation: 15.9116775173883%\n",
            "Average Annual Return: 7.98951724137931%\n",
            "Sharpe Ratio: 0.502116589067894\n",
            "Sortino Ratio: 0.6784677039995108\n",
            "Largest Gain: 13.65%\n",
            "Largest Loss: -17.23%\n",
            "Skewness: -0.6176916566152515\n",
            "Kurtosis: 1.1406688140924874\n"
          ]
        }
      ]
    },
    {
      "cell_type": "code",
      "source": [
        "cum_ret = 1\n",
        "cum_rets = [1]\n",
        "for ret in rets:\n",
        "  cum_ret = cum_ret * (1 + ret)\n",
        "  cum_rets.append(cum_ret)\n",
        "\n",
        "max_ret = 1\n",
        "drawdowns = []\n",
        "for ret in cum_rets:\n",
        "  max_ret = np.max([max_ret, ret])\n",
        "  drawdowns.append(-(max_ret - ret) / max_ret * 100)\n",
        "\n",
        "df = pd.DataFrame(cum_rets, plot_dates, columns = [\"Cumulative Return\"])\n",
        "df[\"Drawdown\"] = drawdowns\n",
        "\n",
        "print(\"Largest Drawdown: \" + str(round(np.min(drawdowns), 2)) + \"%\")\n",
        "print(\"Calmar Ratio: \" + str(mean / -np.min(drawdowns)))"
      ],
      "metadata": {
        "colab": {
          "base_uri": "https://localhost:8080/"
        },
        "id": "VgnB5zOoq9_A",
        "outputId": "e795e963-a0a8-4b53-97f7-89108dac4147"
      },
      "execution_count": 5,
      "outputs": [
        {
          "output_type": "stream",
          "name": "stdout",
          "text": [
            "Largest Drawdown: -54.36%\n",
            "Calmar Ratio: 0.14696663217861677\n"
          ]
        }
      ]
    },
    {
      "cell_type": "markdown",
      "source": [
        "**First Half**"
      ],
      "metadata": {
        "id": "oT5s-zo2rWYZ"
      }
    },
    {
      "cell_type": "code",
      "source": [
        "rets = fff[\"mktrf\"][:\"2010\"].values\n",
        "\n",
        "std = statistics.pstdev(rets) * np.sqrt(12) * 100\n",
        "mean = np.mean(rets) * 12 * 100\n",
        "skewness = skew(rets)\n",
        "kurt = kurtosis(rets)\n",
        "max = np.max(rets) * 100\n",
        "min = np.min(rets) * 100\n",
        "std_negative = statistics.pstdev([ret for ret in rets if ret < 0])  * np.sqrt(12) * 100\n",
        "\n",
        "print(\"Standard Deviation: \" + str(std) + \"%\")\n",
        "print(\"Average Annual Return: \" + str(mean) + \"%\")\n",
        "print(\"Sharpe Ratio: \" + str(mean/std))\n",
        "print(\"Sortino Ratio: \" + str(mean/std_negative))\n",
        "print(\"Largest Gain: \" + str(max) + \"%\")\n",
        "print(\"Largest Loss: \" + str(min) + \"%\") \n",
        "print(\"Skewness: \" + str(skewness))\n",
        "print(\"Kurtosis: \" + str(kurt))"
      ],
      "metadata": {
        "colab": {
          "base_uri": "https://localhost:8080/"
        },
        "id": "XDiCG7DtrV1C",
        "outputId": "8a3f1031-f6f6-4a54-c32f-ed67eb3c606c"
      },
      "execution_count": 6,
      "outputs": [
        {
          "output_type": "stream",
          "name": "stdout",
          "text": [
            "Standard Deviation: 17.301592590887733%\n",
            "Average Annual Return: 3.011612903225806%\n",
            "Sharpe Ratio: 0.17406564669728375\n",
            "Sortino Ratio: 0.24253538194425328\n",
            "Largest Gain: 10.18%\n",
            "Largest Loss: -17.23%\n",
            "Skewness: -0.6659603839745126\n",
            "Kurtosis: 0.5886895578384586\n"
          ]
        }
      ]
    },
    {
      "cell_type": "code",
      "source": [
        "cum_ret = 1\n",
        "cum_rets = [1]\n",
        "for ret in rets:\n",
        "  cum_ret = cum_ret * (1 + ret)\n",
        "  cum_rets.append(cum_ret)\n",
        "\n",
        "max_ret = 1\n",
        "drawdowns = []\n",
        "for ret in cum_rets:\n",
        "  max_ret = np.max([max_ret, ret])\n",
        "  drawdowns.append(-(max_ret - ret) / max_ret * 100)\n",
        "\n",
        "df = pd.DataFrame(cum_rets, columns = [\"Cumulative Return\"])\n",
        "df[\"Drawdown\"] = drawdowns\n",
        "\n",
        "print(\"Largest Drawdown: \" + str(round(np.min(drawdowns), 2)) + \"%\")\n",
        "print(\"Calmar Ratio: \" + str(mean / -np.min(drawdowns)))"
      ],
      "metadata": {
        "colab": {
          "base_uri": "https://localhost:8080/"
        },
        "id": "U5cZMv__rnY6",
        "outputId": "adff6a71-9cf5-42ba-e7e5-bfcbd786c8ab"
      },
      "execution_count": 7,
      "outputs": [
        {
          "output_type": "stream",
          "name": "stdout",
          "text": [
            "Largest Drawdown: -54.36%\n",
            "Calmar Ratio: 0.05539841675544738\n"
          ]
        }
      ]
    },
    {
      "cell_type": "markdown",
      "source": [
        "**Second Half**"
      ],
      "metadata": {
        "id": "pNvubN-_rz4z"
      }
    },
    {
      "cell_type": "code",
      "source": [
        "rets = fff[\"mktrf\"][\"2010\":].values\n",
        "\n",
        "std = statistics.pstdev(rets) * np.sqrt(12) * 100\n",
        "mean = np.mean(rets) * 12 * 100\n",
        "skewness = skew(rets)\n",
        "kurt = kurtosis(rets)\n",
        "max = np.max(rets) * 100\n",
        "min = np.min(rets) * 100\n",
        "std_negative = statistics.pstdev([ret for ret in rets if ret < 0])  * np.sqrt(12) * 100\n",
        "\n",
        "print(\"Standard Deviation: \" + str(std) + \"%\")\n",
        "print(\"Average Annual Return: \" + str(mean) + \"%\")\n",
        "print(\"Sharpe Ratio: \" + str(mean/std))\n",
        "print(\"Sortino Ratio: \" + str(mean/std_negative))\n",
        "print(\"Largest Gain: \" + str(max) + \"%\")\n",
        "print(\"Largest Loss: \" + str(min) + \"%\") \n",
        "print(\"Skewness: \" + str(skewness))\n",
        "print(\"Kurtosis: \" + str(kurt))"
      ],
      "metadata": {
        "colab": {
          "base_uri": "https://localhost:8080/"
        },
        "id": "6N8S8B8xr1E5",
        "outputId": "c2685f28-6bb6-4df5-c3d3-00085d68c4fe"
      },
      "execution_count": 8,
      "outputs": [
        {
          "output_type": "stream",
          "name": "stdout",
          "text": [
            "Standard Deviation: 14.436471829879519%\n",
            "Average Annual Return: 14.0465306122449%\n",
            "Sharpe Ratio: 0.9729891609092779\n",
            "Sortino Ratio: 1.3852672072922099\n",
            "Largest Gain: 13.65%\n",
            "Largest Loss: -13.389999999999999%\n",
            "Skewness: -0.30471963124437157\n",
            "Kurtosis: 1.1508287912288644\n"
          ]
        }
      ]
    },
    {
      "cell_type": "code",
      "source": [
        "cum_ret = 1\n",
        "cum_rets = [1]\n",
        "for ret in rets:\n",
        "  cum_ret = cum_ret * (1 + ret)\n",
        "  cum_rets.append(cum_ret)\n",
        "\n",
        "max_ret = 1\n",
        "drawdowns = []\n",
        "for ret in cum_rets:\n",
        "  max_ret = np.max([max_ret, ret])\n",
        "  drawdowns.append(-(max_ret - ret) / max_ret * 100)\n",
        "\n",
        "df = pd.DataFrame(cum_rets, columns = [\"Cumulative Return\"])\n",
        "df[\"Drawdown\"] = drawdowns\n",
        "\n",
        "print(\"Largest Drawdown: \" + str(round(np.min(drawdowns), 2)) + \"%\")\n",
        "print(\"Calmar Ratio: \" + str(mean / -np.min(drawdowns)))"
      ],
      "metadata": {
        "colab": {
          "base_uri": "https://localhost:8080/"
        },
        "id": "Sgt37HT8r7Kw",
        "outputId": "9cb4876e-1e57-41af-e86e-1e54e389b9a4"
      },
      "execution_count": 9,
      "outputs": [
        {
          "output_type": "stream",
          "name": "stdout",
          "text": [
            "Largest Drawdown: -20.52%\n",
            "Calmar Ratio: 0.6845648631216282\n"
          ]
        }
      ]
    },
    {
      "cell_type": "markdown",
      "source": [
        "**Dot-com bubble crash (1998-2003)**"
      ],
      "metadata": {
        "id": "BJTz9HPXsBAl"
      }
    },
    {
      "cell_type": "code",
      "source": [
        "rets = fff[\"mktrf\"][\"1998\":\"2004\"].values\n",
        "\n",
        "std = statistics.pstdev(rets) * np.sqrt(12) * 100\n",
        "mean = np.mean(rets) * 12 * 100\n",
        "skewness = skew(rets)\n",
        "kurt = kurtosis(rets)\n",
        "max = np.max(rets) * 100\n",
        "min = np.min(rets) * 100\n",
        "std_negative = statistics.pstdev([ret for ret in rets if ret < 0])  * np.sqrt(12) * 100\n",
        "\n",
        "print(\"Standard Deviation: \" + str(std) + \"%\")\n",
        "print(\"Average Annual Return: \" + str(mean) + \"%\")\n",
        "print(\"Sharpe Ratio: \" + str(mean/std))\n",
        "print(\"Sortino Ratio: \" + str(mean/std_negative))\n",
        "print(\"Largest Gain: \" + str(max) + \"%\")\n",
        "print(\"Largest Loss: \" + str(min) + \"%\") \n",
        "print(\"Skewness: \" + str(skewness))\n",
        "print(\"Kurtosis: \" + str(kurt))"
      ],
      "metadata": {
        "colab": {
          "base_uri": "https://localhost:8080/"
        },
        "id": "RZfkyuuBsCub",
        "outputId": "379a612d-927d-430c-d809-0518786934f2"
      },
      "execution_count": 10,
      "outputs": [
        {
          "output_type": "stream",
          "name": "stdout",
          "text": [
            "Standard Deviation: 17.736231530351752%\n",
            "Average Annual Return: 3.3527710843373484%\n",
            "Sharpe Ratio: 0.18903514416801565\n",
            "Sortino Ratio: 0.2848966107710643\n",
            "Largest Gain: 8.219999999999999%\n",
            "Largest Loss: -16.08%\n",
            "Skewness: -0.6144184952190788\n",
            "Kurtosis: 0.06228879472803639\n"
          ]
        }
      ]
    },
    {
      "cell_type": "code",
      "source": [
        "cum_ret = 1\n",
        "cum_rets = [1]\n",
        "for ret in rets:\n",
        "  cum_ret = cum_ret * (1 + ret)\n",
        "  cum_rets.append(cum_ret)\n",
        "\n",
        "max_ret = 1\n",
        "drawdowns = []\n",
        "for ret in cum_rets:\n",
        "  max_ret = np.max([max_ret, ret])\n",
        "  drawdowns.append(-(max_ret - ret) / max_ret * 100)\n",
        "\n",
        "df = pd.DataFrame(cum_rets, columns = [\"Cumulative Return\"])\n",
        "df[\"Drawdown\"] = drawdowns\n",
        "\n",
        "print(\"Largest Drawdown: \" + str(round(np.min(drawdowns), 2)) + \"%\")\n",
        "print(\"Calmar Ratio: \" + str(mean / -np.min(drawdowns)))"
      ],
      "metadata": {
        "colab": {
          "base_uri": "https://localhost:8080/"
        },
        "id": "zYFkkZl6sI8q",
        "outputId": "8ce3e183-ba7a-4993-e271-dce2f9e5b263"
      },
      "execution_count": 11,
      "outputs": [
        {
          "output_type": "stream",
          "name": "stdout",
          "text": [
            "Largest Drawdown: -50.14%\n",
            "Calmar Ratio: 0.06686963455153497\n"
          ]
        }
      ]
    },
    {
      "cell_type": "markdown",
      "source": [
        "**2007-2008 Market Crash (2007-2010)**\n"
      ],
      "metadata": {
        "id": "WdLwHVCYsLdp"
      }
    },
    {
      "cell_type": "code",
      "source": [
        "rets = fff[\"mktrf\"][\"2007\":\"2011\"].values\n",
        "\n",
        "std = statistics.pstdev(rets) * np.sqrt(12) * 100\n",
        "mean = np.mean(rets) * 12 * 100\n",
        "skewness = skew(rets)\n",
        "kurt = kurtosis(rets)\n",
        "max = np.max(rets) * 100\n",
        "min = np.min(rets) * 100\n",
        "std_negative = statistics.pstdev([ret for ret in rets if ret < 0])  * np.sqrt(12) * 100\n",
        "\n",
        "print(\"Standard Deviation: \" + str(std) + \"%\")\n",
        "print(\"Average Annual Return: \" + str(mean) + \"%\")\n",
        "print(\"Sharpe Ratio: \" + str(mean/std))\n",
        "print(\"Sortino Ratio: \" + str(mean/std_negative))\n",
        "print(\"Largest Gain: \" + str(max) + \"%\")\n",
        "print(\"Largest Loss: \" + str(min) + \"%\") \n",
        "print(\"Skewness: \" + str(skewness))\n",
        "print(\"Kurtosis: \" + str(kurt))"
      ],
      "metadata": {
        "colab": {
          "base_uri": "https://localhost:8080/"
        },
        "id": "XGpPYw3ssOCg",
        "outputId": "a2b15493-6954-4c68-e2ef-920721879545"
      },
      "execution_count": 12,
      "outputs": [
        {
          "output_type": "stream",
          "name": "stdout",
          "text": [
            "Standard Deviation: 19.155842972837295%\n",
            "Average Annual Return: 0.8399999999999991%\n",
            "Sharpe Ratio: 0.043850850165722634\n",
            "Sortino Ratio: 0.06350436310714816\n",
            "Largest Gain: 11.35%\n",
            "Largest Loss: -17.23%\n",
            "Skewness: -0.4528449146172141\n",
            "Kurtosis: 0.35503792464071404\n"
          ]
        }
      ]
    },
    {
      "cell_type": "code",
      "source": [
        "cum_ret = 1\n",
        "cum_rets = [1]\n",
        "for ret in rets:\n",
        "  cum_ret = cum_ret * (1 + ret)\n",
        "  cum_rets.append(cum_ret)\n",
        "\n",
        "max_ret = 1\n",
        "drawdowns = []\n",
        "for ret in cum_rets:\n",
        "  max_ret = np.max([max_ret, ret])\n",
        "  drawdowns.append(-(max_ret - ret) / max_ret * 100)\n",
        "\n",
        "df = pd.DataFrame(cum_rets, columns = [\"Cumulative Return\"])\n",
        "df[\"Drawdown\"] = drawdowns\n",
        "\n",
        "print(\"Largest Drawdown: \" + str(round(np.min(drawdowns), 2)) + \"%\")\n",
        "print(\"Calmar Ratio: \" + str(mean / -np.min(drawdowns)))"
      ],
      "metadata": {
        "colab": {
          "base_uri": "https://localhost:8080/"
        },
        "id": "3Fx9rbZesTgF",
        "outputId": "a0f3ecf6-e270-4845-a27f-6abf94ed5a60"
      },
      "execution_count": 13,
      "outputs": [
        {
          "output_type": "stream",
          "name": "stdout",
          "text": [
            "Largest Drawdown: -51.51%\n",
            "Calmar Ratio: 0.016307220882228655\n"
          ]
        }
      ]
    },
    {
      "cell_type": "markdown",
      "source": [
        "**Covid**"
      ],
      "metadata": {
        "id": "ySC_RYFE53cd"
      }
    },
    {
      "cell_type": "code",
      "source": [
        "rets = fff[\"mktrf\"][\"2020\":\"2021\"].values\n",
        "\n",
        "std = statistics.pstdev(rets) * np.sqrt(12) * 100\n",
        "mean = np.mean(rets) * 12 * 100\n",
        "skewness = skew(rets)\n",
        "kurt = kurtosis(rets)\n",
        "max = np.max(rets) * 100\n",
        "min = np.min(rets) * 100\n",
        "std_negative = statistics.pstdev([ret for ret in rets if ret < 0])  * np.sqrt(12) * 100\n",
        "\n",
        "print(\"Standard Deviation: \" + str(std) + \"%\")\n",
        "print(\"Average Annual Return: \" + str(mean) + \"%\")\n",
        "print(\"Sharpe Ratio: \" + str(mean/std))\n",
        "print(\"Sortino Ratio: \" + str(mean/std_negative))\n",
        "print(\"Largest Gain: \" + str(max) + \"%\")\n",
        "print(\"Largest Loss: \" + str(min) + \"%\") \n",
        "print(\"Skewness: \" + str(skewness))\n",
        "print(\"Kurtosis: \" + str(kurt))"
      ],
      "metadata": {
        "colab": {
          "base_uri": "https://localhost:8080/"
        },
        "id": "nLOHtfe654TA",
        "outputId": "38869f69-1a7a-494e-9e91-d093071a8155"
      },
      "execution_count": 14,
      "outputs": [
        {
          "output_type": "stream",
          "name": "stdout",
          "text": [
            "Standard Deviation: 19.986109342907802%\n",
            "Average Annual Return: 23.32%\n",
            "Sharpe Ratio: 1.16681038814967\n",
            "Sortino Ratio: 1.5769336017870341\n",
            "Largest Gain: 13.65%\n",
            "Largest Loss: -13.389999999999999%\n",
            "Skewness: -0.42687364399326483\n",
            "Kurtosis: 0.8246496664436891\n"
          ]
        }
      ]
    },
    {
      "cell_type": "code",
      "source": [
        "cum_ret = 1\n",
        "cum_rets = [1]\n",
        "for ret in rets:\n",
        "  cum_ret = cum_ret * (1 + ret)\n",
        "  cum_rets.append(cum_ret)\n",
        "\n",
        "max_ret = 1\n",
        "drawdowns = []\n",
        "for ret in cum_rets:\n",
        "  max_ret = np.max([max_ret, ret])\n",
        "  drawdowns.append(-(max_ret - ret) / max_ret * 100)\n",
        "\n",
        "df = pd.DataFrame(cum_rets, columns = [\"Cumulative Return\"])\n",
        "df[\"Drawdown\"] = drawdowns\n",
        "\n",
        "print(\"Largest Drawdown: \" + str(round(np.min(drawdowns), 2)) + \"%\")\n",
        "print(\"Calmar Ratio: \" + str(mean / -np.min(drawdowns)))"
      ],
      "metadata": {
        "colab": {
          "base_uri": "https://localhost:8080/"
        },
        "id": "asZpVpgN5-WO",
        "outputId": "e0b72c3a-2082-43ac-c38d-a785267125d4"
      },
      "execution_count": 15,
      "outputs": [
        {
          "output_type": "stream",
          "name": "stdout",
          "text": [
            "Largest Drawdown: -20.52%\n",
            "Calmar Ratio: 1.136512143011306\n"
          ]
        }
      ]
    }
  ]
}