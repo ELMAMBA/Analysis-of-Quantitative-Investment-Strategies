{
  "nbformat": 4,
  "nbformat_minor": 0,
  "metadata": {
    "colab": {
      "provenance": []
    },
    "kernelspec": {
      "name": "python3",
      "display_name": "Python 3"
    },
    "language_info": {
      "name": "python"
    }
  },
  "cells": [
    {
      "cell_type": "markdown",
      "source": [
        "**Load Libraries**"
      ],
      "metadata": {
        "id": "oZ8Am_JJidJX"
      }
    },
    {
      "cell_type": "code",
      "source": [
        "import numpy as np\n",
        "import pandas as pd\n",
        "from google.colab import drive\n",
        "import warnings\n",
        "warnings.simplefilter(action='ignore', category=FutureWarning)\n",
        "import json\n",
        "TOLERANCE = 1e-10\n",
        "import pickle\n",
        "import statistics\n",
        "import matplotlib.pyplot as plt\n",
        "from matplotlib import pyplot as plt, dates as mdates\n",
        "from scipy.stats import skew, kurtosis, norm\n",
        "import statsmodels.api as sm\n",
        "from scipy import stats\n",
        "import seaborn as sns"
      ],
      "metadata": {
        "id": "CI4MM3SXbhAw"
      },
      "execution_count": null,
      "outputs": []
    },
    {
      "cell_type": "code",
      "source": [
        "drive.mount('/content/drive')\n"
      ],
      "metadata": {
        "id": "9103USA8blLs"
      },
      "execution_count": null,
      "outputs": []
    },
    {
      "cell_type": "markdown",
      "source": [
        "**Load Data, and compute volatility signals**"
      ],
      "metadata": {
        "id": "uhho8lPzigNT"
      }
    },
    {
      "cell_type": "code",
      "source": [
        "target = 0.18\n",
        "fff = pd.read_csv('/content/drive/MyDrive/_Data_/ffm.csv', index_col = \"dateff\", parse_dates = True)[1:]\n",
        "vix = pd.read_csv('/content/drive/MyDrive/_Data_/^VIX.csv', index_col = \"Date\", parse_dates = True)[\"Adj Close\"]\n",
        "rf = fff[\"rf\"]\n",
        "signals = []\n",
        "for value in vix.values:\n",
        "  if value > 30:\n",
        "    signals.append(\"High\")\n",
        "  elif 15 < value <= 30:\n",
        "    signals.append(\"Normal\")\n",
        "  else:\n",
        "    signals.append(\"Low\")"
      ],
      "metadata": {
        "id": "wbjZ2crAh4Pw"
      },
      "execution_count": null,
      "outputs": []
    },
    {
      "cell_type": "code",
      "execution_count": null,
      "metadata": {
        "id": "1t3jsJC4bct4"
      },
      "outputs": [],
      "source": [
        "with open(\"/content/drive/MyDrive/_Data_/port_rets.json\", \"rb\") as data:\n",
        "    port_rets = pickle.load(data)[:-1] #the data only goes till march 2022, however the algorithm still calculates the return for april 2022, which is 0% given there is no data. So, we should ignore it\n",
        "\n",
        "with open(\"/content/drive/MyDrive/_Data_/dates.json\", \"rb\") as data:\n",
        "    plot_dates = pickle.load(data)[12:] #We only have returns starting in the 13th month\n"
      ]
    },
    {
      "cell_type": "markdown",
      "source": [
        "**Full Sample**"
      ],
      "metadata": {
        "id": "uqqQx4KIcqET"
      }
    },
    {
      "cell_type": "code",
      "source": [
        "excess_returns = pd.DataFrame(port_rets, index = plot_dates[1:], columns = [\"Strategy Returns\"]) \n",
        "excess_returns[\"Risk Free\"] = rf.values\n",
        "excess_returns[\"Excess Returns\"] = excess_returns[\"Strategy Returns\"] - excess_returns[\"Risk Free\"]\n",
        "rets = excess_returns[\"Excess Returns\"].values\n",
        "\n",
        "std = statistics.pstdev(rets) * np.sqrt(12) * 100\n",
        "mean = np.mean(rets) * 12 * 100\n",
        "skewness = skew(rets)\n",
        "kurt = kurtosis(rets)\n",
        "max = np.max(rets) * 100\n",
        "min = np.min(rets) * 100\n",
        "std_negative = statistics.pstdev([ret for ret in rets if ret < 0])  * np.sqrt(12) * 100\n",
        "\n",
        "print(\"Standard Deviation: \" + str(std) + \"%\")\n",
        "print(\"Average Annual Return: \" + str(mean) + \"%\")\n",
        "print(\"Sharpe Ratio: \" + str(mean/std))\n",
        "print(\"Sortino Ratio: \" + str(mean/std_negative))\n",
        "print(\"Largest Gain: \" + str(max) + \"%\")\n",
        "print(\"Largest Loss: \" + str(min) + \"%\") \n",
        "print(\"Skewness: \" + str(skewness))\n",
        "print(\"Kurtosis: \" + str(kurt))"
      ],
      "metadata": {
        "id": "PTfoNl0TccTT"
      },
      "execution_count": null,
      "outputs": []
    },
    {
      "cell_type": "code",
      "source": [
        "cum_ret = 1\n",
        "cum_rets = [1]\n",
        "for ret in rets:\n",
        "  cum_ret = cum_ret * (1 + ret)\n",
        "  cum_rets.append(cum_ret)\n",
        "\n",
        "max_ret = 1\n",
        "drawdowns = []\n",
        "for ret in cum_rets:\n",
        "  max_ret = np.max([max_ret, ret])\n",
        "  drawdowns.append(-(max_ret - ret) / max_ret * 100)\n",
        "\n",
        "df = pd.DataFrame(cum_rets, plot_dates, columns = [\"Cumulative Return\"])\n",
        "df[\"Drawdown\"] = drawdowns\n",
        "\n",
        "print(\"Largest Drawdown: \" + str(round(np.min(drawdowns), 2)) + \"%\")\n",
        "print(\"Calmar Ratio: \" + str(mean / -np.min(drawdowns)))"
      ],
      "metadata": {
        "id": "Swys7W5WcvlV"
      },
      "execution_count": null,
      "outputs": []
    },
    {
      "cell_type": "code",
      "source": [
        "total = len(rets) - 1\n",
        "positive = len([ret for ret in rets if ret > 0.0])\n",
        "print(\"%Positive Days: \" + str(positive/total * 100))"
      ],
      "metadata": {
        "id": "mot-5kHNcwkm"
      },
      "execution_count": null,
      "outputs": []
    },
    {
      "cell_type": "code",
      "source": [
        "excess_returns[\"Volatility\"] = signals[1:]\n",
        "mean_low = np.mean(excess_returns[excess_returns[\"Volatility\"] == \"Low\"][\"Excess Returns\"]) * 12\n",
        "mean_medium = np.mean(excess_returns[excess_returns[\"Volatility\"] == \"Normal\"][\"Excess Returns\"]) * 12\n",
        "mean_high = np.mean(excess_returns[excess_returns[\"Volatility\"] == \"High\"][\"Excess Returns\"]) * 12\n",
        "\n",
        "std_low = excess_returns[excess_returns[\"Volatility\"] == \"Low\"][\"Excess Returns\"].std() * np.sqrt(12)\n",
        "std_medium = excess_returns[excess_returns[\"Volatility\"] == \"Normal\"][\"Excess Returns\"].std() * np.sqrt(12)\n",
        "std_high = excess_returns[excess_returns[\"Volatility\"] == \"High\"][\"Excess Returns\"].std() * np.sqrt(12)\n",
        "\n",
        "sharpe_low = mean_low / std_low\n",
        "sharpe_medium = mean_medium / std_medium\n",
        "sharpe_high = mean_high / std_high\n",
        "\n",
        "print(\"Volatility     Return     Stdev    Sharpe Ratio\")\n",
        "print(\"    Low         \" + str(round(mean_low, 3)) + \"     \" + str(round(std_low, 3)) + \"       \" + str(round(sharpe_low, 3)))\n",
        "print(\"    Medium      \" + str(round(mean_medium, 3)) + \"     \" + str(round(std_medium, 3)) + \"       \" + str(round(sharpe_medium, 3)))\n",
        "print(\"    High        \" + str(round(mean_high, 3)) + \"     \" + str(round(std_high, 3)) + \"        \" + str(round(sharpe_high, 3)))"
      ],
      "metadata": {
        "id": "knlhCRm3OYKk"
      },
      "execution_count": null,
      "outputs": []
    },
    {
      "cell_type": "markdown",
      "source": [
        "**First Half**"
      ],
      "metadata": {
        "id": "-ZRs-CkSc14l"
      }
    },
    {
      "cell_type": "code",
      "source": [
        "rets = excess_returns[\"Excess Returns\"][:\"2010\"].values\n",
        "\n",
        "std = statistics.pstdev(rets) * np.sqrt(12) * 100\n",
        "mean = np.mean(rets) * 12 * 100\n",
        "skewness = skew(rets)\n",
        "kurt = kurtosis(rets)\n",
        "max = np.max(rets) * 100\n",
        "min = np.min(rets) * 100\n",
        "std_negative = statistics.pstdev([ret for ret in rets if ret < 0])  * np.sqrt(12) * 100\n",
        "\n",
        "print(\"Standard Deviation: \" + str(std) + \"%\")\n",
        "print(\"Average Annual Return: \" + str(mean) + \"%\")\n",
        "print(\"Sharpe Ratio: \" + str(mean/std))\n",
        "print(\"Sortino Ratio: \" + str(mean/std_negative))\n",
        "print(\"Largest Gain: \" + str(max) + \"%\")\n",
        "print(\"Largest Loss: \" + str(min) + \"%\") \n",
        "print(\"Skewness: \" + str(skewness))\n",
        "print(\"Kurtosis: \" + str(kurt))"
      ],
      "metadata": {
        "id": "Gx7oIcbvdCeQ"
      },
      "execution_count": null,
      "outputs": []
    },
    {
      "cell_type": "code",
      "source": [
        "cum_ret = 1\n",
        "cum_rets = [1]\n",
        "for ret in rets:\n",
        "  cum_ret = cum_ret * (1 + ret)\n",
        "  cum_rets.append(cum_ret)\n",
        "\n",
        "max_ret = 1\n",
        "drawdowns = []\n",
        "for ret in cum_rets:\n",
        "  max_ret = np.max([max_ret, ret])\n",
        "  drawdowns.append(-(max_ret - ret) / max_ret * 100)\n",
        "\n",
        "df = pd.DataFrame(cum_rets, plot_dates[:144], columns = [\"Cumulative Return\"])\n",
        "df[\"Drawdown\"] = drawdowns\n",
        "\n",
        "print(\"Largest Drawdown: \" + str(round(np.min(drawdowns), 2)) + \"%\")\n",
        "print(\"Calmar Ratio: \" + str(mean / -np.min(drawdowns)))"
      ],
      "metadata": {
        "id": "8xm9RYIJdnKE"
      },
      "execution_count": null,
      "outputs": []
    },
    {
      "cell_type": "code",
      "source": [
        "total = len(rets) - 1\n",
        "positive = len([ret for ret in rets if ret > 0.0])\n",
        "print(\"%Positive Days: \" + str(positive/total * 100))"
      ],
      "metadata": {
        "id": "q0crT61cesSJ"
      },
      "execution_count": null,
      "outputs": []
    },
    {
      "cell_type": "markdown",
      "source": [
        "**Second Half**"
      ],
      "metadata": {
        "id": "1uZIA9dufDDO"
      }
    },
    {
      "cell_type": "code",
      "source": [
        "rets = excess_returns[\"Excess Returns\"][\"2010\":].values\n",
        "\n",
        "std = statistics.pstdev(rets) * np.sqrt(12) * 100\n",
        "mean = np.mean(rets) * 12 * 100\n",
        "skewness = skew(rets)\n",
        "kurt = kurtosis(rets)\n",
        "max = np.max(rets) * 100\n",
        "min = np.min(rets) * 100\n",
        "std_negative = statistics.pstdev([ret for ret in rets if ret < 0])  * np.sqrt(12) * 100\n",
        "\n",
        "print(\"Standard Deviation: \" + str(std) + \"%\")\n",
        "print(\"Average Annual Return: \" + str(mean) + \"%\")\n",
        "print(\"Sharpe Ratio: \" + str(mean/std))\n",
        "print(\"Sortino Ratio: \" + str(mean/std_negative))\n",
        "print(\"Largest Gain: \" + str(max) + \"%\")\n",
        "print(\"Largest Loss: \" + str(min) + \"%\") \n",
        "print(\"Skewness: \" + str(skewness))\n",
        "print(\"Kurtosis: \" + str(kurt))"
      ],
      "metadata": {
        "id": "B1nGitYpfCmH"
      },
      "execution_count": null,
      "outputs": []
    },
    {
      "cell_type": "code",
      "source": [
        "cum_ret = 1\n",
        "cum_rets = [1]\n",
        "for ret in rets:\n",
        "  cum_ret = cum_ret * (1 + ret)\n",
        "  cum_rets.append(cum_ret)\n",
        "\n",
        "max_ret = 1\n",
        "drawdowns = []\n",
        "for ret in cum_rets:\n",
        "  max_ret = np.max([max_ret, ret])\n",
        "  drawdowns.append(-(max_ret - ret) / max_ret * 100)\n",
        "\n",
        "df = pd.DataFrame(cum_rets, plot_dates[143:], columns = [\"Cumulative Return\"])\n",
        "df[\"Drawdown\"] = drawdowns\n",
        "\n",
        "print(\"Largest Drawdown: \" + str(round(np.min(drawdowns), 2)) + \"%\")\n",
        "print(\"Calmar Ratio: \" + str(mean / -np.min(drawdowns)))"
      ],
      "metadata": {
        "id": "kwXH6_Y-fcDu"
      },
      "execution_count": null,
      "outputs": []
    },
    {
      "cell_type": "code",
      "source": [
        "total = len(rets) - 1\n",
        "positive = len([ret for ret in rets if ret > 0.0])\n",
        "print(\"%Positive Days: \" + str(positive/total * 100))"
      ],
      "metadata": {
        "id": "xnGEnFVnfkZs"
      },
      "execution_count": null,
      "outputs": []
    },
    {
      "cell_type": "markdown",
      "source": [
        "**Dot-com bubble (1998 - 2003)**"
      ],
      "metadata": {
        "id": "Vjp2Sm2vjABY"
      }
    },
    {
      "cell_type": "code",
      "source": [
        "rets = excess_returns[\"Excess Returns\"][\"1998\":\"2004\"].values\n",
        "\n",
        "std = statistics.pstdev(rets) * np.sqrt(12) * 100\n",
        "mean = np.mean(rets) * 12 * 100\n",
        "skewness = skew(rets)\n",
        "kurt = kurtosis(rets)\n",
        "max = np.max(rets) * 100\n",
        "min = np.min(rets) * 100\n",
        "std_negative = statistics.pstdev([ret for ret in rets if ret < 0])  * np.sqrt(12) * 100\n",
        "\n",
        "print(\"Standard Deviation: \" + str(std) + \"%\")\n",
        "print(\"Average Annual Return: \" + str(mean) + \"%\")\n",
        "print(\"Sharpe Ratio: \" + str(mean/std))\n",
        "print(\"Sortino Ratio: \" + str(mean/std_negative))\n",
        "print(\"Largest Gain: \" + str(max) + \"%\")\n",
        "print(\"Largest Loss: \" + str(min) + \"%\") \n",
        "print(\"Skewness: \" + str(skewness))\n",
        "print(\"Kurtosis: \" + str(kurt))"
      ],
      "metadata": {
        "id": "L-72W-aui_Y3"
      },
      "execution_count": null,
      "outputs": []
    },
    {
      "cell_type": "code",
      "source": [
        "cum_ret = 1\n",
        "cum_rets = [1]\n",
        "for ret in rets:\n",
        "  cum_ret = cum_ret * (1 + ret)\n",
        "  cum_rets.append(cum_ret)\n",
        "\n",
        "max_ret = 1\n",
        "drawdowns = []\n",
        "for ret in cum_rets:\n",
        "  max_ret = np.max([max_ret, ret])\n",
        "  drawdowns.append(-(max_ret - ret) / max_ret * 100)\n",
        "\n",
        "df = pd.DataFrame(cum_rets, columns = [\"Cumulative Return\"])\n",
        "df[\"Drawdown\"] = drawdowns\n",
        "\n",
        "print(\"Largest Drawdown: \" + str(round(np.min(drawdowns), 2)) + \"%\")\n",
        "print(\"Calmar Ratio: \" + str(mean / -np.min(drawdowns)))"
      ],
      "metadata": {
        "id": "pJMwVa4Pj4MH"
      },
      "execution_count": null,
      "outputs": []
    },
    {
      "cell_type": "code",
      "source": [
        "total = len(rets) - 1\n",
        "positive = len([ret for ret in rets if ret > 0.0])\n",
        "print(\"%Positive Days: \" + str(positive/total * 100))"
      ],
      "metadata": {
        "id": "5fEaPg9JkDEv"
      },
      "execution_count": null,
      "outputs": []
    },
    {
      "cell_type": "markdown",
      "source": [
        "**2007-2008 Market Crash (2007-2010)**"
      ],
      "metadata": {
        "id": "lQMj_8AXkO6b"
      }
    },
    {
      "cell_type": "code",
      "source": [
        "rets = excess_returns[\"Excess Returns\"][\"2007\":\"2011\"].values\n",
        "\n",
        "std = statistics.pstdev(rets) * np.sqrt(12) * 100\n",
        "mean = np.mean(rets) * 12 * 100\n",
        "skewness = skew(rets)\n",
        "kurt = kurtosis(rets)\n",
        "max = np.max(rets) * 100\n",
        "min = np.min(rets) * 100\n",
        "std_negative = statistics.pstdev([ret for ret in rets if ret < 0])  * np.sqrt(12) * 100\n",
        "\n",
        "print(\"Standard Deviation: \" + str(std) + \"%\")\n",
        "print(\"Average Annual Return: \" + str(mean) + \"%\")\n",
        "print(\"Sharpe Ratio: \" + str(mean/std))\n",
        "print(\"Sortino Ratio: \" + str(mean/std_negative))\n",
        "print(\"Largest Gain: \" + str(max) + \"%\")\n",
        "print(\"Largest Loss: \" + str(min) + \"%\") \n",
        "print(\"Skewness: \" + str(skewness))\n",
        "print(\"Kurtosis: \" + str(kurt))"
      ],
      "metadata": {
        "id": "Q6Vwtkgdkdxd"
      },
      "execution_count": null,
      "outputs": []
    },
    {
      "cell_type": "code",
      "source": [
        "cum_ret = 1\n",
        "cum_rets = [1]\n",
        "for ret in rets:\n",
        "  cum_ret = cum_ret * (1 + ret)\n",
        "  cum_rets.append(cum_ret)\n",
        "\n",
        "max_ret = 1\n",
        "drawdowns = []\n",
        "for ret in cum_rets:\n",
        "  max_ret = np.max([max_ret, ret])\n",
        "  drawdowns.append(-(max_ret - ret) / max_ret * 100)\n",
        "\n",
        "df = pd.DataFrame(cum_rets, columns = [\"Cumulative Return\"])\n",
        "df[\"Drawdown\"] = drawdowns\n",
        "\n",
        "print(\"Largest Drawdown: \" + str(round(np.min(drawdowns), 2)) + \"%\")\n",
        "print(\"Calmar Ratio: \" + str(mean / -np.min(drawdowns)))"
      ],
      "metadata": {
        "id": "SSkaeZ1ik5ob"
      },
      "execution_count": null,
      "outputs": []
    },
    {
      "cell_type": "code",
      "source": [
        "total = len(rets) - 1\n",
        "positive = len([ret for ret in rets if ret > 0.0])\n",
        "print(\"%Positive Days: \" + str(positive/total * 100))"
      ],
      "metadata": {
        "id": "S61Tfyk1k6at"
      },
      "execution_count": null,
      "outputs": []
    },
    {
      "cell_type": "markdown",
      "source": [
        "**Covid**"
      ],
      "metadata": {
        "id": "NLcWxw4V44NU"
      }
    },
    {
      "cell_type": "code",
      "source": [
        "rets = excess_returns[\"Excess Returns\"][\"2020\":\"2021\"].values\n",
        "\n",
        "std = statistics.pstdev(rets) * np.sqrt(12) * 100\n",
        "mean = np.mean(rets) * 12 * 100\n",
        "skewness = skew(rets)\n",
        "kurt = kurtosis(rets)\n",
        "max = np.max(rets) * 100\n",
        "min = np.min(rets) * 100\n",
        "std_negative = statistics.pstdev([ret for ret in rets if ret < 0])  * np.sqrt(12) * 100\n",
        "\n",
        "print(\"Standard Deviation: \" + str(std) + \"%\")\n",
        "print(\"Average Annual Return: \" + str(mean) + \"%\")\n",
        "print(\"Sharpe Ratio: \" + str(mean/std))\n",
        "print(\"Sortino Ratio: \" + str(mean/std_negative))\n",
        "print(\"Largest Gain: \" + str(max) + \"%\")\n",
        "print(\"Largest Loss: \" + str(min) + \"%\") \n",
        "print(\"Skewness: \" + str(skewness))\n",
        "print(\"Kurtosis: \" + str(kurt))"
      ],
      "metadata": {
        "id": "bF74kRO143oV"
      },
      "execution_count": null,
      "outputs": []
    },
    {
      "cell_type": "code",
      "source": [
        "cum_ret = 1\n",
        "cum_rets = [1]\n",
        "for ret in rets:\n",
        "  cum_ret = cum_ret * (1 + ret)\n",
        "  cum_rets.append(cum_ret)\n",
        "\n",
        "max_ret = 1\n",
        "drawdowns = []\n",
        "for ret in cum_rets:\n",
        "  max_ret = np.max([max_ret, ret])\n",
        "  drawdowns.append(-(max_ret - ret) / max_ret * 100)\n",
        "\n",
        "df = pd.DataFrame(cum_rets, columns = [\"Cumulative Return\"])\n",
        "df[\"Drawdown\"] = drawdowns\n",
        "\n",
        "print(\"Largest Drawdown: \" + str(round(np.min(drawdowns), 2)) + \"%\")\n",
        "print(\"Calmar Ratio: \" + str(mean / -np.min(drawdowns)))"
      ],
      "metadata": {
        "id": "Lah_Sy5c5lTS"
      },
      "execution_count": null,
      "outputs": []
    },
    {
      "cell_type": "code",
      "source": [
        "dates = excess_returns[\"Excess Returns\"][\"2020\":\"2021\"].index\n",
        "plt.figure(figsize=(24,7))\n",
        "plt.plot(dates, rets)"
      ],
      "metadata": {
        "id": "GXxctt_KAuB6"
      },
      "execution_count": null,
      "outputs": []
    },
    {
      "cell_type": "markdown",
      "source": [
        "**Factor Regression**"
      ],
      "metadata": {
        "id": "XgX0TQOYpRov"
      }
    },
    {
      "cell_type": "code",
      "source": [
        "excess_returns = pd.DataFrame(port_rets, index = plot_dates[1:], columns = [\"Strategy Returns\"]) \n",
        "excess_returns[\"Strategy Returns\"] = excess_returns[\"Strategy Returns\"] \n",
        "excess_returns[\"Risk Free\"] = rf.values\n",
        "excess_returns[\"Excess Returns\"] = excess_returns[\"Strategy Returns\"] - excess_returns[\"Risk Free\"]\n",
        "rets = excess_returns[\"Excess Returns\"].values\n",
        "\n",
        "mom = pd.read_csv('/content/drive/MyDrive/_Data_/momentum.csv', index_col = \"dateff\", parse_dates = True)[1:]\n",
        "\n",
        "fff = fff\n",
        "fff[\"Momentum\"] = mom[\"umd\"].values\n",
        "fff[\"Excess Returns\"] = rets\n",
        "\n",
        "port_excess = fff[\"Excess Returns\"]\n",
        "mkt_excess = fff[\"mktrf\"]\n",
        "exp_var = pd.DataFrame()\n",
        "exp_var[\"Market - Rf\"] = mkt_excess.copy()\n",
        "exp_var[\"Constant\"] = 1\n",
        "exp_var[\"Value\"] = fff[\"hml\"]\n",
        "exp_var[\"Size\"] = fff[\"smb\"]\n",
        "exp_var[\"Momentum\"] = fff[\"Momentum\"]\n",
        "lm = sm.OLS(port_excess, exp_var).fit()\n",
        "\n",
        "lm.summary()"
      ],
      "metadata": {
        "id": "8bwvAvbJpTjA"
      },
      "execution_count": null,
      "outputs": []
    },
    {
      "cell_type": "code",
      "source": [
        "replicating_port = excess_returns[\"Strategy Returns\"].values - lm.params[0]*(fff['mktrf'].values + fff['rf'].values) -(1-lm.params[0])*fff['rf'].values -lm.params[2]*fff['hml'].values-lm.params[3]*fff['smb'].values-lm.params[4]*fff['Momentum'].values"
      ],
      "metadata": {
        "id": "HiLOjpbbpkhF"
      },
      "execution_count": null,
      "outputs": []
    },
    {
      "cell_type": "code",
      "source": [
        "te = replicating_port.std() \n",
        "alpha = np.mean(replicating_port) \n",
        "IR = alpha * 12 / (te * np.sqrt(12))\n",
        "\n",
        "print(\"Information Ratio: \" + str(IR))"
      ],
      "metadata": {
        "id": "BHA16gWepy2m"
      },
      "execution_count": null,
      "outputs": []
    },
    {
      "cell_type": "markdown",
      "source": [
        "**Transaction Costs**"
      ],
      "metadata": {
        "id": "1ispgLiSeyjQ"
      }
    },
    {
      "cell_type": "code",
      "source": [
        "excess_returns = pd.DataFrame(port_rets, index = plot_dates[1:], columns = [\"Strategy Returns\"]) \n",
        "excess_returns[\"Strategy Returns\"] = excess_returns[\"Strategy Returns\"] - 0.003634 #through try and guess until t is close to 1.96\n",
        "excess_returns[\"Risk Free\"] = rf.values\n",
        "excess_returns[\"Excess Returns\"] = excess_returns[\"Strategy Returns\"] - excess_returns[\"Risk Free\"]\n",
        "rets = excess_returns[\"Excess Returns\"].values\n",
        "\n",
        "mom = pd.read_csv('/content/drive/MyDrive/_Data_/momentum.csv', index_col = \"dateff\", parse_dates = True)[1:]\n",
        "\n",
        "fff = fff\n",
        "fff[\"Momentum\"] = mom[\"umd\"].values\n",
        "fff[\"Excess Returns\"] = rets\n",
        "\n",
        "port_excess = fff[\"Excess Returns\"]\n",
        "mkt_excess = fff[\"mktrf\"]\n",
        "exp_var = pd.DataFrame()\n",
        "exp_var[\"Market - Rf\"] = mkt_excess.copy()\n",
        "exp_var[\"Constant\"] = 1\n",
        "exp_var[\"Value\"] = fff[\"hml\"]\n",
        "exp_var[\"Size\"] = fff[\"smb\"]\n",
        "exp_var[\"Momentum\"] = fff[\"Momentum\"]\n",
        "lm = sm.OLS(port_excess, exp_var).fit()\n",
        "\n",
        "lm.summary()"
      ],
      "metadata": {
        "id": "YQWg5f4mexeX"
      },
      "execution_count": null,
      "outputs": []
    },
    {
      "cell_type": "markdown",
      "source": [
        "**Historical VaR**"
      ],
      "metadata": {
        "id": "lKRbkE7QC7vu"
      }
    },
    {
      "cell_type": "code",
      "source": [
        "rets = sorted(excess_returns[\"Excess Returns\"].values)\n",
        "length = len(rets)\n",
        "index = round(length / 100, 0) - 1\n",
        "\n",
        "var = rets[int(index)]\n",
        "\n",
        "print(\"Historical VaR: \" + str(var * 100) + \"%\")"
      ],
      "metadata": {
        "id": "6U1sKi_eBO_I"
      },
      "execution_count": null,
      "outputs": []
    },
    {
      "cell_type": "code",
      "source": [
        "years = range(1998, 2023)\n",
        "srs = []\n",
        "\n",
        "for i in range(len(years)-1):\n",
        "  rets = excess_returns['Excess Returns'][str(years[i]) : str(years[i+1])]\n",
        "  mean = np.mean(rets)\n",
        "  std = statistics.pstdev(rets)\n",
        "  sr = mean/std * np.sqrt(12)\n",
        "  srs.append(sr)\n",
        "\n",
        "  print(str(years[i]) + \": \" + str(sr))\n",
        "\n",
        "\n",
        "rets = excess_returns['Excess Returns'][\"2022\" : ]\n",
        "mean = np.mean(rets)\n",
        "std = statistics.pstdev(rets)\n",
        "sr = mean/std * np.sqrt(12)\n",
        "srs.append(sr)\n",
        "\n",
        "print(\"2022: \" + str(sr))"
      ],
      "metadata": {
        "id": "Mip849oJCm5J"
      },
      "execution_count": null,
      "outputs": []
    },
    {
      "cell_type": "code",
      "source": [
        "df = pd.DataFrame(srs, index = years)\n",
        "plt.figure(figsize=(24,7))\n",
        "plt.plot(df)\n",
        "plt.axhline(y=0, color = \"black\", alpha = 0.2)"
      ],
      "metadata": {
        "id": "vDW_fEMkHoc-"
      },
      "execution_count": null,
      "outputs": []
    }
  ]
}