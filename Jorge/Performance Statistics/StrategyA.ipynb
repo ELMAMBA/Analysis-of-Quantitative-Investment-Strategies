{
  "nbformat": 4,
  "nbformat_minor": 0,
  "metadata": {
    "colab": {
      "provenance": []
    },
    "kernelspec": {
      "name": "python3",
      "display_name": "Python 3"
    },
    "language_info": {
      "name": "python"
    }
  },
  "cells": [
    {
      "cell_type": "markdown",
      "source": [
        "**Load Libraries**"
      ],
      "metadata": {
        "id": "oZ8Am_JJidJX"
      }
    },
    {
      "cell_type": "code",
      "source": [
        "import numpy as np\n",
        "import pandas as pd\n",
        "from google.colab import drive\n",
        "import warnings\n",
        "warnings.simplefilter(action='ignore', category=FutureWarning)\n",
        "import json\n",
        "TOLERANCE = 1e-10\n",
        "import pickle\n",
        "import statistics\n",
        "import matplotlib.pyplot as plt\n",
        "from matplotlib import pyplot as plt, dates as mdates\n",
        "from scipy.stats import skew, kurtosis, norm\n",
        "import statsmodels.api as sm\n",
        "from scipy import stats\n",
        "import seaborn as sns"
      ],
      "metadata": {
        "id": "CI4MM3SXbhAw"
      },
      "execution_count": 7,
      "outputs": []
    },
    {
      "cell_type": "code",
      "source": [
        "drive.mount('/content/drive')\n"
      ],
      "metadata": {
        "colab": {
          "base_uri": "https://localhost:8080/"
        },
        "id": "9103USA8blLs",
        "outputId": "4a470508-04ff-4f73-a65c-2822c451b86f"
      },
      "execution_count": 8,
      "outputs": [
        {
          "output_type": "stream",
          "name": "stdout",
          "text": [
            "Drive already mounted at /content/drive; to attempt to forcibly remount, call drive.mount(\"/content/drive\", force_remount=True).\n"
          ]
        }
      ]
    },
    {
      "cell_type": "markdown",
      "source": [
        "**Load Data, and compute volatility signals**"
      ],
      "metadata": {
        "id": "uhho8lPzigNT"
      }
    },
    {
      "cell_type": "code",
      "source": [
        "target = 0.18\n",
        "fff = pd.read_csv('/content/drive/MyDrive/_Data_/ffm.csv', index_col = \"dateff\", parse_dates = True)[1:]\n",
        "vix = pd.read_csv('/content/drive/MyDrive/_Data_/^VIX.csv', index_col = \"Date\", parse_dates = True)[\"Adj Close\"]\n",
        "rf = fff[\"rf\"]\n",
        "signals = []\n",
        "for value in vix.values:\n",
        "  if value > 30:\n",
        "    signals.append(\"High\")\n",
        "  elif 15 < value <= 30:\n",
        "    signals.append(\"Normal\")\n",
        "  else:\n",
        "    signals.append(\"Low\")"
      ],
      "metadata": {
        "id": "wbjZ2crAh4Pw"
      },
      "execution_count": 9,
      "outputs": []
    },
    {
      "cell_type": "code",
      "execution_count": 10,
      "metadata": {
        "id": "1t3jsJC4bct4"
      },
      "outputs": [],
      "source": [
        "with open(\"/content/drive/MyDrive/_Data_/port_rets.json\", \"rb\") as data:\n",
        "    port_rets = pickle.load(data)[:-1] #the data only goes till march 2022, however the algorithm still calculates the return for april 2022, which is 0% given there is no data. So, we should ignore it\n",
        "\n",
        "with open(\"/content/drive/MyDrive/_Data_/dates.json\", \"rb\") as data:\n",
        "    plot_dates = pickle.load(data)[12:] #We only have returns starting in the 13th month\n"
      ]
    },
    {
      "cell_type": "markdown",
      "source": [
        "**Full Sample**"
      ],
      "metadata": {
        "id": "uqqQx4KIcqET"
      }
    },
    {
      "cell_type": "code",
      "source": [
        "excess_returns = pd.DataFrame(port_rets, index = plot_dates[1:], columns = [\"Strategy Returns\"]) \n",
        "excess_returns[\"Risk Free\"] = rf.values\n",
        "excess_returns[\"Excess Returns\"] = excess_returns[\"Strategy Returns\"] - excess_returns[\"Risk Free\"]\n",
        "rets = excess_returns[\"Excess Returns\"].values\n",
        "\n",
        "std = statistics.pstdev(rets) * np.sqrt(12) * 100\n",
        "mean = np.mean(rets) * 12 * 100\n",
        "skewness = skew(rets)\n",
        "kurt = kurtosis(rets)\n",
        "max = np.max(rets) * 100\n",
        "min = np.min(rets) * 100\n",
        "std_negative = statistics.pstdev([ret for ret in rets if ret < 0])  * np.sqrt(12) * 100\n",
        "\n",
        "print(\"Standard Deviation: \" + str(std) + \"%\")\n",
        "print(\"Average Annual Return: \" + str(mean) + \"%\")\n",
        "print(\"Sharpe Ratio: \" + str(mean/std))\n",
        "print(\"Sortino Ratio: \" + str(mean/std_negative))\n",
        "print(\"Largest Gain: \" + str(max) + \"%\")\n",
        "print(\"Largest Loss: \" + str(min) + \"%\") \n",
        "print(\"Skewness: \" + str(skewness))\n",
        "print(\"Kurtosis: \" + str(kurt))"
      ],
      "metadata": {
        "colab": {
          "base_uri": "https://localhost:8080/"
        },
        "id": "PTfoNl0TccTT",
        "outputId": "3a731af4-4b8f-42ad-a403-7eb843bac62f"
      },
      "execution_count": 11,
      "outputs": [
        {
          "output_type": "stream",
          "name": "stdout",
          "text": [
            "Standard Deviation: 7.618170663721882%\n",
            "Average Annual Return: 7.827002954251165%\n",
            "Sharpe Ratio: 1.0274123933090333\n",
            "Sortino Ratio: 1.5676248808043896\n",
            "Largest Gain: 9.314447486529419%\n",
            "Largest Loss: -9.330472481742518%\n",
            "Skewness: 0.139216288358358\n",
            "Kurtosis: 2.8714981734348726\n"
          ]
        }
      ]
    },
    {
      "cell_type": "code",
      "source": [
        "cum_ret = 1\n",
        "cum_rets = [1]\n",
        "for ret in rets:\n",
        "  cum_ret = cum_ret * (1 + ret)\n",
        "  cum_rets.append(cum_ret)\n",
        "\n",
        "max_ret = 1\n",
        "drawdowns = []\n",
        "for ret in cum_rets:\n",
        "  max_ret = np.max([max_ret, ret])\n",
        "  drawdowns.append(-(max_ret - ret) / max_ret * 100)\n",
        "\n",
        "df = pd.DataFrame(cum_rets, plot_dates, columns = [\"Cumulative Return\"])\n",
        "df[\"Drawdown\"] = drawdowns\n",
        "\n",
        "print(\"Largest Drawdown: \" + str(round(np.min(drawdowns), 2)) + \"%\")\n",
        "print(\"Calmar Ratio: \" + str(mean / -np.min(drawdowns)))"
      ],
      "metadata": {
        "colab": {
          "base_uri": "https://localhost:8080/"
        },
        "id": "Swys7W5WcvlV",
        "outputId": "327161ab-fecf-4cf1-8c26-23a290869b4c"
      },
      "execution_count": 12,
      "outputs": [
        {
          "output_type": "stream",
          "name": "stdout",
          "text": [
            "Largest Drawdown: -15.75%\n",
            "Calmar Ratio: 0.4968831787099963\n"
          ]
        }
      ]
    },
    {
      "cell_type": "code",
      "source": [
        "total = len(rets) - 1\n",
        "positive = len([ret for ret in rets if ret > 0.0])\n",
        "print(\"%Positive Days: \" + str(positive/total * 100))"
      ],
      "metadata": {
        "colab": {
          "base_uri": "https://localhost:8080/"
        },
        "id": "mot-5kHNcwkm",
        "outputId": "65fc1838-5070-47f6-888b-834d6b4097cc"
      },
      "execution_count": 13,
      "outputs": [
        {
          "output_type": "stream",
          "name": "stdout",
          "text": [
            "%Positive Days: 57.43944636678201\n"
          ]
        }
      ]
    },
    {
      "cell_type": "code",
      "source": [
        "excess_returns[\"Volatility\"] = signals[1:]\n",
        "mean_low = np.mean(excess_returns[excess_returns[\"Volatility\"] == \"Low\"][\"Excess Returns\"]) * 12\n",
        "mean_medium = np.mean(excess_returns[excess_returns[\"Volatility\"] == \"Normal\"][\"Excess Returns\"]) * 12\n",
        "mean_high = np.mean(excess_returns[excess_returns[\"Volatility\"] == \"High\"][\"Excess Returns\"]) * 12\n",
        "\n",
        "std_low = excess_returns[excess_returns[\"Volatility\"] == \"Low\"][\"Excess Returns\"].std() * np.sqrt(12)\n",
        "std_medium = excess_returns[excess_returns[\"Volatility\"] == \"Normal\"][\"Excess Returns\"].std() * np.sqrt(12)\n",
        "std_high = excess_returns[excess_returns[\"Volatility\"] == \"High\"][\"Excess Returns\"].std() * np.sqrt(12)\n",
        "\n",
        "sharpe_low = mean_low / std_low\n",
        "sharpe_medium = mean_medium / std_medium\n",
        "sharpe_high = mean_high / std_high\n",
        "\n",
        "print(\"Volatility     Return     Stdev    Sharpe Ratio\")\n",
        "print(\"    Low         \" + str(round(mean_low, 3)) + \"     \" + str(round(std_low, 3)) + \"       \" + str(round(sharpe_low, 3)))\n",
        "print(\"    Medium      \" + str(round(mean_medium, 3)) + \"     \" + str(round(std_medium, 3)) + \"       \" + str(round(sharpe_medium, 3)))\n",
        "print(\"    High        \" + str(round(mean_high, 3)) + \"     \" + str(round(std_high, 3)) + \"        \" + str(round(sharpe_high, 3)))"
      ],
      "metadata": {
        "id": "knlhCRm3OYKk",
        "outputId": "fb1440f0-65bf-41ac-af5f-3690c0aeb357",
        "colab": {
          "base_uri": "https://localhost:8080/"
        }
      },
      "execution_count": 14,
      "outputs": [
        {
          "output_type": "stream",
          "name": "stdout",
          "text": [
            "Volatility     Return     Stdev    Sharpe Ratio\n",
            "    Low         0.066     0.084       0.786\n",
            "    Medium      0.086     0.077       1.127\n",
            "    High        0.061     0.05        1.234\n"
          ]
        }
      ]
    },
    {
      "cell_type": "markdown",
      "source": [
        "**First Half**"
      ],
      "metadata": {
        "id": "-ZRs-CkSc14l"
      }
    },
    {
      "cell_type": "code",
      "source": [
        "rets = excess_returns[\"Excess Returns\"][:\"2010\"].values\n",
        "\n",
        "std = statistics.pstdev(rets) * np.sqrt(12) * 100\n",
        "mean = np.mean(rets) * 12 * 100\n",
        "skewness = skew(rets)\n",
        "kurt = kurtosis(rets)\n",
        "max = np.max(rets) * 100\n",
        "min = np.min(rets) * 100\n",
        "std_negative = statistics.pstdev([ret for ret in rets if ret < 0])  * np.sqrt(12) * 100\n",
        "\n",
        "print(\"Standard Deviation: \" + str(std) + \"%\")\n",
        "print(\"Average Annual Return: \" + str(mean) + \"%\")\n",
        "print(\"Sharpe Ratio: \" + str(mean/std))\n",
        "print(\"Sortino Ratio: \" + str(mean/std_negative))\n",
        "print(\"Largest Gain: \" + str(max) + \"%\")\n",
        "print(\"Largest Loss: \" + str(min) + \"%\") \n",
        "print(\"Skewness: \" + str(skewness))\n",
        "print(\"Kurtosis: \" + str(kurt))"
      ],
      "metadata": {
        "colab": {
          "base_uri": "https://localhost:8080/"
        },
        "id": "Gx7oIcbvdCeQ",
        "outputId": "dee469e7-1930-447f-85c5-5f9fb5087a0a"
      },
      "execution_count": 15,
      "outputs": [
        {
          "output_type": "stream",
          "name": "stdout",
          "text": [
            "Standard Deviation: 6.708704150425445%\n",
            "Average Annual Return: 9.860843967872064%\n",
            "Sharpe Ratio: 1.4698582239979565\n",
            "Sortino Ratio: 2.3574057949623994\n",
            "Largest Gain: 7.736819000191557%\n",
            "Largest Loss: -6.3191135423987905%\n",
            "Skewness: 0.21899261222017416\n",
            "Kurtosis: 2.0599347954351837\n"
          ]
        }
      ]
    },
    {
      "cell_type": "code",
      "source": [
        "cum_ret = 1\n",
        "cum_rets = [1]\n",
        "for ret in rets:\n",
        "  cum_ret = cum_ret * (1 + ret)\n",
        "  cum_rets.append(cum_ret)\n",
        "\n",
        "max_ret = 1\n",
        "drawdowns = []\n",
        "for ret in cum_rets:\n",
        "  max_ret = np.max([max_ret, ret])\n",
        "  drawdowns.append(-(max_ret - ret) / max_ret * 100)\n",
        "\n",
        "df = pd.DataFrame(cum_rets, plot_dates[:144], columns = [\"Cumulative Return\"])\n",
        "df[\"Drawdown\"] = drawdowns\n",
        "\n",
        "print(\"Largest Drawdown: \" + str(round(np.min(drawdowns), 2)) + \"%\")\n",
        "print(\"Calmar Ratio: \" + str(mean / -np.min(drawdowns)))"
      ],
      "metadata": {
        "colab": {
          "base_uri": "https://localhost:8080/"
        },
        "id": "8xm9RYIJdnKE",
        "outputId": "73135ddb-dedc-4191-ba07-a6c73db873fb"
      },
      "execution_count": 16,
      "outputs": [
        {
          "output_type": "stream",
          "name": "stdout",
          "text": [
            "Largest Drawdown: -6.32%\n",
            "Calmar Ratio: 1.5604789978388007\n"
          ]
        }
      ]
    },
    {
      "cell_type": "code",
      "source": [
        "total = len(rets) - 1\n",
        "positive = len([ret for ret in rets if ret > 0.0])\n",
        "print(\"%Positive Days: \" + str(positive/total * 100))"
      ],
      "metadata": {
        "colab": {
          "base_uri": "https://localhost:8080/"
        },
        "id": "q0crT61cesSJ",
        "outputId": "f6ea5ed2-de44-4580-93ce-cdaf288ec08b"
      },
      "execution_count": 17,
      "outputs": [
        {
          "output_type": "stream",
          "name": "stdout",
          "text": [
            "%Positive Days: 60.56338028169014\n"
          ]
        }
      ]
    },
    {
      "cell_type": "markdown",
      "source": [
        "**Second Half**"
      ],
      "metadata": {
        "id": "1uZIA9dufDDO"
      }
    },
    {
      "cell_type": "code",
      "source": [
        "rets = excess_returns[\"Excess Returns\"][\"2010\":].values\n",
        "\n",
        "std = statistics.pstdev(rets) * np.sqrt(12) * 100\n",
        "mean = np.mean(rets) * 12 * 100\n",
        "skewness = skew(rets)\n",
        "kurt = kurtosis(rets)\n",
        "max = np.max(rets) * 100\n",
        "min = np.min(rets) * 100\n",
        "std_negative = statistics.pstdev([ret for ret in rets if ret < 0])  * np.sqrt(12) * 100\n",
        "\n",
        "print(\"Standard Deviation: \" + str(std) + \"%\")\n",
        "print(\"Average Annual Return: \" + str(mean) + \"%\")\n",
        "print(\"Sharpe Ratio: \" + str(mean/std))\n",
        "print(\"Sortino Ratio: \" + str(mean/std_negative))\n",
        "print(\"Largest Gain: \" + str(max) + \"%\")\n",
        "print(\"Largest Loss: \" + str(min) + \"%\") \n",
        "print(\"Skewness: \" + str(skewness))\n",
        "print(\"Kurtosis: \" + str(kurt))"
      ],
      "metadata": {
        "colab": {
          "base_uri": "https://localhost:8080/"
        },
        "id": "B1nGitYpfCmH",
        "outputId": "117c6a83-23b2-4069-f02d-ca4e413ef27e"
      },
      "execution_count": 18,
      "outputs": [
        {
          "output_type": "stream",
          "name": "stdout",
          "text": [
            "Standard Deviation: 8.369602767597614%\n",
            "Average Annual Return: 5.8485045532458%\n",
            "Sharpe Ratio: 0.6987792271203018\n",
            "Sortino Ratio: 1.07573364770662\n",
            "Largest Gain: 9.314447486529419%\n",
            "Largest Loss: -9.330472481742518%\n",
            "Skewness: 0.17057384896596928\n",
            "Kurtosis: 2.8882926182026356\n"
          ]
        }
      ]
    },
    {
      "cell_type": "code",
      "source": [
        "cum_ret = 1\n",
        "cum_rets = [1]\n",
        "for ret in rets:\n",
        "  cum_ret = cum_ret * (1 + ret)\n",
        "  cum_rets.append(cum_ret)\n",
        "\n",
        "max_ret = 1\n",
        "drawdowns = []\n",
        "for ret in cum_rets:\n",
        "  max_ret = np.max([max_ret, ret])\n",
        "  drawdowns.append(-(max_ret - ret) / max_ret * 100)\n",
        "\n",
        "df = pd.DataFrame(cum_rets, plot_dates[143:], columns = [\"Cumulative Return\"])\n",
        "df[\"Drawdown\"] = drawdowns\n",
        "\n",
        "print(\"Largest Drawdown: \" + str(round(np.min(drawdowns), 2)) + \"%\")\n",
        "print(\"Calmar Ratio: \" + str(mean / -np.min(drawdowns)))"
      ],
      "metadata": {
        "colab": {
          "base_uri": "https://localhost:8080/"
        },
        "id": "kwXH6_Y-fcDu",
        "outputId": "3ad94b68-eead-44a3-f6c6-d6319b531614"
      },
      "execution_count": 19,
      "outputs": [
        {
          "output_type": "stream",
          "name": "stdout",
          "text": [
            "Largest Drawdown: -15.75%\n",
            "Calmar Ratio: 0.37128177287045483\n"
          ]
        }
      ]
    },
    {
      "cell_type": "code",
      "source": [
        "total = len(rets) - 1\n",
        "positive = len([ret for ret in rets if ret > 0.0])\n",
        "print(\"%Positive Days: \" + str(positive/total * 100))"
      ],
      "metadata": {
        "id": "xnGEnFVnfkZs",
        "colab": {
          "base_uri": "https://localhost:8080/"
        },
        "outputId": "e360f598-ecdd-4c5c-eeb2-aa59efc33296"
      },
      "execution_count": 20,
      "outputs": [
        {
          "output_type": "stream",
          "name": "stdout",
          "text": [
            "%Positive Days: 54.794520547945204\n"
          ]
        }
      ]
    },
    {
      "cell_type": "markdown",
      "source": [
        "**Dot-com bubble (1998 - 2003)**"
      ],
      "metadata": {
        "id": "Vjp2Sm2vjABY"
      }
    },
    {
      "cell_type": "code",
      "source": [
        "rets = excess_returns[\"Excess Returns\"][\"1998\":\"2004\"].values\n",
        "\n",
        "std = statistics.pstdev(rets) * np.sqrt(12) * 100\n",
        "mean = np.mean(rets) * 12 * 100\n",
        "skewness = skew(rets)\n",
        "kurt = kurtosis(rets)\n",
        "max = np.max(rets) * 100\n",
        "min = np.min(rets) * 100\n",
        "std_negative = statistics.pstdev([ret for ret in rets if ret < 0])  * np.sqrt(12) * 100\n",
        "\n",
        "print(\"Standard Deviation: \" + str(std) + \"%\")\n",
        "print(\"Average Annual Return: \" + str(mean) + \"%\")\n",
        "print(\"Sharpe Ratio: \" + str(mean/std))\n",
        "print(\"Sortino Ratio: \" + str(mean/std_negative))\n",
        "print(\"Largest Gain: \" + str(max) + \"%\")\n",
        "print(\"Largest Loss: \" + str(min) + \"%\") \n",
        "print(\"Skewness: \" + str(skewness))\n",
        "print(\"Kurtosis: \" + str(kurt))"
      ],
      "metadata": {
        "colab": {
          "base_uri": "https://localhost:8080/"
        },
        "id": "L-72W-aui_Y3",
        "outputId": "626712b4-a3d9-4e80-f76c-4e914fb70ee7"
      },
      "execution_count": 21,
      "outputs": [
        {
          "output_type": "stream",
          "name": "stdout",
          "text": [
            "Standard Deviation: 7.683908958912854%\n",
            "Average Annual Return: 11.312537358600862%\n",
            "Sharpe Ratio: 1.4722372973301598\n",
            "Sortino Ratio: 2.1427060571568552\n",
            "Largest Gain: 7.736819000191557%\n",
            "Largest Loss: -6.3191135423987905%\n",
            "Skewness: -0.050186164255549996\n",
            "Kurtosis: 1.7796056826907733\n"
          ]
        }
      ]
    },
    {
      "cell_type": "code",
      "source": [
        "cum_ret = 1\n",
        "cum_rets = [1]\n",
        "for ret in rets:\n",
        "  cum_ret = cum_ret * (1 + ret)\n",
        "  cum_rets.append(cum_ret)\n",
        "\n",
        "max_ret = 1\n",
        "drawdowns = []\n",
        "for ret in cum_rets:\n",
        "  max_ret = np.max([max_ret, ret])\n",
        "  drawdowns.append(-(max_ret - ret) / max_ret * 100)\n",
        "\n",
        "df = pd.DataFrame(cum_rets, columns = [\"Cumulative Return\"])\n",
        "df[\"Drawdown\"] = drawdowns\n",
        "\n",
        "print(\"Largest Drawdown: \" + str(round(np.min(drawdowns), 2)) + \"%\")\n",
        "print(\"Calmar Ratio: \" + str(mean / -np.min(drawdowns)))"
      ],
      "metadata": {
        "colab": {
          "base_uri": "https://localhost:8080/"
        },
        "id": "pJMwVa4Pj4MH",
        "outputId": "4677f5f1-ba9b-4bd9-95c2-8ff283168b2d"
      },
      "execution_count": 22,
      "outputs": [
        {
          "output_type": "stream",
          "name": "stdout",
          "text": [
            "Largest Drawdown: -6.32%\n",
            "Calmar Ratio: 1.790209541686209\n"
          ]
        }
      ]
    },
    {
      "cell_type": "code",
      "source": [
        "total = len(rets) - 1\n",
        "positive = len([ret for ret in rets if ret > 0.0])\n",
        "print(\"%Positive Days: \" + str(positive/total * 100))"
      ],
      "metadata": {
        "colab": {
          "base_uri": "https://localhost:8080/"
        },
        "id": "5fEaPg9JkDEv",
        "outputId": "974b6e62-6b19-4010-96b4-0aa6177165dd"
      },
      "execution_count": 23,
      "outputs": [
        {
          "output_type": "stream",
          "name": "stdout",
          "text": [
            "%Positive Days: 64.28571428571429\n"
          ]
        }
      ]
    },
    {
      "cell_type": "markdown",
      "source": [
        "**2007-2008 Market Crash (2007-2010)**"
      ],
      "metadata": {
        "id": "lQMj_8AXkO6b"
      }
    },
    {
      "cell_type": "code",
      "source": [
        "rets = excess_returns[\"Excess Returns\"][\"2007\":\"2011\"].values\n",
        "\n",
        "std = statistics.pstdev(rets) * np.sqrt(12) * 100\n",
        "mean = np.mean(rets) * 12 * 100\n",
        "skewness = skew(rets)\n",
        "kurt = kurtosis(rets)\n",
        "max = np.max(rets) * 100\n",
        "min = np.min(rets) * 100\n",
        "std_negative = statistics.pstdev([ret for ret in rets if ret < 0])  * np.sqrt(12) * 100\n",
        "\n",
        "print(\"Standard Deviation: \" + str(std) + \"%\")\n",
        "print(\"Average Annual Return: \" + str(mean) + \"%\")\n",
        "print(\"Sharpe Ratio: \" + str(mean/std))\n",
        "print(\"Sortino Ratio: \" + str(mean/std_negative))\n",
        "print(\"Largest Gain: \" + str(max) + \"%\")\n",
        "print(\"Largest Loss: \" + str(min) + \"%\") \n",
        "print(\"Skewness: \" + str(skewness))\n",
        "print(\"Kurtosis: \" + str(kurt))"
      ],
      "metadata": {
        "colab": {
          "base_uri": "https://localhost:8080/"
        },
        "id": "Q6Vwtkgdkdxd",
        "outputId": "da0de7b0-c632-4eea-84f0-076f37e398a4"
      },
      "execution_count": 24,
      "outputs": [
        {
          "output_type": "stream",
          "name": "stdout",
          "text": [
            "Standard Deviation: 4.448581726939674%\n",
            "Average Annual Return: 3.5551191549995838%\n",
            "Sharpe Ratio: 0.7991578829429009\n",
            "Sortino Ratio: 1.5747865632021587\n",
            "Largest Gain: 3.8569642255344796%\n",
            "Largest Loss: -2.0295595242924103%\n",
            "Skewness: 0.5796106979526683\n",
            "Kurtosis: 0.23936157171894967\n"
          ]
        }
      ]
    },
    {
      "cell_type": "code",
      "source": [
        "cum_ret = 1\n",
        "cum_rets = [1]\n",
        "for ret in rets:\n",
        "  cum_ret = cum_ret * (1 + ret)\n",
        "  cum_rets.append(cum_ret)\n",
        "\n",
        "max_ret = 1\n",
        "drawdowns = []\n",
        "for ret in cum_rets:\n",
        "  max_ret = np.max([max_ret, ret])\n",
        "  drawdowns.append(-(max_ret - ret) / max_ret * 100)\n",
        "\n",
        "df = pd.DataFrame(cum_rets, columns = [\"Cumulative Return\"])\n",
        "df[\"Drawdown\"] = drawdowns\n",
        "\n",
        "print(\"Largest Drawdown: \" + str(round(np.min(drawdowns), 2)) + \"%\")\n",
        "print(\"Calmar Ratio: \" + str(mean / -np.min(drawdowns)))"
      ],
      "metadata": {
        "colab": {
          "base_uri": "https://localhost:8080/"
        },
        "id": "SSkaeZ1ik5ob",
        "outputId": "9be16505-8e44-4902-c5d7-3e439a48ebc7"
      },
      "execution_count": 25,
      "outputs": [
        {
          "output_type": "stream",
          "name": "stdout",
          "text": [
            "Largest Drawdown: -3.72%\n",
            "Calmar Ratio: 0.956486338508785\n"
          ]
        }
      ]
    },
    {
      "cell_type": "code",
      "source": [
        "total = len(rets) - 1\n",
        "positive = len([ret for ret in rets if ret > 0.0])\n",
        "print(\"%Positive Days: \" + str(positive/total * 100))"
      ],
      "metadata": {
        "colab": {
          "base_uri": "https://localhost:8080/"
        },
        "id": "S61Tfyk1k6at",
        "outputId": "96f89a99-cbc9-44d7-d7cf-28ba98c2e321"
      },
      "execution_count": 26,
      "outputs": [
        {
          "output_type": "stream",
          "name": "stdout",
          "text": [
            "%Positive Days: 42.5531914893617\n"
          ]
        }
      ]
    },
    {
      "cell_type": "markdown",
      "source": [
        "**Covid**"
      ],
      "metadata": {
        "id": "NLcWxw4V44NU"
      }
    },
    {
      "cell_type": "code",
      "source": [
        "rets = excess_returns[\"Excess Returns\"][\"2020\":\"2021\"].values\n",
        "\n",
        "std = statistics.pstdev(rets) * np.sqrt(12) * 100\n",
        "mean = np.mean(rets) * 12 * 100\n",
        "skewness = skew(rets)\n",
        "kurt = kurtosis(rets)\n",
        "max = np.max(rets) * 100\n",
        "min = np.min(rets) * 100\n",
        "std_negative = statistics.pstdev([ret for ret in rets if ret < 0])  * np.sqrt(12) * 100\n",
        "\n",
        "print(\"Standard Deviation: \" + str(std) + \"%\")\n",
        "print(\"Average Annual Return: \" + str(mean) + \"%\")\n",
        "print(\"Sharpe Ratio: \" + str(mean/std))\n",
        "print(\"Sortino Ratio: \" + str(mean/std_negative))\n",
        "print(\"Largest Gain: \" + str(max) + \"%\")\n",
        "print(\"Largest Loss: \" + str(min) + \"%\") \n",
        "print(\"Skewness: \" + str(skewness))\n",
        "print(\"Kurtosis: \" + str(kurt))"
      ],
      "metadata": {
        "colab": {
          "base_uri": "https://localhost:8080/"
        },
        "id": "bF74kRO143oV",
        "outputId": "0ebc6147-6ded-4fc0-d11c-b82063d10b2e"
      },
      "execution_count": 27,
      "outputs": [
        {
          "output_type": "stream",
          "name": "stdout",
          "text": [
            "Standard Deviation: 11.188724812184658%\n",
            "Average Annual Return: -4.34978010491133%\n",
            "Sharpe Ratio: -0.388764598104546\n",
            "Sortino Ratio: -0.42553909145981983\n",
            "Largest Gain: 4.382294062519982%\n",
            "Largest Loss: -9.330472481742518%\n",
            "Skewness: -1.3505746503837224\n",
            "Kurtosis: 2.561964909561536\n"
          ]
        }
      ]
    },
    {
      "cell_type": "code",
      "source": [
        "cum_ret = 1\n",
        "cum_rets = [1]\n",
        "for ret in rets:\n",
        "  cum_ret = cum_ret * (1 + ret)\n",
        "  cum_rets.append(cum_ret)\n",
        "\n",
        "max_ret = 1\n",
        "drawdowns = []\n",
        "for ret in cum_rets:\n",
        "  max_ret = np.max([max_ret, ret])\n",
        "  drawdowns.append(-(max_ret - ret) / max_ret * 100)\n",
        "\n",
        "df = pd.DataFrame(cum_rets, columns = [\"Cumulative Return\"])\n",
        "df[\"Drawdown\"] = drawdowns\n",
        "\n",
        "print(\"Largest Drawdown: \" + str(round(np.min(drawdowns), 2)) + \"%\")\n",
        "print(\"Calmar Ratio: \" + str(mean / -np.min(drawdowns)))"
      ],
      "metadata": {
        "colab": {
          "base_uri": "https://localhost:8080/"
        },
        "id": "Lah_Sy5c5lTS",
        "outputId": "e260105f-ca03-402c-b485-f53e2fbf5c16"
      },
      "execution_count": 28,
      "outputs": [
        {
          "output_type": "stream",
          "name": "stdout",
          "text": [
            "Largest Drawdown: -12.85%\n",
            "Calmar Ratio: -0.33849687787019694\n"
          ]
        }
      ]
    },
    {
      "cell_type": "code",
      "source": [
        "dates = excess_returns[\"Excess Returns\"][\"2020\":\"2021\"].index\n",
        "plt.figure(figsize=(24,7))\n",
        "plt.plot(dates, rets)"
      ],
      "metadata": {
        "colab": {
          "base_uri": "https://localhost:8080/",
          "height": 445
        },
        "id": "GXxctt_KAuB6",
        "outputId": "4cfa5e88-b3cc-4c53-eccd-84aeff6d5784"
      },
      "execution_count": 29,
      "outputs": [
        {
          "output_type": "execute_result",
          "data": {
            "text/plain": [
              "[<matplotlib.lines.Line2D at 0x7f760c40ea00>]"
            ]
          },
          "metadata": {},
          "execution_count": 29
        },
        {
          "output_type": "display_data",
          "data": {
            "text/plain": [
              "<Figure size 1728x504 with 1 Axes>"
            ],
            "image/png": "[encoded data removed]"
          },
          "metadata": {
            "needs_background": "light"
          }
        }
      ]
    },
    {
      "cell_type": "markdown",
      "source": [
        "**Factor Regression**"
      ],
      "metadata": {
        "id": "XgX0TQOYpRov"
      }
    },
    {
      "cell_type": "code",
      "source": [
        "excess_returns = pd.DataFrame(port_rets, index = plot_dates[1:], columns = [\"Strategy Returns\"]) \n",
        "excess_returns[\"Strategy Returns\"] = excess_returns[\"Strategy Returns\"] \n",
        "excess_returns[\"Risk Free\"] = rf.values\n",
        "excess_returns[\"Excess Returns\"] = excess_returns[\"Strategy Returns\"] - excess_returns[\"Risk Free\"]\n",
        "rets = excess_returns[\"Excess Returns\"].values\n",
        "\n",
        "mom = pd.read_csv('/content/drive/MyDrive/_Data_/momentum.csv', index_col = \"dateff\", parse_dates = True)[1:]\n",
        "\n",
        "fff = fff\n",
        "fff[\"Momentum\"] = mom[\"umd\"].values\n",
        "fff[\"Excess Returns\"] = rets\n",
        "\n",
        "port_excess = fff[\"Excess Returns\"]\n",
        "mkt_excess = fff[\"mktrf\"]\n",
        "exp_var = pd.DataFrame()\n",
        "exp_var[\"Market - Rf\"] = mkt_excess.copy()\n",
        "exp_var[\"Constant\"] = 1\n",
        "exp_var[\"Value\"] = fff[\"hml\"]\n",
        "exp_var[\"Size\"] = fff[\"smb\"]\n",
        "exp_var[\"Momentum\"] = fff[\"Momentum\"]\n",
        "lm = sm.OLS(port_excess, exp_var).fit()\n",
        "\n",
        "lm.summary()"
      ],
      "metadata": {
        "colab": {
          "base_uri": "https://localhost:8080/",
          "height": 516
        },
        "id": "8bwvAvbJpTjA",
        "outputId": "0d86a53e-b16f-469d-ab62-82a43ccb6d92"
      },
      "execution_count": 30,
      "outputs": [
        {
          "output_type": "execute_result",
          "data": {
            "text/plain": [
              "<class 'statsmodels.iolib.summary.Summary'>\n",
              "\"\"\"\n",
              "                            OLS Regression Results                            \n",
              "==============================================================================\n",
              "Dep. Variable:         Excess Returns   R-squared:                       0.200\n",
              "Model:                            OLS   Adj. R-squared:                  0.188\n",
              "Method:                 Least Squares   F-statistic:                     17.77\n",
              "Date:                Thu, 15 Dec 2022   Prob (F-statistic):           4.86e-13\n",
              "Time:                        21:53:10   Log-Likelihood:                 727.76\n",
              "No. Observations:                 290   AIC:                            -1446.\n",
              "Df Residuals:                     285   BIC:                            -1427.\n",
              "Df Model:                           4                                         \n",
              "Covariance Type:            nonrobust                                         \n",
              "===============================================================================\n",
              "                  coef    std err          t      P>|t|      [0.025      0.975]\n",
              "-------------------------------------------------------------------------------\n",
              "Market - Rf     0.0053      0.028      0.187      0.852      -0.051       0.061\n",
              "Constant        0.0060      0.001      5.019      0.000       0.004       0.008\n",
              "Value           0.0162      0.036      0.445      0.657      -0.055       0.088\n",
              "Size           -0.0596      0.038     -1.584      0.114      -0.134       0.014\n",
              "Momentum        0.1904      0.025      7.624      0.000       0.141       0.240\n",
              "==============================================================================\n",
              "Omnibus:                       24.650   Durbin-Watson:                   2.050\n",
              "Prob(Omnibus):                  0.000   Jarque-Bera (JB):               56.440\n",
              "Skew:                           0.404   Prob(JB):                     5.55e-13\n",
              "Kurtosis:                       5.005   Cond. No.                         34.5\n",
              "==============================================================================\n",
              "\n",
              "Notes:\n",
              "[1] Standard Errors assume that the covariance matrix of the errors is correctly specified.\n",
              "\"\"\""
            ],
            "text/html": [
              "<table class=\"simpletable\">\n",
              "<caption>OLS Regression Results</caption>\n",
              "<tr>\n",
              "  <th>Dep. Variable:</th>     <td>Excess Returns</td>  <th>  R-squared:         </th> <td>   0.200</td>\n",
              "</tr>\n",
              "<tr>\n",
              "  <th>Model:</th>                   <td>OLS</td>       <th>  Adj. R-squared:    </th> <td>   0.188</td>\n",
              "</tr>\n",
              "<tr>\n",
              "  <th>Method:</th>             <td>Least Squares</td>  <th>  F-statistic:       </th> <td>   17.77</td>\n",
              "</tr>\n",
              "<tr>\n",
              "  <th>Date:</th>             <td>Thu, 15 Dec 2022</td> <th>  Prob (F-statistic):</th> <td>4.86e-13</td>\n",
              "</tr>\n",
              "<tr>\n",
              "  <th>Time:</th>                 <td>21:53:10</td>     <th>  Log-Likelihood:    </th> <td>  727.76</td>\n",
              "</tr>\n",
              "<tr>\n",
              "  <th>No. Observations:</th>      <td>   290</td>      <th>  AIC:               </th> <td>  -1446.</td>\n",
              "</tr>\n",
              "<tr>\n",
              "  <th>Df Residuals:</th>          <td>   285</td>      <th>  BIC:               </th> <td>  -1427.</td>\n",
              "</tr>\n",
              "<tr>\n",
              "  <th>Df Model:</th>              <td>     4</td>      <th>                     </th>     <td> </td>   \n",
              "</tr>\n",
              "<tr>\n",
              "  <th>Covariance Type:</th>      <td>nonrobust</td>    <th>                     </th>     <td> </td>   \n",
              "</tr>\n",
              "</table>\n",
              "<table class=\"simpletable\">\n",
              "<tr>\n",
              "       <td></td>          <th>coef</th>     <th>std err</th>      <th>t</th>      <th>P>|t|</th>  <th>[0.025</th>    <th>0.975]</th>  \n",
              "</tr>\n",
              "<tr>\n",
              "  <th>Market - Rf</th> <td>    0.0053</td> <td>    0.028</td> <td>    0.187</td> <td> 0.852</td> <td>   -0.051</td> <td>    0.061</td>\n",
              "</tr>\n",
              "<tr>\n",
              "  <th>Constant</th>    <td>    0.0060</td> <td>    0.001</td> <td>    5.019</td> <td> 0.000</td> <td>    0.004</td> <td>    0.008</td>\n",
              "</tr>\n",
              "<tr>\n",
              "  <th>Value</th>       <td>    0.0162</td> <td>    0.036</td> <td>    0.445</td> <td> 0.657</td> <td>   -0.055</td> <td>    0.088</td>\n",
              "</tr>\n",
              "<tr>\n",
              "  <th>Size</th>        <td>   -0.0596</td> <td>    0.038</td> <td>   -1.584</td> <td> 0.114</td> <td>   -0.134</td> <td>    0.014</td>\n",
              "</tr>\n",
              "<tr>\n",
              "  <th>Momentum</th>    <td>    0.1904</td> <td>    0.025</td> <td>    7.624</td> <td> 0.000</td> <td>    0.141</td> <td>    0.240</td>\n",
              "</tr>\n",
              "</table>\n",
              "<table class=\"simpletable\">\n",
              "<tr>\n",
              "  <th>Omnibus:</th>       <td>24.650</td> <th>  Durbin-Watson:     </th> <td>   2.050</td>\n",
              "</tr>\n",
              "<tr>\n",
              "  <th>Prob(Omnibus):</th> <td> 0.000</td> <th>  Jarque-Bera (JB):  </th> <td>  56.440</td>\n",
              "</tr>\n",
              "<tr>\n",
              "  <th>Skew:</th>          <td> 0.404</td> <th>  Prob(JB):          </th> <td>5.55e-13</td>\n",
              "</tr>\n",
              "<tr>\n",
              "  <th>Kurtosis:</th>      <td> 5.005</td> <th>  Cond. No.          </th> <td>    34.5</td>\n",
              "</tr>\n",
              "</table><br/><br/>Notes:<br/>[1] Standard Errors assume that the covariance matrix of the errors is correctly specified."
            ]
          },
          "metadata": {},
          "execution_count": 30
        }
      ]
    },
    {
      "cell_type": "code",
      "source": [
        "replicating_port = excess_returns[\"Strategy Returns\"].values - lm.params[0]*(fff['mktrf'].values + fff['rf'].values) -(1-lm.params[0])*fff['rf'].values -lm.params[2]*fff['hml'].values-lm.params[3]*fff['smb'].values-lm.params[4]*fff['Momentum'].values"
      ],
      "metadata": {
        "id": "HiLOjpbbpkhF"
      },
      "execution_count": 31,
      "outputs": []
    },
    {
      "cell_type": "code",
      "source": [
        "te = replicating_port.std() \n",
        "alpha = np.mean(replicating_port) \n",
        "IR = alpha * 12 / (te * np.sqrt(12))\n",
        "\n",
        "print(\"Information Ratio: \" + str(IR))"
      ],
      "metadata": {
        "colab": {
          "base_uri": "https://localhost:8080/"
        },
        "id": "BHA16gWepy2m",
        "outputId": "beda72e2-b37f-4075-aa63-67a4840ae128"
      },
      "execution_count": 32,
      "outputs": [
        {
          "output_type": "stream",
          "name": "stdout",
          "text": [
            "Information Ratio: 1.0498639695925953\n"
          ]
        }
      ]
    },
    {
      "cell_type": "markdown",
      "source": [
        "**Transaction Costs**"
      ],
      "metadata": {
        "id": "1ispgLiSeyjQ"
      }
    },
    {
      "cell_type": "code",
      "source": [
        "excess_returns = pd.DataFrame(port_rets, index = plot_dates[1:], columns = [\"Strategy Returns\"]) \n",
        "excess_returns[\"Strategy Returns\"] = excess_returns[\"Strategy Returns\"] - 0.003634 #through try and guess until t is close to 1.96\n",
        "excess_returns[\"Risk Free\"] = rf.values\n",
        "excess_returns[\"Excess Returns\"] = excess_returns[\"Strategy Returns\"] - excess_returns[\"Risk Free\"]\n",
        "rets = excess_returns[\"Excess Returns\"].values\n",
        "\n",
        "mom = pd.read_csv('/content/drive/MyDrive/_Data_/momentum.csv', index_col = \"dateff\", parse_dates = True)[1:]\n",
        "\n",
        "fff = fff\n",
        "fff[\"Momentum\"] = mom[\"umd\"].values\n",
        "fff[\"Excess Returns\"] = rets\n",
        "\n",
        "port_excess = fff[\"Excess Returns\"]\n",
        "mkt_excess = fff[\"mktrf\"]\n",
        "exp_var = pd.DataFrame()\n",
        "exp_var[\"Market - Rf\"] = mkt_excess.copy()\n",
        "exp_var[\"Constant\"] = 1\n",
        "exp_var[\"Value\"] = fff[\"hml\"]\n",
        "exp_var[\"Size\"] = fff[\"smb\"]\n",
        "exp_var[\"Momentum\"] = fff[\"Momentum\"]\n",
        "lm = sm.OLS(port_excess, exp_var).fit()\n",
        "\n",
        "lm.summary()"
      ],
      "metadata": {
        "colab": {
          "base_uri": "https://localhost:8080/",
          "height": 516
        },
        "id": "YQWg5f4mexeX",
        "outputId": "2fc7fbdf-5b02-4afb-b893-b433337b5cf0"
      },
      "execution_count": 33,
      "outputs": [
        {
          "output_type": "execute_result",
          "data": {
            "text/plain": [
              "<class 'statsmodels.iolib.summary.Summary'>\n",
              "\"\"\"\n",
              "                            OLS Regression Results                            \n",
              "==============================================================================\n",
              "Dep. Variable:         Excess Returns   R-squared:                       0.200\n",
              "Model:                            OLS   Adj. R-squared:                  0.188\n",
              "Method:                 Least Squares   F-statistic:                     17.77\n",
              "Date:                Thu, 15 Dec 2022   Prob (F-statistic):           4.86e-13\n",
              "Time:                        21:53:10   Log-Likelihood:                 727.76\n",
              "No. Observations:                 290   AIC:                            -1446.\n",
              "Df Residuals:                     285   BIC:                            -1427.\n",
              "Df Model:                           4                                         \n",
              "Covariance Type:            nonrobust                                         \n",
              "===============================================================================\n",
              "                  coef    std err          t      P>|t|      [0.025      0.975]\n",
              "-------------------------------------------------------------------------------\n",
              "Market - Rf     0.0053      0.028      0.187      0.852      -0.051       0.061\n",
              "Constant        0.0023      0.001      1.960      0.051   -9.53e-06       0.005\n",
              "Value           0.0162      0.036      0.445      0.657      -0.055       0.088\n",
              "Size           -0.0596      0.038     -1.584      0.114      -0.134       0.014\n",
              "Momentum        0.1904      0.025      7.624      0.000       0.141       0.240\n",
              "==============================================================================\n",
              "Omnibus:                       24.650   Durbin-Watson:                   2.050\n",
              "Prob(Omnibus):                  0.000   Jarque-Bera (JB):               56.440\n",
              "Skew:                           0.404   Prob(JB):                     5.55e-13\n",
              "Kurtosis:                       5.005   Cond. No.                         34.5\n",
              "==============================================================================\n",
              "\n",
              "Notes:\n",
              "[1] Standard Errors assume that the covariance matrix of the errors is correctly specified.\n",
              "\"\"\""
            ],
            "text/html": [
              "<table class=\"simpletable\">\n",
              "<caption>OLS Regression Results</caption>\n",
              "<tr>\n",
              "  <th>Dep. Variable:</th>     <td>Excess Returns</td>  <th>  R-squared:         </th> <td>   0.200</td>\n",
              "</tr>\n",
              "<tr>\n",
              "  <th>Model:</th>                   <td>OLS</td>       <th>  Adj. R-squared:    </th> <td>   0.188</td>\n",
              "</tr>\n",
              "<tr>\n",
              "  <th>Method:</th>             <td>Least Squares</td>  <th>  F-statistic:       </th> <td>   17.77</td>\n",
              "</tr>\n",
              "<tr>\n",
              "  <th>Date:</th>             <td>Thu, 15 Dec 2022</td> <th>  Prob (F-statistic):</th> <td>4.86e-13</td>\n",
              "</tr>\n",
              "<tr>\n",
              "  <th>Time:</th>                 <td>21:53:10</td>     <th>  Log-Likelihood:    </th> <td>  727.76</td>\n",
              "</tr>\n",
              "<tr>\n",
              "  <th>No. Observations:</th>      <td>   290</td>      <th>  AIC:               </th> <td>  -1446.</td>\n",
              "</tr>\n",
              "<tr>\n",
              "  <th>Df Residuals:</th>          <td>   285</td>      <th>  BIC:               </th> <td>  -1427.</td>\n",
              "</tr>\n",
              "<tr>\n",
              "  <th>Df Model:</th>              <td>     4</td>      <th>                     </th>     <td> </td>   \n",
              "</tr>\n",
              "<tr>\n",
              "  <th>Covariance Type:</th>      <td>nonrobust</td>    <th>                     </th>     <td> </td>   \n",
              "</tr>\n",
              "</table>\n",
              "<table class=\"simpletable\">\n",
              "<tr>\n",
              "       <td></td>          <th>coef</th>     <th>std err</th>      <th>t</th>      <th>P>|t|</th>  <th>[0.025</th>    <th>0.975]</th>  \n",
              "</tr>\n",
              "<tr>\n",
              "  <th>Market - Rf</th> <td>    0.0053</td> <td>    0.028</td> <td>    0.187</td> <td> 0.852</td> <td>   -0.051</td> <td>    0.061</td>\n",
              "</tr>\n",
              "<tr>\n",
              "  <th>Constant</th>    <td>    0.0023</td> <td>    0.001</td> <td>    1.960</td> <td> 0.051</td> <td>-9.53e-06</td> <td>    0.005</td>\n",
              "</tr>\n",
              "<tr>\n",
              "  <th>Value</th>       <td>    0.0162</td> <td>    0.036</td> <td>    0.445</td> <td> 0.657</td> <td>   -0.055</td> <td>    0.088</td>\n",
              "</tr>\n",
              "<tr>\n",
              "  <th>Size</th>        <td>   -0.0596</td> <td>    0.038</td> <td>   -1.584</td> <td> 0.114</td> <td>   -0.134</td> <td>    0.014</td>\n",
              "</tr>\n",
              "<tr>\n",
              "  <th>Momentum</th>    <td>    0.1904</td> <td>    0.025</td> <td>    7.624</td> <td> 0.000</td> <td>    0.141</td> <td>    0.240</td>\n",
              "</tr>\n",
              "</table>\n",
              "<table class=\"simpletable\">\n",
              "<tr>\n",
              "  <th>Omnibus:</th>       <td>24.650</td> <th>  Durbin-Watson:     </th> <td>   2.050</td>\n",
              "</tr>\n",
              "<tr>\n",
              "  <th>Prob(Omnibus):</th> <td> 0.000</td> <th>  Jarque-Bera (JB):  </th> <td>  56.440</td>\n",
              "</tr>\n",
              "<tr>\n",
              "  <th>Skew:</th>          <td> 0.404</td> <th>  Prob(JB):          </th> <td>5.55e-13</td>\n",
              "</tr>\n",
              "<tr>\n",
              "  <th>Kurtosis:</th>      <td> 5.005</td> <th>  Cond. No.          </th> <td>    34.5</td>\n",
              "</tr>\n",
              "</table><br/><br/>Notes:<br/>[1] Standard Errors assume that the covariance matrix of the errors is correctly specified."
            ]
          },
          "metadata": {},
          "execution_count": 33
        }
      ]
    },
    {
      "cell_type": "markdown",
      "source": [
        "**Historical VaR**"
      ],
      "metadata": {
        "id": "lKRbkE7QC7vu"
      }
    },
    {
      "cell_type": "code",
      "source": [
        "rets = sorted(excess_returns[\"Excess Returns\"].values)\n",
        "length = len(rets)\n",
        "index = round(length / 100, 0) - 1\n",
        "\n",
        "var = rets[int(index)]\n",
        "\n",
        "print(\"Historical VaR: \" + str(var * 100) + \"%\")"
      ],
      "metadata": {
        "colab": {
          "base_uri": "https://localhost:8080/"
        },
        "id": "6U1sKi_eBO_I",
        "outputId": "0e29fbb1-ddde-4742-c29e-6d2ffe8ca8c5"
      },
      "execution_count": 34,
      "outputs": [
        {
          "output_type": "stream",
          "name": "stdout",
          "text": [
            "Historical VaR: -6.175256127534389%\n"
          ]
        }
      ]
    },
    {
      "cell_type": "code",
      "source": [
        "years = range(1998, 2023)\n",
        "srs = []\n",
        "\n",
        "for i in range(len(years)-1):\n",
        "  rets = excess_returns['Excess Returns'][str(years[i]) : str(years[i+1])]\n",
        "  mean = np.mean(rets)\n",
        "  std = statistics.pstdev(rets)\n",
        "  sr = mean/std * np.sqrt(12)\n",
        "  srs.append(sr)\n",
        "\n",
        "  print(str(years[i]) + \": \" + str(sr))\n",
        "\n",
        "\n",
        "rets = excess_returns['Excess Returns'][\"2022\" : ]\n",
        "mean = np.mean(rets)\n",
        "std = statistics.pstdev(rets)\n",
        "sr = mean/std * np.sqrt(12)\n",
        "srs.append(sr)\n",
        "\n",
        "print(\"2022: \" + str(sr))"
      ],
      "metadata": {
        "colab": {
          "base_uri": "https://localhost:8080/"
        },
        "id": "Mip849oJCm5J",
        "outputId": "3e5ff283-e4da-4eb4-8f44-f717c7001e93"
      },
      "execution_count": 35,
      "outputs": [
        {
          "output_type": "stream",
          "name": "stdout",
          "text": [
            "1998: 1.870756803992028\n",
            "1999: 1.6791921171701063\n",
            "2000: 0.8381731862719386\n",
            "2001: 0.44594383971529833\n",
            "2002: 0.8983490165053521\n",
            "2003: -0.3396541368050236\n",
            "2004: 0.6796476780595373\n",
            "2005: 3.268629850956148\n",
            "2006: 0.11202281868320017\n",
            "2007: 1.2713349641377985\n",
            "2008: -1.0969549448202127\n",
            "2009: -1.7185593804686854\n",
            "2010: -0.4208284953995594\n",
            "2011: -0.2977857657746557\n",
            "2012: -1.1686070176928445\n",
            "2013: -0.9819805892834012\n",
            "2014: 1.2029411518595845\n",
            "2015: 0.6597792073883539\n",
            "2016: -1.150198298367032\n",
            "2017: 1.6145971760006008\n",
            "2018: 1.3856787979960261\n",
            "2019: -0.5508679400725144\n",
            "2020: -0.7785141069360648\n",
            "2021: 0.8849449101814019\n",
            "2022: 3.649500147188924\n"
          ]
        }
      ]
    },
    {
      "cell_type": "code",
      "source": [
        "df = pd.DataFrame(srs, index = years)\n",
        "plt.figure(figsize=(24,7))\n",
        "plt.plot(df)\n",
        "plt.axhline(y=0, color = \"black\", alpha = 0.2)"
      ],
      "metadata": {
        "colab": {
          "base_uri": "https://localhost:8080/",
          "height": 445
        },
        "id": "vDW_fEMkHoc-",
        "outputId": "77cd3bfc-3293-41a1-afd1-f3f662e9309c"
      },
      "execution_count": 36,
      "outputs": [
        {
          "output_type": "execute_result",
          "data": {
            "text/plain": [
              "<matplotlib.lines.Line2D at 0x7f760c4c8700>"
            ]
          },
          "metadata": {},
          "execution_count": 36
        },
        {
          "output_type": "display_data",
          "data": {
            "text/plain": [
              "<Figure size 1728x504 with 1 Axes>"
            ],
            "image/png": "[encoded data removed]"
          },
          "metadata": {
            "needs_background": "light"
          }
        }
      ]
    }
  ]
}