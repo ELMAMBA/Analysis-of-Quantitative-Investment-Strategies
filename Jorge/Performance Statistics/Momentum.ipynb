{
  "nbformat": 4,
  "nbformat_minor": 0,
  "metadata": {
    "colab": {
      "provenance": []
    },
    "kernelspec": {
      "name": "python3",
      "display_name": "Python 3"
    },
    "language_info": {
      "name": "python"
    }
  },
  "cells": [
    {
      "cell_type": "code",
      "execution_count": 1,
      "metadata": {
        "id": "aCd30rJ1sdik"
      },
      "outputs": [],
      "source": [
        "import numpy as np\n",
        "import pandas as pd\n",
        "from google.colab import drive\n",
        "import warnings\n",
        "warnings.simplefilter(action='ignore', category=FutureWarning)\n",
        "import json\n",
        "TOLERANCE = 1e-10\n",
        "import pickle\n",
        "import statistics\n",
        "import matplotlib.pyplot as plt\n",
        "from matplotlib import pyplot as plt, dates as mdates\n",
        "from scipy.stats import skew, kurtosis\n",
        "import statsmodels.api as sm\n",
        "from scipy import stats\n",
        "import seaborn as sns"
      ]
    },
    {
      "cell_type": "code",
      "source": [
        "drive.mount('/content/drive')"
      ],
      "metadata": {
        "colab": {
          "base_uri": "https://localhost:8080/"
        },
        "id": "pcmMpA0pshvF",
        "outputId": "e95fe6cd-ec23-4260-fb16-a03bfdfb473e"
      },
      "execution_count": 2,
      "outputs": [
        {
          "output_type": "stream",
          "name": "stdout",
          "text": [
            "Mounted at /content/drive\n"
          ]
        }
      ]
    },
    {
      "cell_type": "code",
      "source": [
        "mom = pd.read_csv('/content/drive/MyDrive/_Data_/momentum.csv', index_col = \"dateff\", parse_dates = True)[1:]\n",
        "with open(\"/content/drive/MyDrive/_Data_/dates.json\", \"rb\") as data:\n",
        "    plot_dates = pickle.load(data)[12:]\n",
        "\n",
        "rets = mom[\"umd\"].values"
      ],
      "metadata": {
        "id": "7mmT08-xslkz"
      },
      "execution_count": 3,
      "outputs": []
    },
    {
      "cell_type": "markdown",
      "source": [
        "**Full Sample**"
      ],
      "metadata": {
        "id": "lj8RNZUUs8mI"
      }
    },
    {
      "cell_type": "code",
      "source": [
        "std = statistics.pstdev(rets) * np.sqrt(12) * 100\n",
        "mean = np.mean(rets) * 12 * 100\n",
        "skewness = skew(rets)\n",
        "kurt = kurtosis(rets)\n",
        "max = np.max(rets) * 100\n",
        "min = np.min(rets) * 100\n",
        "std_negative = statistics.pstdev([ret for ret in rets if ret < 0])  * np.sqrt(12) * 100\n",
        "\n",
        "print(\"Standard Deviation: \" + str(std) + \"%\")\n",
        "print(\"Average Annual Return: \" + str(mean) + \"%\")\n",
        "print(\"Sharpe Ratio: \" + str(mean/std))\n",
        "print(\"Sortino Ratio: \" + str(mean/std_negative))\n",
        "print(\"Largest Gain: \" + str(max) + \"%\")\n",
        "print(\"Largest Loss: \" + str(min) + \"%\") \n",
        "print(\"Skewness: \" + str(skewness))\n",
        "print(\"Kurtosis: \" + str(kurt))"
      ],
      "metadata": {
        "colab": {
          "base_uri": "https://localhost:8080/"
        },
        "id": "WbZgSZhws5_p",
        "outputId": "61615352-a667-4fde-8c87-b18664da2a5f"
      },
      "execution_count": 4,
      "outputs": [
        {
          "output_type": "stream",
          "name": "stdout",
          "text": [
            "Standard Deviation: 18.06628250454111%\n",
            "Average Annual Return: 3.867724137931034%\n",
            "Sharpe Ratio: 0.21408522406083538\n",
            "Sortino Ratio: 0.23722806166389168\n",
            "Largest Gain: 18.2%\n",
            "Largest Loss: -34.300000000000004%\n",
            "Skewness: -1.3362330264061444\n",
            "Kurtosis: 8.554504268703505\n"
          ]
        }
      ]
    },
    {
      "cell_type": "code",
      "source": [
        "cum_ret = 1\n",
        "cum_rets = [1]\n",
        "for ret in rets:\n",
        "  cum_ret = cum_ret * (1 + ret)\n",
        "  cum_rets.append(cum_ret)\n",
        "\n",
        "max_ret = 1\n",
        "drawdowns = []\n",
        "for ret in cum_rets:\n",
        "  max_ret = np.max([max_ret, ret])\n",
        "  drawdowns.append(-(max_ret - ret) / max_ret * 100)\n",
        "\n",
        "df = pd.DataFrame(cum_rets, plot_dates, columns = [\"Cumulative Return\"])\n",
        "df[\"Drawdown\"] = drawdowns\n",
        "\n",
        "print(\"Largest Drawdown: \" + str(round(np.min(drawdowns), 2)) + \"%\")\n",
        "print(\"Calmar Ratio: \" + str(mean / -np.min(drawdowns)))"
      ],
      "metadata": {
        "colab": {
          "base_uri": "https://localhost:8080/"
        },
        "id": "1HTkDxz2tA-7",
        "outputId": "3a55f04e-28ea-4043-dbae-cb5ea8f98b1d"
      },
      "execution_count": 5,
      "outputs": [
        {
          "output_type": "stream",
          "name": "stdout",
          "text": [
            "Largest Drawdown: -57.64%\n",
            "Calmar Ratio: 0.0671053012182695\n"
          ]
        }
      ]
    },
    {
      "cell_type": "markdown",
      "source": [
        "**First Half**"
      ],
      "metadata": {
        "id": "WTwhu1wGtC-t"
      }
    },
    {
      "cell_type": "code",
      "source": [
        "rets = mom[\"umd\"][:\"2010\"].values\n",
        "\n",
        "std = statistics.pstdev(rets) * np.sqrt(12) * 100\n",
        "mean = np.mean(rets) * 12 * 100\n",
        "skewness = skew(rets)\n",
        "kurt = kurtosis(rets)\n",
        "max = np.max(rets) * 100\n",
        "min = np.min(rets) * 100\n",
        "std_negative = statistics.pstdev([ret for ret in rets if ret < 0])  * np.sqrt(12) * 100\n",
        "\n",
        "print(\"Standard Deviation: \" + str(std) + \"%\")\n",
        "print(\"Average Annual Return: \" + str(mean) + \"%\")\n",
        "print(\"Sharpe Ratio: \" + str(mean/std))\n",
        "print(\"Sortino Ratio: \" + str(mean/std_negative))\n",
        "print(\"Largest Gain: \" + str(max) + \"%\")\n",
        "print(\"Largest Loss: \" + str(min) + \"%\") \n",
        "print(\"Skewness: \" + str(skewness))\n",
        "print(\"Kurtosis: \" + str(kurt))"
      ],
      "metadata": {
        "colab": {
          "base_uri": "https://localhost:8080/"
        },
        "id": "ARpKP4EztEG_",
        "outputId": "13fae33a-d9af-40d1-b946-693123d387db"
      },
      "execution_count": 6,
      "outputs": [
        {
          "output_type": "stream",
          "name": "stdout",
          "text": [
            "Standard Deviation: 22.01848479250451%\n",
            "Average Annual Return: 5.108129032258065%\n",
            "Sharpe Ratio: 0.23199275882947967\n",
            "Sortino Ratio: 0.2498808602682119\n",
            "Largest Gain: 18.2%\n",
            "Largest Loss: -34.300000000000004%\n",
            "Skewness: -1.3667856517194539\n",
            "Kurtosis: 6.556889288266623\n"
          ]
        }
      ]
    },
    {
      "cell_type": "code",
      "source": [
        "cum_ret = 1\n",
        "cum_rets = [1]\n",
        "for ret in rets:\n",
        "  cum_ret = cum_ret * (1 + ret)\n",
        "  cum_rets.append(cum_ret)\n",
        "\n",
        "max_ret = 1\n",
        "drawdowns = []\n",
        "for ret in cum_rets:\n",
        "  max_ret = np.max([max_ret, ret])\n",
        "  drawdowns.append(-(max_ret - ret) / max_ret * 100)\n",
        "\n",
        "df = pd.DataFrame(cum_rets, columns = [\"Cumulative Return\"])\n",
        "df[\"Drawdown\"] = drawdowns\n",
        "\n",
        "print(\"Largest Drawdown: \" + str(round(np.min(drawdowns), 2)) + \"%\")\n",
        "print(\"Calmar Ratio: \" + str(mean / -np.min(drawdowns)))"
      ],
      "metadata": {
        "colab": {
          "base_uri": "https://localhost:8080/"
        },
        "id": "q2k6d-3PtZDt",
        "outputId": "b7ad47ba-65da-4948-db6d-0ad919e43a88"
      },
      "execution_count": 7,
      "outputs": [
        {
          "output_type": "stream",
          "name": "stdout",
          "text": [
            "Largest Drawdown: -57.64%\n",
            "Calmar Ratio: 0.0886264183140088\n"
          ]
        }
      ]
    },
    {
      "cell_type": "markdown",
      "source": [
        "**Second Half**"
      ],
      "metadata": {
        "id": "9MEYoJU9tdQC"
      }
    },
    {
      "cell_type": "code",
      "source": [
        "rets = mom[\"umd\"][\"2010\":].values\n",
        "\n",
        "std = statistics.pstdev(rets) * np.sqrt(12) * 100\n",
        "mean = np.mean(rets) * 12 * 100\n",
        "skewness = skew(rets)\n",
        "kurt = kurtosis(rets)\n",
        "max = np.max(rets) * 100\n",
        "min = np.min(rets) * 100\n",
        "std_negative = statistics.pstdev([ret for ret in rets if ret < 0])  * np.sqrt(12) * 100\n",
        "\n",
        "print(\"Standard Deviation: \" + str(std) + \"%\")\n",
        "print(\"Average Annual Return: \" + str(mean) + \"%\")\n",
        "print(\"Sharpe Ratio: \" + str(mean/std))\n",
        "print(\"Sortino Ratio: \" + str(mean/std_negative))\n",
        "print(\"Largest Gain: \" + str(max) + \"%\")\n",
        "print(\"Largest Loss: \" + str(min) + \"%\") \n",
        "print(\"Skewness: \" + str(skewness))\n",
        "print(\"Kurtosis: \" + str(kurt))"
      ],
      "metadata": {
        "colab": {
          "base_uri": "https://localhost:8080/"
        },
        "id": "KKMgTmRQtez1",
        "outputId": "694e22c9-686a-4f3d-c1c0-8e55d34cbd39"
      },
      "execution_count": 8,
      "outputs": [
        {
          "output_type": "stream",
          "name": "stdout",
          "text": [
            "Standard Deviation: 11.845667316795733%\n",
            "Average Annual Return: 2.790204081632653%\n",
            "Sharpe Ratio: 0.2355463822351721\n",
            "Sortino Ratio: 0.3278406022094588\n",
            "Largest Gain: 9.98%\n",
            "Largest Loss: -12.43%\n",
            "Skewness: -0.3701860935819036\n",
            "Kurtosis: 1.1756648245284964\n"
          ]
        }
      ]
    },
    {
      "cell_type": "code",
      "source": [
        "cum_ret = 1\n",
        "cum_rets = [1]\n",
        "for ret in rets:\n",
        "  cum_ret = cum_ret * (1 + ret)\n",
        "  cum_rets.append(cum_ret)\n",
        "\n",
        "max_ret = 1\n",
        "drawdowns = []\n",
        "for ret in cum_rets:\n",
        "  max_ret = np.max([max_ret, ret])\n",
        "  drawdowns.append(-(max_ret - ret) / max_ret * 100)\n",
        "\n",
        "df = pd.DataFrame(cum_rets, columns = [\"Cumulative Return\"])\n",
        "df[\"Drawdown\"] = drawdowns\n",
        "\n",
        "print(\"Largest Drawdown: \" + str(round(np.min(drawdowns), 2)) + \"%\")\n",
        "print(\"Calmar Ratio: \" + str(mean / -np.min(drawdowns)))"
      ],
      "metadata": {
        "colab": {
          "base_uri": "https://localhost:8080/"
        },
        "id": "wPvvi1LGtlje",
        "outputId": "edf527d6-9935-47af-c47e-2585ba4dc709"
      },
      "execution_count": 9,
      "outputs": [
        {
          "output_type": "stream",
          "name": "stdout",
          "text": [
            "Largest Drawdown: -25.07%\n",
            "Calmar Ratio: 0.11129767998943345\n"
          ]
        }
      ]
    },
    {
      "cell_type": "markdown",
      "source": [
        "**Dot-com bubble crash (1998-2003)**"
      ],
      "metadata": {
        "id": "l0fakK5gtpHI"
      }
    },
    {
      "cell_type": "code",
      "source": [
        "rets = mom[\"umd\"][\"1998\":\"2004\"].values\n",
        "\n",
        "std = statistics.pstdev(rets) * np.sqrt(12) * 100\n",
        "mean = np.mean(rets) * 12 * 100\n",
        "skewness = skew(rets)\n",
        "kurt = kurtosis(rets)\n",
        "max = np.max(rets) * 100\n",
        "min = np.min(rets) * 100\n",
        "std_negative = statistics.pstdev([ret for ret in rets if ret < 0])  * np.sqrt(12) * 100\n",
        "\n",
        "print(\"Standard Deviation: \" + str(std) + \"%\")\n",
        "print(\"Average Annual Return: \" + str(mean) + \"%\")\n",
        "print(\"Sharpe Ratio: \" + str(mean/std))\n",
        "print(\"Sortino Ratio: \" + str(mean/std_negative))\n",
        "print(\"Largest Gain: \" + str(max) + \"%\")\n",
        "print(\"Largest Loss: \" + str(min) + \"%\") \n",
        "print(\"Skewness: \" + str(skewness))\n",
        "print(\"Kurtosis: \" + str(kurt))"
      ],
      "metadata": {
        "colab": {
          "base_uri": "https://localhost:8080/"
        },
        "id": "7XA3_222tou6",
        "outputId": "8e4f367b-e6ea-4e96-d688-0a6c7958d264"
      },
      "execution_count": 10,
      "outputs": [
        {
          "output_type": "stream",
          "name": "stdout",
          "text": [
            "Standard Deviation: 23.355332924617915%\n",
            "Average Annual Return: 10.863614457831321%\n",
            "Sharpe Ratio: 0.46514491970184774\n",
            "Sortino Ratio: 0.5942011920353842\n",
            "Largest Gain: 18.2%\n",
            "Largest Loss: -25.3%\n",
            "Skewness: -0.5902191814110821\n",
            "Kurtosis: 2.1568482005215888\n"
          ]
        }
      ]
    },
    {
      "cell_type": "code",
      "source": [
        "cum_ret = 1\n",
        "cum_rets = [1]\n",
        "for ret in rets:\n",
        "  cum_ret = cum_ret * (1 + ret)\n",
        "  cum_rets.append(cum_ret)\n",
        "\n",
        "max_ret = 1\n",
        "drawdowns = []\n",
        "for ret in cum_rets:\n",
        "  max_ret = np.max([max_ret, ret])\n",
        "  drawdowns.append(-(max_ret - ret) / max_ret * 100)\n",
        "\n",
        "df = pd.DataFrame(cum_rets, columns = [\"Cumulative Return\"])\n",
        "df[\"Drawdown\"] = drawdowns\n",
        "\n",
        "print(\"Largest Drawdown: \" + str(round(np.min(drawdowns), 2)) + \"%\")\n",
        "print(\"Calmar Ratio: \" + str(mean / -np.min(drawdowns)))"
      ],
      "metadata": {
        "colab": {
          "base_uri": "https://localhost:8080/"
        },
        "id": "UWDEsE68tvyv",
        "outputId": "910193c5-02fd-4b05-f3d0-9c4ebf60fdd3"
      },
      "execution_count": 11,
      "outputs": [
        {
          "output_type": "stream",
          "name": "stdout",
          "text": [
            "Largest Drawdown: -31.68%\n",
            "Calmar Ratio: 0.34292473286171593\n"
          ]
        }
      ]
    },
    {
      "cell_type": "markdown",
      "source": [
        "**2007-2008 Market Crash (2007-2010)**"
      ],
      "metadata": {
        "id": "AcVBZIm0t0vd"
      }
    },
    {
      "cell_type": "code",
      "source": [
        "rets = mom[\"umd\"][\"2007\":\"2011\"].values\n",
        "\n",
        "std = statistics.pstdev(rets) * np.sqrt(12) * 100\n",
        "mean = np.mean(rets) * 12 * 100\n",
        "skewness = skew(rets)\n",
        "kurt = kurtosis(rets)\n",
        "max = np.max(rets) * 100\n",
        "min = np.min(rets) * 100\n",
        "std_negative = statistics.pstdev([ret for ret in rets if ret < 0])  * np.sqrt(12) * 100\n",
        "\n",
        "print(\"Standard Deviation: \" + str(std) + \"%\")\n",
        "print(\"Average Annual Return: \" + str(mean) + \"%\")\n",
        "print(\"Sharpe Ratio: \" + str(mean/std))\n",
        "print(\"Sortino Ratio: \" + str(mean/std_negative))\n",
        "print(\"Largest Gain: \" + str(max) + \"%\")\n",
        "print(\"Largest Loss: \" + str(min) + \"%\") \n",
        "print(\"Skewness: \" + str(skewness))\n",
        "print(\"Kurtosis: \" + str(kurt))"
      ],
      "metadata": {
        "colab": {
          "base_uri": "https://localhost:8080/"
        },
        "id": "vYrPJjpDt9i0",
        "outputId": "f0582f7d-2655-47a0-a9dd-706d70b1386c"
      },
      "execution_count": 12,
      "outputs": [
        {
          "output_type": "stream",
          "name": "stdout",
          "text": [
            "Standard Deviation: 21.920231834236304%\n",
            "Average Annual Return: -1.7260000000000004%\n",
            "Sharpe Ratio: -0.07874004312783921\n",
            "Sortino Ratio: -0.07152053318189804\n",
            "Largest Gain: 12.75%\n",
            "Largest Loss: -34.300000000000004%\n",
            "Skewness: -2.670082678755419\n",
            "Kurtosis: 12.170786509020745\n"
          ]
        }
      ]
    },
    {
      "cell_type": "code",
      "source": [
        "cum_ret = 1\n",
        "cum_rets = [1]\n",
        "for ret in rets:\n",
        "  cum_ret = cum_ret * (1 + ret)\n",
        "  cum_rets.append(cum_ret)\n",
        "\n",
        "max_ret = 1\n",
        "drawdowns = []\n",
        "for ret in cum_rets:\n",
        "  max_ret = np.max([max_ret, ret])\n",
        "  drawdowns.append(-(max_ret - ret) / max_ret * 100)\n",
        "\n",
        "df = pd.DataFrame(cum_rets, columns = [\"Cumulative Return\"])\n",
        "df[\"Drawdown\"] = drawdowns\n",
        "\n",
        "print(\"Largest Drawdown: \" + str(round(np.min(drawdowns), 2)) + \"%\")\n",
        "print(\"Calmar Ratio: \" + str(mean / -np.min(drawdowns)))"
      ],
      "metadata": {
        "colab": {
          "base_uri": "https://localhost:8080/"
        },
        "id": "f8MJXrmpuBYQ",
        "outputId": "cbb70873-36d3-4ee2-f720-fecdbe7d05f8"
      },
      "execution_count": 13,
      "outputs": [
        {
          "output_type": "stream",
          "name": "stdout",
          "text": [
            "Largest Drawdown: -57.64%\n",
            "Calmar Ratio: -0.029946228265568843\n"
          ]
        }
      ]
    },
    {
      "cell_type": "markdown",
      "source": [
        "**Covid**"
      ],
      "metadata": {
        "id": "WRHkhteD6JKX"
      }
    },
    {
      "cell_type": "code",
      "source": [
        "rets = mom[\"umd\"][\"2020\":\"2021\"].values\n",
        "\n",
        "std = statistics.pstdev(rets) * np.sqrt(12) * 100\n",
        "mean = np.mean(rets) * 12 * 100\n",
        "skewness = skew(rets)\n",
        "kurt = kurtosis(rets)\n",
        "max = np.max(rets) * 100\n",
        "min = np.min(rets) * 100\n",
        "std_negative = statistics.pstdev([ret for ret in rets if ret < 0])  * np.sqrt(12) * 100\n",
        "\n",
        "print(\"Standard Deviation: \" + str(std) + \"%\")\n",
        "print(\"Average Annual Return: \" + str(mean) + \"%\")\n",
        "print(\"Sharpe Ratio: \" + str(mean/std))\n",
        "print(\"Sortino Ratio: \" + str(mean/std_negative))\n",
        "print(\"Largest Gain: \" + str(max) + \"%\")\n",
        "print(\"Largest Loss: \" + str(min) + \"%\") \n",
        "print(\"Skewness: \" + str(skewness))\n",
        "print(\"Kurtosis: \" + str(kurt))"
      ],
      "metadata": {
        "colab": {
          "base_uri": "https://localhost:8080/"
        },
        "id": "iP5txPcW6KG0",
        "outputId": "98b300d5-7d21-4462-8bc3-aacc65f354b2"
      },
      "execution_count": 14,
      "outputs": [
        {
          "output_type": "stream",
          "name": "stdout",
          "text": [
            "Standard Deviation: 16.173353020220222%\n",
            "Average Annual Return: -0.274999999999999%\n",
            "Sharpe Ratio: -0.017003276912102825\n",
            "Sortino Ratio: -0.022559304035031112\n",
            "Largest Gain: 7.969999999999999%\n",
            "Largest Loss: -12.43%\n",
            "Skewness: -0.6023891464021013\n",
            "Kurtosis: 0.44772382974407154\n"
          ]
        }
      ]
    },
    {
      "cell_type": "code",
      "source": [
        "cum_ret = 1\n",
        "cum_rets = [1]\n",
        "for ret in rets:\n",
        "  cum_ret = cum_ret * (1 + ret)\n",
        "  cum_rets.append(cum_ret)\n",
        "\n",
        "max_ret = 1\n",
        "drawdowns = []\n",
        "for ret in cum_rets:\n",
        "  max_ret = np.max([max_ret, ret])\n",
        "  drawdowns.append(-(max_ret - ret) / max_ret * 100)\n",
        "\n",
        "df = pd.DataFrame(cum_rets, columns = [\"Cumulative Return\"])\n",
        "df[\"Drawdown\"] = drawdowns\n",
        "\n",
        "print(\"Largest Drawdown: \" + str(round(np.min(drawdowns), 2)) + \"%\")\n",
        "print(\"Calmar Ratio: \" + str(mean / -np.min(drawdowns)))"
      ],
      "metadata": {
        "id": "pf7NBr546RXR",
        "outputId": "9653a60a-1053-479a-d8e2-e887adbaeb58",
        "colab": {
          "base_uri": "https://localhost:8080/"
        }
      },
      "execution_count": 15,
      "outputs": [
        {
          "output_type": "stream",
          "name": "stdout",
          "text": [
            "Largest Drawdown: -25.07%\n",
            "Calmar Ratio: -0.010969399048110074\n"
          ]
        }
      ]
    }
  ]
}