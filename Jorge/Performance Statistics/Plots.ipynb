{
  "cells": [
    {
      "cell_type": "code",
      "execution_count": null,
      "metadata": {
        "id": "EDXpN8fzOcCB"
      },
      "outputs": [],
      "source": [
        "import numpy as np\n",
        "import pandas as pd\n",
        "from google.colab import drive\n",
        "import warnings\n",
        "warnings.simplefilter(action='ignore', category=FutureWarning)\n",
        "import json\n",
        "TOLERANCE = 1e-10\n",
        "import pickle\n",
        "import statistics\n",
        "import matplotlib.pyplot as plt\n",
        "from matplotlib import pyplot as plt, dates as mdates\n",
        "from scipy.stats import skew, kurtosis, norm\n",
        "import statsmodels.api as sm\n",
        "from scipy import stats\n",
        "import seaborn as sns"
      ]
    },
    {
      "cell_type": "code",
      "execution_count": null,
      "metadata": {
        "id": "OUVWMrPOOiGx"
      },
      "outputs": [],
      "source": [
        "drive.mount('/content/drive')"
      ]
    },
    {
      "cell_type": "code",
      "execution_count": null,
      "metadata": {
        "id": "zNgP7kDFQqMm"
      },
      "outputs": [],
      "source": [
        "fff = pd.read_csv('/content/drive/MyDrive/_Data_/ffm.csv', index_col = \"dateff\", parse_dates = True)[1:]\n",
        "vix = pd.read_csv('/content/drive/MyDrive/_Data_/^VIX.csv', index_col = \"Date\", parse_dates = True)[\"Adj Close\"]\n",
        "rf = fff[\"rf\"]\n",
        "signals = []\n",
        "for value in vix.values:\n",
        "  if value > 30:\n",
        "    signals.append(\"High\")\n",
        "  elif 15 < value <= 30:\n",
        "    signals.append(\"Normal\")\n",
        "  else:\n",
        "    signals.append(\"Low\")\n",
        "\n",
        "with open(\"/content/drive/MyDrive/_Data_/port_rets.json\", \"rb\") as data:\n",
        "    port_rets = pickle.load(data)[:-1]\n",
        "\n",
        "with open(\"/content/drive/MyDrive/_Data_/ports_beta.json\", \"rb\") as data:\n",
        "    port_rets_beta = pickle.load(data)[:-1]\n",
        "\n",
        "\n",
        "with open(\"/content/drive/MyDrive/_Data_/dates.json\", \"rb\") as data:\n",
        "    plot_dates = pickle.load(data)[12:]\n",
        "\n"
      ]
    },
    {
      "cell_type": "code",
      "execution_count": null,
      "metadata": {
        "id": "Mw7PqmwqeCcu"
      },
      "outputs": [],
      "source": [
        "excess_returns = pd.DataFrame(port_rets, index = plot_dates[1:], columns = [\"Strategy Returns\"]) \n",
        "excess_returns[\"Risk Free\"] = rf.values\n",
        "excess_returns[\"Excess Returns\"] = excess_returns[\"Strategy Returns\"] - excess_returns[\"Risk Free\"]\n",
        "excess_returns_beta = pd.DataFrame(port_rets_beta, index = plot_dates[1:], columns = [\"Strategy Returns\"]) \n",
        "excess_returns_beta[\"Risk Free\"] = rf.values\n",
        "excess_returns_beta[\"Excess Returns\"] = excess_returns_beta[\"Strategy Returns\"] - excess_returns_beta[\"Risk Free\"]"
      ]
    },
    {
      "cell_type": "markdown",
      "metadata": {
        "id": "qlUyjCOQPBC2"
      },
      "source": [
        "**Sharpe Ratios throughout time**"
      ]
    },
    {
      "cell_type": "code",
      "execution_count": null,
      "metadata": {
        "id": "2Qn7Q3ukeG1F"
      },
      "outputs": [],
      "source": [
        "years = range(1998, 2023)\n",
        "srs = []\n",
        "\n",
        "for i in range(len(years)-1):\n",
        "  rets = excess_returns['Excess Returns'][str(years[i]) : str(years[i+1])]\n",
        "  mean = np.mean(rets)\n",
        "  std = statistics.pstdev(rets)\n",
        "  sr = mean/std * np.sqrt(12)\n",
        "  srs.append(sr)\n",
        "\n",
        "rets = excess_returns['Excess Returns'][\"2022\" : ]\n",
        "mean = np.mean(rets)\n",
        "std = statistics.pstdev(rets)\n",
        "sr = mean/std * np.sqrt(12)\n",
        "srs.append(sr)\n"
      ]
    },
    {
      "cell_type": "code",
      "execution_count": null,
      "metadata": {
        "id": "spd6uxPHsf8H"
      },
      "outputs": [],
      "source": [
        "srs_beta = []\n",
        "\n",
        "for i in range(len(years)-1):\n",
        "  rets = excess_returns_beta['Excess Returns'][str(years[i]) : str(years[i+1])]\n",
        "  mean = np.mean(rets)\n",
        "  std = statistics.pstdev(rets)\n",
        "  sr = mean/std * np.sqrt(12)\n",
        "  srs_beta.append(sr)\n",
        "\n",
        "\n",
        "\n",
        "\n",
        "rets = excess_returns_beta['Excess Returns'][\"2022\" : ]\n",
        "mean = np.mean(rets)\n",
        "std = statistics.pstdev(rets)\n",
        "sr = mean/std * np.sqrt(12)\n",
        "srs_beta.append(sr)\n"
      ]
    },
    {
      "cell_type": "code",
      "execution_count": null,
      "metadata": {
        "id": "0Hm1OsdguCpG"
      },
      "outputs": [],
      "source": [
        "df = pd.DataFrame(srs, index = years)\n",
        "df[\"Strategy B\"] = srs_beta\n",
        "plt.figure(figsize=(24,7))\n",
        "plt.plot(df)\n",
        "plt.axhline(y=0, color = \"black\", alpha = 0.2)\n",
        "plt.legend([\"Strategy A\", \"Strategy B\"])"
      ]
    },
    {
      "cell_type": "markdown",
      "metadata": {
        "id": "ffVkrxi8PIVM"
      },
      "source": [
        "**Sharpe Ratios in 2020**"
      ]
    },
    {
      "cell_type": "code",
      "execution_count": null,
      "metadata": {
        "id": "hZB8Hi7_6AJl"
      },
      "outputs": [],
      "source": [
        "dates = excess_returns[\"Excess Returns\"][\"2020\":\"2021\"].index\n",
        "df = pd.DataFrame(excess_returns[\"Excess Returns\"][\"2020\":\"2021\"].values, index = dates)\n",
        "df[\"Strategy B\"] = excess_returns_beta[\"Excess Returns\"][\"2020\":\"2021\"].values"
      ]
    },
    {
      "cell_type": "code",
      "execution_count": null,
      "metadata": {
        "id": "i5P-mDLtBVC5"
      },
      "outputs": [],
      "source": [
        "plt.figure(figsize=(24,7))\n",
        "plt.plot(df)\n",
        "plt.axhline(y=0, color = \"black\", alpha = 0.2)\n",
        "plt.legend([\"Strategy A\", \"Strategy B\"])"
      ]
    },
    {
      "cell_type": "markdown",
      "metadata": {
        "id": "Q1Y86BIHPQ__"
      },
      "source": [
        "**Number of Stocks per Month**"
      ]
    },
    {
      "cell_type": "code",
      "execution_count": null,
      "metadata": {
        "id": "JkBdQPKRBnIL"
      },
      "outputs": [],
      "source": [
        "with open(\"/content/drive/MyDrive/_Data_/annualReturns.json\", \"rb\") as data:\n",
        "    annualRets = pickle.load(data)"
      ]
    },
    {
      "cell_type": "code",
      "execution_count": null,
      "metadata": {
        "id": "sqsFffJFZmQI"
      },
      "outputs": [],
      "source": [
        "total = []\n",
        "for period in annualRets:\n",
        "  stocks = len(period)\n",
        "  total.append(stocks)\n",
        "\n",
        "df = pd.DataFrame(total, columns = [\"Total Stocks\"], index = plot_dates)\n",
        "ticks = df.index\n",
        "plt.figure(figsize=(24,7))\n",
        "plt.plot(df)\n",
        "plt.xticks([ticks[i] for i in range(len(ticks)) if i % 24 == 0], rotation='vertical')\n"
      ]
    },
    {
      "cell_type": "markdown",
      "metadata": {
        "id": "1uK0oPtPGE4q"
      },
      "source": [
        "**Weights Strategy A**"
      ]
    },
    {
      "cell_type": "code",
      "execution_count": null,
      "metadata": {
        "id": "q8Mfex0rZxDm"
      },
      "outputs": [],
      "source": [
        "with open(\"/content/drive/MyDrive/_Data_/long_weights_historic.json\", \"rb\") as data:\n",
        "    long_weights_historic = pickle.load(data)\n",
        "with open(\"/content/drive/MyDrive/_Data_/short_weights_historic.json\", \"rb\") as data:\n",
        "    short_weights_historic = pickle.load(data)\n",
        "with open(\"/content/drive/MyDrive/_Data_/total_weights_historic.json\", \"rb\") as data:\n",
        "    total_weights_historic = pickle.load(data)"
      ]
    },
    {
      "cell_type": "code",
      "source": [
        "df = pd.DataFrame(long_weights_historic, columns = [\"Long Weight\"], index = plot_dates)\n",
        "df[\"Short Weight\"] = short_weights_historic\n",
        "df[\"Total Weight\"] = total_weights_historic\n",
        "ticks = df.index\n",
        "\n",
        "plt.figure(figsize=(24,7))\n",
        "cum_plot = plt.plot(df)\n",
        "plt.xticks([plot_dates[i] for i in range(len(plot_dates)) if i % 24 == 0])\n",
        "sns.color_palette(\"colorblind\")\n",
        "plt.axhline(y=0, color = \"black\", alpha = 0.2)\n",
        "plt.legend(df.columns)\n",
        "plt.show()"
      ],
      "metadata": {
        "id": "hyIuRgDVbW-M"
      },
      "execution_count": null,
      "outputs": []
    },
    {
      "cell_type": "markdown",
      "source": [
        "**Strategy B weights**"
      ],
      "metadata": {
        "id": "qPcktnH_cjFY"
      }
    },
    {
      "cell_type": "code",
      "source": [
        "with open(\"/content/drive/MyDrive/_Data_/long_weights_beta_historic.json\", \"rb\") as data:\n",
        "    long_weights_historic = pickle.load(data)\n",
        "with open(\"/content/drive/MyDrive/_Data_/short_weights_beta_historic.json\", \"rb\") as data:\n",
        "    short_weights_historic = pickle.load(data)\n",
        "with open(\"/content/drive/MyDrive/_Data_/total_weights_beta_historic.json\", \"rb\") as data:\n",
        "    total_weights_historic = pickle.load(data)"
      ],
      "metadata": {
        "id": "SzkfV5FIck_i"
      },
      "execution_count": null,
      "outputs": []
    },
    {
      "cell_type": "code",
      "source": [
        "df = pd.DataFrame(long_weights_historic, columns = [\"Long Weight\"], index = plot_dates)\n",
        "df[\"Short Weight\"] = short_weights_historic\n",
        "df[\"Total Weight\"] = total_weights_historic\n",
        "ticks = df.index\n",
        "\n",
        "plt.figure(figsize=(24,7))\n",
        "cum_plot = plt.plot(df)\n",
        "plt.xticks([plot_dates[i] for i in range(len(plot_dates)) if i % 24 == 0])\n",
        "sns.color_palette(\"colorblind\")\n",
        "plt.axhline(y=0, color = \"black\", alpha = 0.2)\n",
        "plt.legend(df.columns)\n",
        "plt.show()"
      ],
      "metadata": {
        "id": "w-BXKCnTcuEM"
      },
      "execution_count": null,
      "outputs": []
    },
    {
      "cell_type": "markdown",
      "source": [
        "**Cumulative Plot**"
      ],
      "metadata": {
        "id": "4f8giYayT9rY"
      }
    },
    {
      "cell_type": "code",
      "source": [
        "mom = pd.read_csv('/content/drive/MyDrive/_Data_/momentum.csv', index_col = \"dateff\", parse_dates = True).values[1:]\n",
        "mkt_rf = fff[\"mktrf\"].values"
      ],
      "metadata": {
        "id": "E4E-QEg-T9HS"
      },
      "execution_count": null,
      "outputs": []
    },
    {
      "cell_type": "code",
      "source": [
        "cum_mom = 1\n",
        "cum_mom_rets = [1]\n",
        "for ret in mom:\n",
        "  cum_mom = cum_mom * (1 + ret)\n",
        "  cum_mom_rets.append(cum_mom)\n",
        "\n",
        "rets_beta = excess_returns_beta[\"Excess Returns\"].values\n",
        "cum_beta = 1\n",
        "cum_rets_beta = [1]\n",
        "for ret in rets_beta:\n",
        "  cum_beta = cum_beta * (1 + ret)\n",
        "  cum_rets_beta.append(cum_beta)\n",
        "\n",
        "  cum_mkt = 1\n",
        "cum_mkt_rets = [1]\n",
        "for ret in mkt_rf:\n",
        "  cum_mkt = cum_mkt * (1 + ret)\n",
        "  cum_mkt_rets.append(cum_mkt)\n",
        "\n",
        "rets = excess_returns[\"Excess Returns\"].values\n",
        "cum_ret = 1\n",
        "cum_rets = [1]\n",
        "for ret in rets:\n",
        "  cum_ret = cum_ret * (1 + ret)\n",
        "  cum_rets.append(cum_ret)"
      ],
      "metadata": {
        "id": "FilfLBVcUCrB"
      },
      "execution_count": null,
      "outputs": []
    },
    {
      "cell_type": "code",
      "source": [
        "df = pd.DataFrame(cum_rets, columns = [\"Strategy A\"], index = plot_dates)\n",
        "df[\"Strategy B\"] = cum_rets_beta\n",
        "df[\"Excess Market Return\"] = cum_mkt_rets\n",
        "df[\"Momentum Factor\"] = cum_mom_rets\n",
        "ticks = df.index"
      ],
      "metadata": {
        "id": "xXiw9UJBUZwn"
      },
      "execution_count": null,
      "outputs": []
    },
    {
      "cell_type": "code",
      "source": [
        "plt.figure(figsize=(24,7))\n",
        "cum_plot = plt.plot(df)\n",
        "plt.xticks([plot_dates[i] for i in range(len(plot_dates)) if i % 24 == 0])\n",
        "sns.color_palette(\"colorblind\")\n",
        "plt.legend(['Strategy A',\n",
        "            \"Strategy B\", \n",
        "            'Mkt - Rf',\n",
        "            'Momentum Factor'])\n",
        "plt.show()"
      ],
      "metadata": {
        "id": "TPYA3EWLUz0d"
      },
      "execution_count": null,
      "outputs": []
    },
    {
      "cell_type": "markdown",
      "source": [
        "**Distribution Plot**"
      ],
      "metadata": {
        "id": "G3GQsIuba68A"
      }
    },
    {
      "cell_type": "code",
      "source": [
        "plt.figure(figsize=(12,5))\n",
        "sns.color_palette(\"cubehelix\", as_cmap=True)\n",
        "sns.distplot(rets,hist=True)\n",
        "sns.distplot(rets_beta, hist = True)\n",
        "plt.legend(['Strategy A', \n",
        "            'Strategy B'])\n",
        "plt.show()"
      ],
      "metadata": {
        "id": "CuRm97r7a6fg"
      },
      "execution_count": null,
      "outputs": []
    },
    {
      "cell_type": "markdown",
      "source": [
        "**Group Part Plots**"
      ],
      "metadata": {
        "id": "BWS4Gg4USUn9"
      }
    },
    {
      "cell_type": "code",
      "source": [
        "group_dates = plot_dates[119:240]\n"
      ],
      "metadata": {
        "id": "29H1U50lVBSd"
      },
      "execution_count": null,
      "outputs": []
    },
    {
      "cell_type": "code",
      "source": [
        "mom = pd.read_csv('/content/drive/MyDrive/_Data_/momentum.csv', index_col = \"dateff\", parse_dates = True)[\"2008\":\"2017\"].values\n",
        "mkt_rf = fff[\"mktrf\"][\"2008\":\"2017\"].values\n",
        "cum_mom = 1\n",
        "cum_mom_rets = [1]\n",
        "for ret in mom:\n",
        "  cum_mom = cum_mom * (1 + ret)\n",
        "  cum_mom_rets.append(cum_mom)\n",
        "\n",
        "  cum_mkt = 1\n",
        "cum_mkt_rets = [1]\n",
        "for ret in mkt_rf:\n",
        "  cum_mkt = cum_mkt * (1 + ret)\n",
        "  cum_mkt_rets.append(cum_mkt)\n",
        "\n",
        "rets = excess_returns[\"Excess Returns\"][\"2008\":\"2018\"].values\n",
        "cum_ret = 1\n",
        "cum_rets = [1]\n",
        "for ret in rets:\n",
        "  cum_ret = cum_ret * (1 + ret)\n",
        "  cum_rets.append(cum_ret)"
      ],
      "metadata": {
        "id": "oCYubZ4QVx2K"
      },
      "execution_count": null,
      "outputs": []
    },
    {
      "cell_type": "code",
      "source": [
        "df = pd.DataFrame(cum_rets, columns = [\"Strategy\"], index = group_dates)\n",
        "df[\"Excess Market Return\"] = cum_mkt_rets\n",
        "df[\"Momentum Factor\"] = cum_mom_rets\n",
        "ticks = df.index"
      ],
      "metadata": {
        "id": "LBkrJdRoUCQD"
      },
      "execution_count": null,
      "outputs": []
    },
    {
      "cell_type": "code",
      "source": [
        "plt.figure(figsize=(24,7))\n",
        "cum_plot = plt.plot(df)\n",
        "plt.xticks([group_dates[i] for i in range(len(group_dates)) if i % 24 == 0])\n",
        "sns.color_palette(\"colorblind\")\n",
        "plt.legend(['Strategy', \n",
        "            'Mkt - Rf',\n",
        "            'Momentum Factor'])\n",
        "plt.show()"
      ],
      "metadata": {
        "id": "yyxb4utgSdKW"
      },
      "execution_count": null,
      "outputs": []
    },
    {
      "cell_type": "code",
      "source": [],
      "metadata": {
        "id": "SQEFXVfFSlRi"
      },
      "execution_count": null,
      "outputs": []
    }
  ],
  "metadata": {
    "colab": {
      "provenance": []
    },
    "kernelspec": {
      "display_name": "Python 3",
      "name": "python3"
    },
    "language_info": {
      "name": "python"
    }
  },
  "nbformat": 4,
  "nbformat_minor": 0
}