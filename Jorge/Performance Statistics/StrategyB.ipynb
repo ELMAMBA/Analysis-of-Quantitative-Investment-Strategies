{
  "nbformat": 4,
  "nbformat_minor": 0,
  "metadata": {
    "colab": {
      "provenance": []
    },
    "kernelspec": {
      "name": "python3",
      "display_name": "Python 3"
    },
    "language_info": {
      "name": "python"
    }
  },
  "cells": [
    {
      "cell_type": "code",
      "execution_count": null,
      "metadata": {
        "id": "cuCc1KMllmjT"
      },
      "outputs": [],
      "source": [
        "import numpy as np\n",
        "import pandas as pd\n",
        "from google.colab import drive\n",
        "import warnings\n",
        "warnings.simplefilter(action='ignore', category=FutureWarning)\n",
        "import json\n",
        "TOLERANCE = 1e-10\n",
        "import pickle\n",
        "import statistics\n",
        "import matplotlib.pyplot as plt\n",
        "from matplotlib import pyplot as plt, dates as mdates\n",
        "from scipy.stats import skew, kurtosis, norm\n",
        "import statsmodels.api as sm\n",
        "from scipy import stats\n",
        "import seaborn as sns"
      ]
    },
    {
      "cell_type": "code",
      "source": [
        "drive.mount('/content/drive')"
      ],
      "metadata": {
        "id": "h8ByDaS0lp1G"
      },
      "execution_count": null,
      "outputs": []
    },
    {
      "cell_type": "code",
      "source": [
        "target = 0.18\n",
        "fff = pd.read_csv('/content/drive/MyDrive/_Data_/ffm.csv', index_col = \"dateff\", parse_dates = True)[1:]\n",
        "vix = pd.read_csv('/content/drive/MyDrive/_Data_/^VIX.csv', index_col = \"Date\", parse_dates = True)[\"Adj Close\"]\n",
        "rf = fff[\"rf\"]\n",
        "signals = []\n",
        "for value in vix.values:\n",
        "  if value > 30:\n",
        "    signals.append(\"High\")\n",
        "  elif 15 < value <= 30:\n",
        "    signals.append(\"Normal\")\n",
        "  else:\n",
        "    signals.append(\"Low\")"
      ],
      "metadata": {
        "id": "seytmJo0m7_o"
      },
      "execution_count": null,
      "outputs": []
    },
    {
      "cell_type": "code",
      "source": [
        "with open(\"/content/drive/MyDrive/_Data_/ports_beta.json\", \"rb\") as data:\n",
        "    port_rets_beta = pickle.load(data)[:-1]\n",
        "\n",
        "with open(\"/content/drive/MyDrive/_Data_/dates.json\", \"rb\") as data:\n",
        "    plot_dates = pickle.load(data)[12:]"
      ],
      "metadata": {
        "id": "WF5XD33GnIVS"
      },
      "execution_count": null,
      "outputs": []
    },
    {
      "cell_type": "markdown",
      "source": [
        "**Full Sample**"
      ],
      "metadata": {
        "id": "ZruksO62nYfT"
      }
    },
    {
      "cell_type": "code",
      "source": [
        "excess_returns = pd.DataFrame(port_rets_beta, index = plot_dates[1:], columns = [\"Strategy Returns\"]) \n",
        "excess_returns[\"Risk Free\"] = rf.values\n",
        "excess_returns[\"Excess Returns\"] = excess_returns[\"Strategy Returns\"] - excess_returns[\"Risk Free\"]\n",
        "rets = excess_returns[\"Excess Returns\"].values\n",
        "\n",
        "std = statistics.pstdev(rets) * np.sqrt(12) * 100\n",
        "mean = np.mean(rets) * 12 * 100\n",
        "skewness = skew(rets)\n",
        "kurt = kurtosis(rets)\n",
        "max = np.max(rets) * 100\n",
        "min = np.min(rets) * 100\n",
        "std_negative = statistics.pstdev([ret for ret in rets if ret < 0])  * np.sqrt(12) * 100\n",
        "\n",
        "print(\"Standard Deviation: \" + str(std) + \"%\")\n",
        "print(\"Average Annual Return: \" + str(mean) + \"%\")\n",
        "print(\"Sharpe Ratio: \" + str(mean/std))\n",
        "print(\"Sortino Ratio: \" + str(mean/std_negative))\n",
        "print(\"Largest Gain: \" + str(max) + \"%\")\n",
        "print(\"Largest Loss: \" + str(min) + \"%\") \n",
        "print(\"Skewness: \" + str(skewness))\n",
        "print(\"Kurtosis: \" + str(kurt))"
      ],
      "metadata": {
        "id": "wfeXODrVnaTn"
      },
      "execution_count": null,
      "outputs": []
    },
    {
      "cell_type": "code",
      "source": [
        "cum_ret = 1\n",
        "cum_rets = [1]\n",
        "for ret in rets:\n",
        "  cum_ret = cum_ret * (1 + ret)\n",
        "  cum_rets.append(cum_ret)\n",
        "\n",
        "max_ret = 1\n",
        "drawdowns = []\n",
        "for ret in cum_rets:\n",
        "  max_ret = np.max([max_ret, ret])\n",
        "  drawdowns.append(-(max_ret - ret) / max_ret * 100)\n",
        "\n",
        "df = pd.DataFrame(cum_rets, plot_dates, columns = [\"Cumulative Return\"])\n",
        "df[\"Drawdown\"] = drawdowns\n",
        "\n",
        "print(\"Largest Drawdown: \" + str(round(np.min(drawdowns), 2)) + \"%\")\n",
        "print(\"Calmar Ratio: \" + str(mean / -np.min(drawdowns)))"
      ],
      "metadata": {
        "id": "3a9aQ0VIn28I"
      },
      "execution_count": null,
      "outputs": []
    },
    {
      "cell_type": "code",
      "source": [
        "total = len(rets) - 1\n",
        "positive = len([ret for ret in rets if ret > 0.0])\n",
        "print(\"%Positive Days: \" + str(positive/total * 100))"
      ],
      "metadata": {
        "id": "rFedHCHyn-PK"
      },
      "execution_count": null,
      "outputs": []
    },
    {
      "cell_type": "code",
      "source": [
        "excess_returns[\"Volatility\"] = signals[1:]\n",
        "mean_low = np.mean(excess_returns[excess_returns[\"Volatility\"] == \"Low\"][\"Excess Returns\"]) * 12\n",
        "mean_medium = np.mean(excess_returns[excess_returns[\"Volatility\"] == \"Normal\"][\"Excess Returns\"]) * 12\n",
        "mean_high = np.mean(excess_returns[excess_returns[\"Volatility\"] == \"High\"][\"Excess Returns\"]) * 12\n",
        "\n",
        "std_low = excess_returns[excess_returns[\"Volatility\"] == \"Low\"][\"Excess Returns\"].std() * np.sqrt(12)\n",
        "std_medium = excess_returns[excess_returns[\"Volatility\"] == \"Normal\"][\"Excess Returns\"].std() * np.sqrt(12)\n",
        "std_high = excess_returns[excess_returns[\"Volatility\"] == \"High\"][\"Excess Returns\"].std() * np.sqrt(12)\n",
        "\n",
        "sharpe_low = mean_low / std_low\n",
        "sharpe_medium = mean_medium / std_medium\n",
        "sharpe_high = mean_high / std_high\n",
        "\n",
        "print(\"Volatility     Return     Stdev    Sharpe Ratio\")\n",
        "print(\"    Low         \" + str(round(mean_low, 3)) + \"     \" + str(round(std_low, 3)) + \"       \" + str(round(sharpe_low, 3)))\n",
        "print(\"    Medium      \" + str(round(mean_medium, 3)) + \"     \" + str(round(std_medium, 3)) + \"       \" + str(round(sharpe_medium, 3)))\n",
        "print(\"    High        \" + str(round(mean_high, 3)) + \"     \" + str(round(std_high, 3)) + \"       \" + str(round(sharpe_high, 3)))"
      ],
      "metadata": {
        "id": "X-Bp475OXg46"
      },
      "execution_count": null,
      "outputs": []
    },
    {
      "cell_type": "markdown",
      "source": [
        "**First Half**"
      ],
      "metadata": {
        "id": "1tVTQQ29oC_q"
      }
    },
    {
      "cell_type": "code",
      "source": [
        "rets = excess_returns[\"Excess Returns\"][:\"2010\"].values\n",
        "\n",
        "std = statistics.pstdev(rets) * np.sqrt(12) * 100\n",
        "mean = np.mean(rets) * 12 * 100\n",
        "skewness = skew(rets)\n",
        "kurt = kurtosis(rets)\n",
        "max = np.max(rets) * 100\n",
        "min = np.min(rets) * 100\n",
        "std_negative = statistics.pstdev([ret for ret in rets if ret < 0])  * np.sqrt(12) * 100\n",
        "\n",
        "print(\"Standard Deviation: \" + str(std) + \"%\")\n",
        "print(\"Average Annual Return: \" + str(mean) + \"%\")\n",
        "print(\"Sharpe Ratio: \" + str(mean/std))\n",
        "print(\"Sortino Ratio: \" + str(mean/std_negative))\n",
        "print(\"Largest Gain: \" + str(max) + \"%\")\n",
        "print(\"Largest Loss: \" + str(min) + \"%\") \n",
        "print(\"Skewness: \" + str(skewness))\n",
        "print(\"Kurtosis: \" + str(kurt))"
      ],
      "metadata": {
        "id": "vQiqRO8ZoFbd"
      },
      "execution_count": null,
      "outputs": []
    },
    {
      "cell_type": "code",
      "source": [
        "cum_ret = 1\n",
        "cum_rets = [1]\n",
        "for ret in rets:\n",
        "  cum_ret = cum_ret * (1 + ret)\n",
        "  cum_rets.append(cum_ret)\n",
        "\n",
        "max_ret = 1\n",
        "drawdowns = []\n",
        "for ret in cum_rets:\n",
        "  max_ret = np.max([max_ret, ret])\n",
        "  drawdowns.append(-(max_ret - ret) / max_ret * 100)\n",
        "\n",
        "df = pd.DataFrame(cum_rets, plot_dates[:144], columns = [\"Cumulative Return\"])\n",
        "df[\"Drawdown\"] = drawdowns\n",
        "\n",
        "print(\"Largest Drawdown: \" + str(round(np.min(drawdowns), 2)) + \"%\")\n",
        "print(\"Calmar Ratio: \" + str(mean / -np.min(drawdowns)))"
      ],
      "metadata": {
        "id": "jnHQKfNYoNJo"
      },
      "execution_count": null,
      "outputs": []
    },
    {
      "cell_type": "code",
      "source": [
        "total = len(rets) - 1\n",
        "positive = len([ret for ret in rets if ret > 0.0])\n",
        "print(\"%Positive Days: \" + str(positive/total * 100))"
      ],
      "metadata": {
        "id": "0wMLaAVOoQ80"
      },
      "execution_count": null,
      "outputs": []
    },
    {
      "cell_type": "markdown",
      "source": [
        "**Second Half**"
      ],
      "metadata": {
        "id": "GW-yxjrroTab"
      }
    },
    {
      "cell_type": "code",
      "source": [
        "rets = excess_returns[\"Excess Returns\"][\"2010\":].values\n",
        "\n",
        "std = statistics.pstdev(rets) * np.sqrt(12) * 100\n",
        "mean = np.mean(rets) * 12 * 100\n",
        "skewness = skew(rets)\n",
        "kurt = kurtosis(rets)\n",
        "max = np.max(rets) * 100\n",
        "min = np.min(rets) * 100\n",
        "std_negative = statistics.pstdev([ret for ret in rets if ret < 0])  * np.sqrt(12) * 100\n",
        "\n",
        "print(\"Standard Deviation: \" + str(std) + \"%\")\n",
        "print(\"Average Annual Return: \" + str(mean) + \"%\")\n",
        "print(\"Sharpe Ratio: \" + str(mean/std))\n",
        "print(\"Sortino Ratio: \" + str(mean/std_negative))\n",
        "print(\"Largest Gain: \" + str(max) + \"%\")\n",
        "print(\"Largest Loss: \" + str(min) + \"%\") \n",
        "print(\"Skewness: \" + str(skewness))\n",
        "print(\"Kurtosis: \" + str(kurt))"
      ],
      "metadata": {
        "id": "Yq5SihKVoVLn"
      },
      "execution_count": null,
      "outputs": []
    },
    {
      "cell_type": "code",
      "source": [
        "cum_ret = 1\n",
        "cum_rets = [1]\n",
        "for ret in rets:\n",
        "  cum_ret = cum_ret * (1 + ret)\n",
        "  cum_rets.append(cum_ret)\n",
        "\n",
        "max_ret = 1\n",
        "drawdowns = []\n",
        "for ret in cum_rets:\n",
        "  max_ret = np.max([max_ret, ret])\n",
        "  drawdowns.append(-(max_ret - ret) / max_ret * 100)\n",
        "\n",
        "df = pd.DataFrame(cum_rets, plot_dates[143:], columns = [\"Cumulative Return\"])\n",
        "df[\"Drawdown\"] = drawdowns\n",
        "\n",
        "print(\"Largest Drawdown: \" + str(round(np.min(drawdowns), 2)) + \"%\")\n",
        "print(\"Calmar Ratio: \" + str(mean / -np.min(drawdowns)))"
      ],
      "metadata": {
        "id": "u4SGNUT6oXaK"
      },
      "execution_count": null,
      "outputs": []
    },
    {
      "cell_type": "code",
      "source": [
        "total = len(rets) - 1\n",
        "positive = len([ret for ret in rets if ret > 0.0])\n",
        "print(\"%Positive Days: \" + str(positive/total * 100))"
      ],
      "metadata": {
        "id": "PugMCMoWobmG"
      },
      "execution_count": null,
      "outputs": []
    },
    {
      "cell_type": "markdown",
      "source": [
        "**Dot-com bubble crash (1998-2003)**"
      ],
      "metadata": {
        "id": "e5KWDUw5ogDe"
      }
    },
    {
      "cell_type": "code",
      "source": [
        "rets = excess_returns[\"Excess Returns\"][\"1998\":\"2004\"].values\n",
        "\n",
        "std = statistics.pstdev(rets) * np.sqrt(12) * 100\n",
        "mean = np.mean(rets) * 12 * 100\n",
        "skewness = skew(rets)\n",
        "kurt = kurtosis(rets)\n",
        "max = np.max(rets) * 100\n",
        "min = np.min(rets) * 100\n",
        "std_negative = statistics.pstdev([ret for ret in rets if ret < 0])  * np.sqrt(12) * 100\n",
        "\n",
        "print(\"Standard Deviation: \" + str(std) + \"%\")\n",
        "print(\"Average Annual Return: \" + str(mean) + \"%\")\n",
        "print(\"Sharpe Ratio: \" + str(mean/std))\n",
        "print(\"Sortino Ratio: \" + str(mean/std_negative))\n",
        "print(\"Largest Gain: \" + str(max) + \"%\")\n",
        "print(\"Largest Loss: \" + str(min) + \"%\") \n",
        "print(\"Skewness: \" + str(skewness))\n",
        "print(\"Kurtosis: \" + str(kurt))"
      ],
      "metadata": {
        "id": "Mq4NO9skoiZA"
      },
      "execution_count": null,
      "outputs": []
    },
    {
      "cell_type": "code",
      "source": [
        "cum_ret = 1\n",
        "cum_rets = [1]\n",
        "for ret in rets:\n",
        "  cum_ret = cum_ret * (1 + ret)\n",
        "  cum_rets.append(cum_ret)\n",
        "\n",
        "max_ret = 1\n",
        "drawdowns = []\n",
        "for ret in cum_rets:\n",
        "  max_ret = np.max([max_ret, ret])\n",
        "  drawdowns.append(-(max_ret - ret) / max_ret * 100)\n",
        "\n",
        "df = pd.DataFrame(cum_rets, columns = [\"Cumulative Return\"])\n",
        "df[\"Drawdown\"] = drawdowns\n",
        "\n",
        "print(\"Largest Drawdown: \" + str(round(np.min(drawdowns), 2)) + \"%\")\n",
        "print(\"Calmar Ratio: \" + str(mean / -np.min(drawdowns)))"
      ],
      "metadata": {
        "id": "bBzm7z18oorX"
      },
      "execution_count": null,
      "outputs": []
    },
    {
      "cell_type": "code",
      "source": [
        "total = len(rets) - 1\n",
        "positive = len([ret for ret in rets if ret > 0.0])\n",
        "print(\"%Positive Days: \" + str(positive/total * 100))"
      ],
      "metadata": {
        "id": "9gaVrOQEo5FU"
      },
      "execution_count": null,
      "outputs": []
    },
    {
      "cell_type": "markdown",
      "source": [
        "**2007-2008 Market Crash (2007-2010)**"
      ],
      "metadata": {
        "id": "MiRDS0ACpELi"
      }
    },
    {
      "cell_type": "code",
      "source": [
        "rets = excess_returns[\"Excess Returns\"][\"2007\":\"2011\"].values\n",
        "\n",
        "std = statistics.pstdev(rets) * np.sqrt(12) * 100\n",
        "mean = np.mean(rets) * 12 * 100\n",
        "skewness = skew(rets)\n",
        "kurt = kurtosis(rets)\n",
        "max = np.max(rets) * 100\n",
        "min = np.min(rets) * 100\n",
        "std_negative = statistics.pstdev([ret for ret in rets if ret < 0])  * np.sqrt(12) * 100\n",
        "\n",
        "print(\"Standard Deviation: \" + str(std) + \"%\")\n",
        "print(\"Average Annual Return: \" + str(mean) + \"%\")\n",
        "print(\"Sharpe Ratio: \" + str(mean/std))\n",
        "print(\"Sortino Ratio: \" + str(mean/std_negative))\n",
        "print(\"Largest Gain: \" + str(max) + \"%\")\n",
        "print(\"Largest Loss: \" + str(min) + \"%\") \n",
        "print(\"Skewness: \" + str(skewness))\n",
        "print(\"Kurtosis: \" + str(kurt))"
      ],
      "metadata": {
        "id": "NT-nU--mpDS2"
      },
      "execution_count": null,
      "outputs": []
    },
    {
      "cell_type": "code",
      "source": [
        "cum_ret = 1\n",
        "cum_rets = [1]\n",
        "for ret in rets:\n",
        "  cum_ret = cum_ret * (1 + ret)\n",
        "  cum_rets.append(cum_ret)\n",
        "\n",
        "max_ret = 1\n",
        "drawdowns = []\n",
        "for ret in cum_rets:\n",
        "  max_ret = np.max([max_ret, ret])\n",
        "  drawdowns.append(-(max_ret - ret) / max_ret * 100)\n",
        "\n",
        "df = pd.DataFrame(cum_rets, columns = [\"Cumulative Return\"])\n",
        "df[\"Drawdown\"] = drawdowns\n",
        "\n",
        "print(\"Largest Drawdown: \" + str(round(np.min(drawdowns), 2)) + \"%\")\n",
        "print(\"Calmar Ratio: \" + str(mean / -np.min(drawdowns)))"
      ],
      "metadata": {
        "id": "RBKOD2dBpKTx"
      },
      "execution_count": null,
      "outputs": []
    },
    {
      "cell_type": "code",
      "source": [
        "total = len(rets) - 1\n",
        "positive = len([ret for ret in rets if ret > 0.0])\n",
        "print(\"%Positive Days: \" + str(positive/total * 100))"
      ],
      "metadata": {
        "id": "jINnaMIdpNMo"
      },
      "execution_count": null,
      "outputs": []
    },
    {
      "cell_type": "markdown",
      "source": [
        "**Covid**"
      ],
      "metadata": {
        "id": "CQd7qYxY5dWp"
      }
    },
    {
      "cell_type": "code",
      "source": [
        "rets = excess_returns[\"Excess Returns\"][\"2020\":\"2021\"].values\n",
        "\n",
        "std = statistics.pstdev(rets) * np.sqrt(12) * 100\n",
        "mean = np.mean(rets) * 12 * 100\n",
        "skewness = skew(rets)\n",
        "kurt = kurtosis(rets)\n",
        "max = np.max(rets) * 100\n",
        "min = np.min(rets) * 100\n",
        "std_negative = statistics.pstdev([ret for ret in rets if ret < 0])  * np.sqrt(12) * 100\n",
        "\n",
        "print(\"Standard Deviation: \" + str(std) + \"%\")\n",
        "print(\"Average Annual Return: \" + str(mean) + \"%\")\n",
        "print(\"Sharpe Ratio: \" + str(mean/std))\n",
        "print(\"Sortino Ratio: \" + str(mean/std_negative))\n",
        "print(\"Largest Gain: \" + str(max) + \"%\")\n",
        "print(\"Largest Loss: \" + str(min) + \"%\") \n",
        "print(\"Skewness: \" + str(skewness))\n",
        "print(\"Kurtosis: \" + str(kurt))"
      ],
      "metadata": {
        "id": "1BuRLHn-5fQn"
      },
      "execution_count": null,
      "outputs": []
    },
    {
      "cell_type": "code",
      "source": [
        "cum_ret = 1\n",
        "cum_rets = [1]\n",
        "for ret in rets:\n",
        "  cum_ret = cum_ret * (1 + ret)\n",
        "  cum_rets.append(cum_ret)\n",
        "\n",
        "max_ret = 1\n",
        "drawdowns = []\n",
        "for ret in cum_rets:\n",
        "  max_ret = np.max([max_ret, ret])\n",
        "  drawdowns.append(-(max_ret - ret) / max_ret * 100)\n",
        "\n",
        "df = pd.DataFrame(cum_rets, columns = [\"Cumulative Return\"])\n",
        "df[\"Drawdown\"] = drawdowns\n",
        "\n",
        "print(\"Largest Drawdown: \" + str(round(np.min(drawdowns), 2)) + \"%\")\n",
        "print(\"Calmar Ratio: \" + str(mean / -np.min(drawdowns)))"
      ],
      "metadata": {
        "id": "C61NLT_i5kYz"
      },
      "execution_count": null,
      "outputs": []
    },
    {
      "cell_type": "code",
      "source": [
        "dates = excess_returns[\"Excess Returns\"][\"2020\":\"2021\"].index\n",
        "plt.figure(figsize=(24,7))\n",
        "plt.plot(dates, rets)"
      ],
      "metadata": {
        "id": "CUSF5reTA-P4"
      },
      "execution_count": null,
      "outputs": []
    },
    {
      "cell_type": "markdown",
      "source": [
        "**Factor Regression**"
      ],
      "metadata": {
        "id": "uRhb-2znpXu0"
      }
    },
    {
      "cell_type": "code",
      "source": [
        "excess_returns = pd.DataFrame(port_rets_beta, index = plot_dates[1:], columns = [\"Strategy Returns\"]) \n",
        "excess_returns[\"Strategy Returns\"] = excess_returns[\"Strategy Returns\"] \n",
        "excess_returns[\"Risk Free\"] = rf.values\n",
        "excess_returns[\"Excess Returns\"] = excess_returns[\"Strategy Returns\"] - excess_returns[\"Risk Free\"]\n",
        "rets = excess_returns[\"Excess Returns\"].values\n",
        "\n",
        "mom = pd.read_csv('/content/drive/MyDrive/_Data_/momentum.csv', index_col = \"dateff\", parse_dates = True)[1:]\n",
        "\n",
        "fff = fff\n",
        "fff[\"Momentum\"] = mom[\"umd\"].values\n",
        "fff[\"Excess Returns\"] = rets\n",
        "\n",
        "port_excess = fff[\"Excess Returns\"]\n",
        "mkt_excess = fff[\"mktrf\"]\n",
        "exp_var = pd.DataFrame()\n",
        "exp_var[\"Market - Rf\"] = mkt_excess.copy()\n",
        "exp_var[\"Constant\"] = 1\n",
        "exp_var[\"Value\"] = fff[\"hml\"]\n",
        "exp_var[\"Size\"] = fff[\"smb\"]\n",
        "exp_var[\"Momentum\"] = fff[\"Momentum\"]\n",
        "lm = sm.OLS(port_excess, exp_var).fit()\n",
        "\n",
        "lm.summary()"
      ],
      "metadata": {
        "id": "9MLhP7QkpZ0G"
      },
      "execution_count": null,
      "outputs": []
    },
    {
      "cell_type": "code",
      "source": [
        "replicating_port = excess_returns[\"Strategy Returns\"].values - lm.params[0]*(fff['mktrf'].values + fff['rf'].values) -(1-lm.params[0])*fff['rf'].values -lm.params[2]*fff['hml'].values-lm.params[3]*fff['smb'].values-lm.params[4]*fff['Momentum'].values"
      ],
      "metadata": {
        "id": "tEm9VuyzqCON"
      },
      "execution_count": null,
      "outputs": []
    },
    {
      "cell_type": "code",
      "source": [
        "te = replicating_port.std() \n",
        "alpha = np.mean(replicating_port) \n",
        "IR = alpha * 12 / (te * np.sqrt(12))\n",
        "\n",
        "print(\"Information Ratio: \" + str(IR))"
      ],
      "metadata": {
        "id": "yAGfjz4_qFE9"
      },
      "execution_count": null,
      "outputs": []
    },
    {
      "cell_type": "markdown",
      "source": [
        "**Transaction Costs**"
      ],
      "metadata": {
        "id": "s09THs4Hhooa"
      }
    },
    {
      "cell_type": "code",
      "source": [
        "excess_returns = pd.DataFrame(port_rets_beta, index = plot_dates[1:], columns = [\"Strategy Returns\"]) \n",
        "excess_returns[\"Strategy Returns\"] = excess_returns[\"Strategy Returns\"] - 0.00461\n",
        "excess_returns[\"Risk Free\"] = rf.values\n",
        "excess_returns[\"Excess Returns\"] = excess_returns[\"Strategy Returns\"] - excess_returns[\"Risk Free\"]\n",
        "rets = excess_returns[\"Excess Returns\"].values\n",
        "\n",
        "mom = pd.read_csv('/content/drive/MyDrive/_Data_/momentum.csv', index_col = \"dateff\", parse_dates = True)[1:]\n",
        "\n",
        "fff = fff\n",
        "fff[\"Momentum\"] = mom[\"umd\"].values\n",
        "fff[\"Excess Returns\"] = rets\n",
        "\n",
        "port_excess = fff[\"Excess Returns\"]\n",
        "mkt_excess = fff[\"mktrf\"]\n",
        "exp_var = pd.DataFrame()\n",
        "exp_var[\"Market - Rf\"] = mkt_excess.copy()\n",
        "exp_var[\"Constant\"] = 1\n",
        "exp_var[\"Value\"] = fff[\"hml\"]\n",
        "exp_var[\"Size\"] = fff[\"smb\"]\n",
        "exp_var[\"Momentum\"] = fff[\"Momentum\"]\n",
        "lm = sm.OLS(port_excess, exp_var).fit()\n",
        "\n",
        "lm.summary()"
      ],
      "metadata": {
        "id": "aVu3EAIUhn7L"
      },
      "execution_count": null,
      "outputs": []
    },
    {
      "cell_type": "markdown",
      "source": [
        "**Historical VaR**"
      ],
      "metadata": {
        "id": "PDsgv3XC-vII"
      }
    },
    {
      "cell_type": "code",
      "source": [
        "rets = sorted(excess_returns[\"Excess Returns\"].values)\n",
        "length = len(rets)\n",
        "index = round(length / 100, 0) - 1\n",
        "\n",
        "var = rets[int(index)]\n",
        "\n",
        "print(\"Historical VaR: \" + str(var * 100) + \"%\")"
      ],
      "metadata": {
        "id": "Tj_TxcuT-umk"
      },
      "execution_count": null,
      "outputs": []
    },
    {
      "cell_type": "markdown",
      "source": [
        "**Sharpe Ratio across time**"
      ],
      "metadata": {
        "id": "-CQcrfvoDkaJ"
      }
    },
    {
      "cell_type": "code",
      "source": [
        "years = range(1998, 2023)\n",
        "srs = []\n",
        "\n",
        "for i in range(len(years)-1):\n",
        "  rets = excess_returns['Excess Returns'][str(years[i]) : str(years[i+1])]\n",
        "  mean = np.mean(rets)\n",
        "  std = statistics.pstdev(rets)\n",
        "  sr = mean/std * np.sqrt(12)\n",
        "  srs.append(sr)\n",
        "\n",
        "  print(str(years[i]) + \": \" + str(sr))\n",
        "\n",
        "\n",
        "rets = excess_returns['Excess Returns'][\"2022\" : ]\n",
        "mean = np.mean(rets)\n",
        "std = statistics.pstdev(rets)\n",
        "sr = mean/std * np.sqrt(12)\n",
        "srs.append(sr)\n",
        "\n",
        "print(\"2022: \" + str(sr))"
      ],
      "metadata": {
        "id": "MHMPnatyDr_X"
      },
      "execution_count": null,
      "outputs": []
    },
    {
      "cell_type": "code",
      "source": [
        "df = pd.DataFrame(srs, index = years)\n",
        "plt.figure(figsize=(24,7))\n",
        "plt.plot(df)\n",
        "plt.axhline(y=0, color = \"black\", alpha = 0.2)"
      ],
      "metadata": {
        "id": "VYkcCYKiIL10"
      },
      "execution_count": null,
      "outputs": []
    }
  ]
}