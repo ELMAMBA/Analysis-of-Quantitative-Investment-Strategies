{
  "nbformat": 4,
  "nbformat_minor": 0,
  "metadata": {
    "colab": {
      "provenance": []
    },
    "kernelspec": {
      "name": "python3",
      "display_name": "Python 3"
    },
    "language_info": {
      "name": "python"
    }
  },
  "cells": [
    {
      "cell_type": "code",
      "execution_count": 1,
      "metadata": {
        "id": "cuCc1KMllmjT"
      },
      "outputs": [],
      "source": [
        "import numpy as np\n",
        "import pandas as pd\n",
        "from google.colab import drive\n",
        "import warnings\n",
        "warnings.simplefilter(action='ignore', category=FutureWarning)\n",
        "import json\n",
        "TOLERANCE = 1e-10\n",
        "import pickle\n",
        "import statistics\n",
        "import matplotlib.pyplot as plt\n",
        "from matplotlib import pyplot as plt, dates as mdates\n",
        "from scipy.stats import skew, kurtosis, norm\n",
        "import statsmodels.api as sm\n",
        "from scipy import stats\n",
        "import seaborn as sns"
      ]
    },
    {
      "cell_type": "code",
      "source": [
        "drive.mount('/content/drive')"
      ],
      "metadata": {
        "colab": {
          "base_uri": "https://localhost:8080/"
        },
        "id": "h8ByDaS0lp1G",
        "outputId": "e8023b5f-588b-4d32-efdb-eb82bd354942"
      },
      "execution_count": 2,
      "outputs": [
        {
          "output_type": "stream",
          "name": "stdout",
          "text": [
            "Mounted at /content/drive\n"
          ]
        }
      ]
    },
    {
      "cell_type": "code",
      "source": [
        "target = 0.18\n",
        "fff = pd.read_csv('/content/drive/MyDrive/_Data_/ffm.csv', index_col = \"dateff\", parse_dates = True)[1:]\n",
        "vix = pd.read_csv('/content/drive/MyDrive/_Data_/^VIX.csv', index_col = \"Date\", parse_dates = True)[\"Adj Close\"]\n",
        "rf = fff[\"rf\"]\n",
        "signals = []\n",
        "for value in vix.values:\n",
        "  if value > 30:\n",
        "    signals.append(\"High\")\n",
        "  elif 15 < value <= 30:\n",
        "    signals.append(\"Normal\")\n",
        "  else:\n",
        "    signals.append(\"Low\")"
      ],
      "metadata": {
        "id": "seytmJo0m7_o"
      },
      "execution_count": 3,
      "outputs": []
    },
    {
      "cell_type": "code",
      "source": [
        "with open(\"/content/drive/MyDrive/_Data_/ports_beta.json\", \"rb\") as data:\n",
        "    port_rets_beta = pickle.load(data)[:-1]\n",
        "\n",
        "with open(\"/content/drive/MyDrive/_Data_/dates.json\", \"rb\") as data:\n",
        "    plot_dates = pickle.load(data)[12:]"
      ],
      "metadata": {
        "id": "WF5XD33GnIVS"
      },
      "execution_count": 4,
      "outputs": []
    },
    {
      "cell_type": "markdown",
      "source": [
        "**Full Sample**"
      ],
      "metadata": {
        "id": "ZruksO62nYfT"
      }
    },
    {
      "cell_type": "code",
      "source": [
        "excess_returns = pd.DataFrame(port_rets_beta, index = plot_dates[1:], columns = [\"Strategy Returns\"]) \n",
        "excess_returns[\"Risk Free\"] = rf.values\n",
        "excess_returns[\"Excess Returns\"] = excess_returns[\"Strategy Returns\"] - excess_returns[\"Risk Free\"]\n",
        "rets = excess_returns[\"Excess Returns\"].values\n",
        "\n",
        "std = statistics.pstdev(rets) * np.sqrt(12) * 100\n",
        "mean = np.mean(rets) * 12 * 100\n",
        "skewness = skew(rets)\n",
        "kurt = kurtosis(rets)\n",
        "max = np.max(rets) * 100\n",
        "min = np.min(rets) * 100\n",
        "std_negative = statistics.pstdev([ret for ret in rets if ret < 0])  * np.sqrt(12) * 100\n",
        "\n",
        "print(\"Standard Deviation: \" + str(std) + \"%\")\n",
        "print(\"Average Annual Return: \" + str(mean) + \"%\")\n",
        "print(\"Sharpe Ratio: \" + str(mean/std))\n",
        "print(\"Sortino Ratio: \" + str(mean/std_negative))\n",
        "print(\"Largest Gain: \" + str(max) + \"%\")\n",
        "print(\"Largest Loss: \" + str(min) + \"%\") \n",
        "print(\"Skewness: \" + str(skewness))\n",
        "print(\"Kurtosis: \" + str(kurt))"
      ],
      "metadata": {
        "colab": {
          "base_uri": "https://localhost:8080/"
        },
        "id": "wfeXODrVnaTn",
        "outputId": "e337727b-3e40-4f57-ad29-da6acfc0570e"
      },
      "execution_count": 5,
      "outputs": [
        {
          "output_type": "stream",
          "name": "stdout",
          "text": [
            "Standard Deviation: 14.53648856151682%\n",
            "Average Annual Return: 10.920384545746808%\n",
            "Sharpe Ratio: 0.7512395101150421\n",
            "Sortino Ratio: 1.0437632296758748\n",
            "Largest Gain: 15.903638000383113%\n",
            "Largest Loss: -22.06844820784357%\n",
            "Skewness: -0.3711567411506701\n",
            "Kurtosis: 3.6077761589203066\n"
          ]
        }
      ]
    },
    {
      "cell_type": "code",
      "source": [
        "cum_ret = 1\n",
        "cum_rets = [1]\n",
        "for ret in rets:\n",
        "  cum_ret = cum_ret * (1 + ret)\n",
        "  cum_rets.append(cum_ret)\n",
        "\n",
        "max_ret = 1\n",
        "drawdowns = []\n",
        "for ret in cum_rets:\n",
        "  max_ret = np.max([max_ret, ret])\n",
        "  drawdowns.append(-(max_ret - ret) / max_ret * 100)\n",
        "\n",
        "df = pd.DataFrame(cum_rets, plot_dates, columns = [\"Cumulative Return\"])\n",
        "df[\"Drawdown\"] = drawdowns\n",
        "\n",
        "print(\"Largest Drawdown: \" + str(round(np.min(drawdowns), 2)) + \"%\")\n",
        "print(\"Calmar Ratio: \" + str(mean / -np.min(drawdowns)))"
      ],
      "metadata": {
        "colab": {
          "base_uri": "https://localhost:8080/"
        },
        "id": "3a9aQ0VIn28I",
        "outputId": "df056ccc-3fa0-4c3b-af83-06eb92b31c66"
      },
      "execution_count": 6,
      "outputs": [
        {
          "output_type": "stream",
          "name": "stdout",
          "text": [
            "Largest Drawdown: -38.49%\n",
            "Calmar Ratio: 0.2837317605474776\n"
          ]
        }
      ]
    },
    {
      "cell_type": "code",
      "source": [
        "total = len(rets) - 1\n",
        "positive = len([ret for ret in rets if ret > 0.0])\n",
        "print(\"%Positive Days: \" + str(positive/total * 100))"
      ],
      "metadata": {
        "colab": {
          "base_uri": "https://localhost:8080/"
        },
        "id": "rFedHCHyn-PK",
        "outputId": "f225816a-1b64-469d-f3fe-6737bca98413"
      },
      "execution_count": 7,
      "outputs": [
        {
          "output_type": "stream",
          "name": "stdout",
          "text": [
            "%Positive Days: 54.325259515570934\n"
          ]
        }
      ]
    },
    {
      "cell_type": "code",
      "source": [
        "excess_returns[\"Volatility\"] = signals[1:]\n",
        "mean_low = np.mean(excess_returns[excess_returns[\"Volatility\"] == \"Low\"][\"Excess Returns\"]) * 12\n",
        "mean_medium = np.mean(excess_returns[excess_returns[\"Volatility\"] == \"Normal\"][\"Excess Returns\"]) * 12\n",
        "mean_high = np.mean(excess_returns[excess_returns[\"Volatility\"] == \"High\"][\"Excess Returns\"]) * 12\n",
        "\n",
        "std_low = excess_returns[excess_returns[\"Volatility\"] == \"Low\"][\"Excess Returns\"].std() * np.sqrt(12)\n",
        "std_medium = excess_returns[excess_returns[\"Volatility\"] == \"Normal\"][\"Excess Returns\"].std() * np.sqrt(12)\n",
        "std_high = excess_returns[excess_returns[\"Volatility\"] == \"High\"][\"Excess Returns\"].std() * np.sqrt(12)\n",
        "\n",
        "sharpe_low = mean_low / std_low\n",
        "sharpe_medium = mean_medium / std_medium\n",
        "sharpe_high = mean_high / std_high\n",
        "\n",
        "print(\"Volatility     Return     Stdev    Sharpe Ratio\")\n",
        "print(\"    Low         \" + str(round(mean_low, 3)) + \"     \" + str(round(std_low, 3)) + \"       \" + str(round(sharpe_low, 3)))\n",
        "print(\"    Medium      \" + str(round(mean_medium, 3)) + \"     \" + str(round(std_medium, 3)) + \"       \" + str(round(sharpe_medium, 3)))\n",
        "print(\"    High        \" + str(round(mean_high, 3)) + \"     \" + str(round(std_high, 3)) + \"       \" + str(round(sharpe_high, 3)))"
      ],
      "metadata": {
        "colab": {
          "base_uri": "https://localhost:8080/"
        },
        "id": "X-Bp475OXg46",
        "outputId": "45123b35-1beb-4ad1-f6a0-9e9d6b2f7237"
      },
      "execution_count": 8,
      "outputs": [
        {
          "output_type": "stream",
          "name": "stdout",
          "text": [
            "Volatility     Return     Stdev    Sharpe Ratio\n",
            "    Low         0.032     0.137       0.231\n",
            "    Medium      0.146     0.154       0.944\n",
            "    High        0.094     0.105       0.897\n"
          ]
        }
      ]
    },
    {
      "cell_type": "markdown",
      "source": [
        "**First Half**"
      ],
      "metadata": {
        "id": "1tVTQQ29oC_q"
      }
    },
    {
      "cell_type": "code",
      "source": [
        "rets = excess_returns[\"Excess Returns\"][:\"2010\"].values\n",
        "\n",
        "std = statistics.pstdev(rets) * np.sqrt(12) * 100\n",
        "mean = np.mean(rets) * 12 * 100\n",
        "skewness = skew(rets)\n",
        "kurt = kurtosis(rets)\n",
        "max = np.max(rets) * 100\n",
        "min = np.min(rets) * 100\n",
        "std_negative = statistics.pstdev([ret for ret in rets if ret < 0])  * np.sqrt(12) * 100\n",
        "\n",
        "print(\"Standard Deviation: \" + str(std) + \"%\")\n",
        "print(\"Average Annual Return: \" + str(mean) + \"%\")\n",
        "print(\"Sharpe Ratio: \" + str(mean/std))\n",
        "print(\"Sortino Ratio: \" + str(mean/std_negative))\n",
        "print(\"Largest Gain: \" + str(max) + \"%\")\n",
        "print(\"Largest Loss: \" + str(min) + \"%\") \n",
        "print(\"Skewness: \" + str(skewness))\n",
        "print(\"Kurtosis: \" + str(kurt))"
      ],
      "metadata": {
        "colab": {
          "base_uri": "https://localhost:8080/"
        },
        "id": "vQiqRO8ZoFbd",
        "outputId": "8e4bde16-271f-465b-c5b2-8ba61269dc96"
      },
      "execution_count": 9,
      "outputs": [
        {
          "output_type": "stream",
          "name": "stdout",
          "text": [
            "Standard Deviation: 13.220658499776622%\n",
            "Average Annual Return: 20.950879237431593%\n",
            "Sharpe Ratio: 1.5847076934772637\n",
            "Sortino Ratio: 2.567369989745059\n",
            "Largest Gain: 15.903638000383113%\n",
            "Largest Loss: -12.208398016040343%\n",
            "Skewness: 0.24655313830870834\n",
            "Kurtosis: 2.0219244694995204\n"
          ]
        }
      ]
    },
    {
      "cell_type": "code",
      "source": [
        "cum_ret = 1\n",
        "cum_rets = [1]\n",
        "for ret in rets:\n",
        "  cum_ret = cum_ret * (1 + ret)\n",
        "  cum_rets.append(cum_ret)\n",
        "\n",
        "max_ret = 1\n",
        "drawdowns = []\n",
        "for ret in cum_rets:\n",
        "  max_ret = np.max([max_ret, ret])\n",
        "  drawdowns.append(-(max_ret - ret) / max_ret * 100)\n",
        "\n",
        "df = pd.DataFrame(cum_rets, plot_dates[:144], columns = [\"Cumulative Return\"])\n",
        "df[\"Drawdown\"] = drawdowns\n",
        "\n",
        "print(\"Largest Drawdown: \" + str(round(np.min(drawdowns), 2)) + \"%\")\n",
        "print(\"Calmar Ratio: \" + str(mean / -np.min(drawdowns)))"
      ],
      "metadata": {
        "colab": {
          "base_uri": "https://localhost:8080/"
        },
        "id": "jnHQKfNYoNJo",
        "outputId": "c3a70585-b2b9-4eb9-ddd5-4096252f7b12"
      },
      "execution_count": 10,
      "outputs": [
        {
          "output_type": "stream",
          "name": "stdout",
          "text": [
            "Largest Drawdown: -12.21%\n",
            "Calmar Ratio: 1.716103882745689\n"
          ]
        }
      ]
    },
    {
      "cell_type": "code",
      "source": [
        "total = len(rets) - 1\n",
        "positive = len([ret for ret in rets if ret > 0.0])\n",
        "print(\"%Positive Days: \" + str(positive/total * 100))"
      ],
      "metadata": {
        "colab": {
          "base_uri": "https://localhost:8080/"
        },
        "id": "0wMLaAVOoQ80",
        "outputId": "5c582773-28b2-40e8-d4a5-a84b484c4706"
      },
      "execution_count": 11,
      "outputs": [
        {
          "output_type": "stream",
          "name": "stdout",
          "text": [
            "%Positive Days: 62.676056338028175\n"
          ]
        }
      ]
    },
    {
      "cell_type": "markdown",
      "source": [
        "**Second Half**"
      ],
      "metadata": {
        "id": "GW-yxjrroTab"
      }
    },
    {
      "cell_type": "code",
      "source": [
        "rets = excess_returns[\"Excess Returns\"][\"2010\":].values\n",
        "\n",
        "std = statistics.pstdev(rets) * np.sqrt(12) * 100\n",
        "mean = np.mean(rets) * 12 * 100\n",
        "skewness = skew(rets)\n",
        "kurt = kurtosis(rets)\n",
        "max = np.max(rets) * 100\n",
        "min = np.min(rets) * 100\n",
        "std_negative = statistics.pstdev([ret for ret in rets if ret < 0])  * np.sqrt(12) * 100\n",
        "\n",
        "print(\"Standard Deviation: \" + str(std) + \"%\")\n",
        "print(\"Average Annual Return: \" + str(mean) + \"%\")\n",
        "print(\"Sharpe Ratio: \" + str(mean/std))\n",
        "print(\"Sortino Ratio: \" + str(mean/std_negative))\n",
        "print(\"Largest Gain: \" + str(max) + \"%\")\n",
        "print(\"Largest Loss: \" + str(min) + \"%\") \n",
        "print(\"Skewness: \" + str(skewness))\n",
        "print(\"Kurtosis: \" + str(kurt))"
      ],
      "metadata": {
        "colab": {
          "base_uri": "https://localhost:8080/"
        },
        "id": "Yq5SihKVoVLn",
        "outputId": "95d60509-f65a-4d9c-9cb0-c35defa722e3"
      },
      "execution_count": 12,
      "outputs": [
        {
          "output_type": "stream",
          "name": "stdout",
          "text": [
            "Standard Deviation: 15.190427747550078%\n",
            "Average Annual Return: 1.162828485128276%\n",
            "Sharpe Ratio: 0.07655008169969524\n",
            "Sortino Ratio: 0.10121677557414815\n",
            "Largest Gain: 12.883479098924361%\n",
            "Largest Loss: -22.06844820784357%\n",
            "Skewness: -0.665224538028241\n",
            "Kurtosis: 4.145486150053805\n"
          ]
        }
      ]
    },
    {
      "cell_type": "code",
      "source": [
        "cum_ret = 1\n",
        "cum_rets = [1]\n",
        "for ret in rets:\n",
        "  cum_ret = cum_ret * (1 + ret)\n",
        "  cum_rets.append(cum_ret)\n",
        "\n",
        "max_ret = 1\n",
        "drawdowns = []\n",
        "for ret in cum_rets:\n",
        "  max_ret = np.max([max_ret, ret])\n",
        "  drawdowns.append(-(max_ret - ret) / max_ret * 100)\n",
        "\n",
        "df = pd.DataFrame(cum_rets, plot_dates[143:], columns = [\"Cumulative Return\"])\n",
        "df[\"Drawdown\"] = drawdowns\n",
        "\n",
        "print(\"Largest Drawdown: \" + str(round(np.min(drawdowns), 2)) + \"%\")\n",
        "print(\"Calmar Ratio: \" + str(mean / -np.min(drawdowns)))"
      ],
      "metadata": {
        "colab": {
          "base_uri": "https://localhost:8080/"
        },
        "id": "u4SGNUT6oXaK",
        "outputId": "dc74a751-7afa-4945-e64d-d501967b5398"
      },
      "execution_count": 13,
      "outputs": [
        {
          "output_type": "stream",
          "name": "stdout",
          "text": [
            "Largest Drawdown: -37.42%\n",
            "Calmar Ratio: 0.031076424799885802\n"
          ]
        }
      ]
    },
    {
      "cell_type": "code",
      "source": [
        "total = len(rets) - 1\n",
        "positive = len([ret for ret in rets if ret > 0.0])\n",
        "print(\"%Positive Days: \" + str(positive/total * 100))"
      ],
      "metadata": {
        "colab": {
          "base_uri": "https://localhost:8080/"
        },
        "id": "PugMCMoWobmG",
        "outputId": "7235b144-f0e2-4bf3-9170-853280d042a4"
      },
      "execution_count": 14,
      "outputs": [
        {
          "output_type": "stream",
          "name": "stdout",
          "text": [
            "%Positive Days: 46.57534246575342\n"
          ]
        }
      ]
    },
    {
      "cell_type": "markdown",
      "source": [
        "**Dot-com bubble crash (1998-2003)**"
      ],
      "metadata": {
        "id": "e5KWDUw5ogDe"
      }
    },
    {
      "cell_type": "code",
      "source": [
        "rets = excess_returns[\"Excess Returns\"][\"1998\":\"2004\"].values\n",
        "\n",
        "std = statistics.pstdev(rets) * np.sqrt(12) * 100\n",
        "mean = np.mean(rets) * 12 * 100\n",
        "skewness = skew(rets)\n",
        "kurt = kurtosis(rets)\n",
        "max = np.max(rets) * 100\n",
        "min = np.min(rets) * 100\n",
        "std_negative = statistics.pstdev([ret for ret in rets if ret < 0])  * np.sqrt(12) * 100\n",
        "\n",
        "print(\"Standard Deviation: \" + str(std) + \"%\")\n",
        "print(\"Average Annual Return: \" + str(mean) + \"%\")\n",
        "print(\"Sharpe Ratio: \" + str(mean/std))\n",
        "print(\"Sortino Ratio: \" + str(mean/std_negative))\n",
        "print(\"Largest Gain: \" + str(max) + \"%\")\n",
        "print(\"Largest Loss: \" + str(min) + \"%\") \n",
        "print(\"Skewness: \" + str(skewness))\n",
        "print(\"Kurtosis: \" + str(kurt))"
      ],
      "metadata": {
        "colab": {
          "base_uri": "https://localhost:8080/"
        },
        "id": "Mq4NO9skoiZA",
        "outputId": "4e9e33ea-1cd8-41dc-a5b6-c1f0adf306b0"
      },
      "execution_count": 15,
      "outputs": [
        {
          "output_type": "stream",
          "name": "stdout",
          "text": [
            "Standard Deviation: 15.360887465215178%\n",
            "Average Annual Return: 25.900902543960523%\n",
            "Sharpe Ratio: 1.686159253663779\n",
            "Sortino Ratio: 2.4175267294764446\n",
            "Largest Gain: 15.903638000383113%\n",
            "Largest Loss: -12.208398016040343%\n",
            "Skewness: -0.027109300077038254\n",
            "Kurtosis: 1.7749432209172795\n"
          ]
        }
      ]
    },
    {
      "cell_type": "code",
      "source": [
        "cum_ret = 1\n",
        "cum_rets = [1]\n",
        "for ret in rets:\n",
        "  cum_ret = cum_ret * (1 + ret)\n",
        "  cum_rets.append(cum_ret)\n",
        "\n",
        "max_ret = 1\n",
        "drawdowns = []\n",
        "for ret in cum_rets:\n",
        "  max_ret = np.max([max_ret, ret])\n",
        "  drawdowns.append(-(max_ret - ret) / max_ret * 100)\n",
        "\n",
        "df = pd.DataFrame(cum_rets, columns = [\"Cumulative Return\"])\n",
        "df[\"Drawdown\"] = drawdowns\n",
        "\n",
        "print(\"Largest Drawdown: \" + str(round(np.min(drawdowns), 2)) + \"%\")\n",
        "print(\"Calmar Ratio: \" + str(mean / -np.min(drawdowns)))"
      ],
      "metadata": {
        "colab": {
          "base_uri": "https://localhost:8080/"
        },
        "id": "bBzm7z18oorX",
        "outputId": "ce63ebcf-27c2-4e3d-a917-ca987539a91b"
      },
      "execution_count": 16,
      "outputs": [
        {
          "output_type": "stream",
          "name": "stdout",
          "text": [
            "Largest Drawdown: -12.21%\n",
            "Calmar Ratio: 2.121564394438149\n"
          ]
        }
      ]
    },
    {
      "cell_type": "code",
      "source": [
        "total = len(rets) - 1\n",
        "positive = len([ret for ret in rets if ret > 0.0])\n",
        "print(\"%Positive Days: \" + str(positive/total * 100))"
      ],
      "metadata": {
        "colab": {
          "base_uri": "https://localhost:8080/"
        },
        "id": "9gaVrOQEo5FU",
        "outputId": "d53324a9-d166-48fc-f471-4325d7a6e6cb"
      },
      "execution_count": 17,
      "outputs": [
        {
          "output_type": "stream",
          "name": "stdout",
          "text": [
            "%Positive Days: 68.57142857142857\n"
          ]
        }
      ]
    },
    {
      "cell_type": "markdown",
      "source": [
        "**2007-2008 Market Crash (2007-2010)**"
      ],
      "metadata": {
        "id": "MiRDS0ACpELi"
      }
    },
    {
      "cell_type": "code",
      "source": [
        "rets = excess_returns[\"Excess Returns\"][\"2007\":\"2011\"].values\n",
        "\n",
        "std = statistics.pstdev(rets) * np.sqrt(12) * 100\n",
        "mean = np.mean(rets) * 12 * 100\n",
        "skewness = skew(rets)\n",
        "kurt = kurtosis(rets)\n",
        "max = np.max(rets) * 100\n",
        "min = np.min(rets) * 100\n",
        "std_negative = statistics.pstdev([ret for ret in rets if ret < 0])  * np.sqrt(12) * 100\n",
        "\n",
        "print(\"Standard Deviation: \" + str(std) + \"%\")\n",
        "print(\"Average Annual Return: \" + str(mean) + \"%\")\n",
        "print(\"Sharpe Ratio: \" + str(mean/std))\n",
        "print(\"Sortino Ratio: \" + str(mean/std_negative))\n",
        "print(\"Largest Gain: \" + str(max) + \"%\")\n",
        "print(\"Largest Loss: \" + str(min) + \"%\") \n",
        "print(\"Skewness: \" + str(skewness))\n",
        "print(\"Kurtosis: \" + str(kurt))"
      ],
      "metadata": {
        "colab": {
          "base_uri": "https://localhost:8080/"
        },
        "id": "NT-nU--mpDS2",
        "outputId": "91f5cc9a-5f4d-4ee9-b297-55eaf0d448a5"
      },
      "execution_count": 18,
      "outputs": [
        {
          "output_type": "stream",
          "name": "stdout",
          "text": [
            "Standard Deviation: 10.203110081542716%\n",
            "Average Annual Return: 0.9503042207601102%\n",
            "Sharpe Ratio: 0.09313868155545997\n",
            "Sortino Ratio: 0.12413429960506195\n",
            "Largest Gain: 7.020944717065096%\n",
            "Largest Loss: -9.208835035161055%\n",
            "Skewness: -0.32687245060142733\n",
            "Kurtosis: 1.1724787119995153\n"
          ]
        }
      ]
    },
    {
      "cell_type": "code",
      "source": [
        "cum_ret = 1\n",
        "cum_rets = [1]\n",
        "for ret in rets:\n",
        "  cum_ret = cum_ret * (1 + ret)\n",
        "  cum_rets.append(cum_ret)\n",
        "\n",
        "max_ret = 1\n",
        "drawdowns = []\n",
        "for ret in cum_rets:\n",
        "  max_ret = np.max([max_ret, ret])\n",
        "  drawdowns.append(-(max_ret - ret) / max_ret * 100)\n",
        "\n",
        "df = pd.DataFrame(cum_rets, columns = [\"Cumulative Return\"])\n",
        "df[\"Drawdown\"] = drawdowns\n",
        "\n",
        "print(\"Largest Drawdown: \" + str(round(np.min(drawdowns), 2)) + \"%\")\n",
        "print(\"Calmar Ratio: \" + str(mean / -np.min(drawdowns)))"
      ],
      "metadata": {
        "colab": {
          "base_uri": "https://localhost:8080/"
        },
        "id": "RBKOD2dBpKTx",
        "outputId": "cee238c4-dc3b-49ce-f497-3b608420454f"
      },
      "execution_count": 19,
      "outputs": [
        {
          "output_type": "stream",
          "name": "stdout",
          "text": [
            "Largest Drawdown: -21.62%\n",
            "Calmar Ratio: 0.04395261552441121\n"
          ]
        }
      ]
    },
    {
      "cell_type": "code",
      "source": [
        "total = len(rets) - 1\n",
        "positive = len([ret for ret in rets if ret > 0.0])\n",
        "print(\"%Positive Days: \" + str(positive/total * 100))"
      ],
      "metadata": {
        "colab": {
          "base_uri": "https://localhost:8080/"
        },
        "id": "jINnaMIdpNMo",
        "outputId": "ed23d573-34c5-49fb-f078-6027c61998eb"
      },
      "execution_count": 20,
      "outputs": [
        {
          "output_type": "stream",
          "name": "stdout",
          "text": [
            "%Positive Days: 38.297872340425535\n"
          ]
        }
      ]
    },
    {
      "cell_type": "markdown",
      "source": [
        "**Covid**"
      ],
      "metadata": {
        "id": "CQd7qYxY5dWp"
      }
    },
    {
      "cell_type": "code",
      "source": [
        "rets = excess_returns[\"Excess Returns\"][\"2020\":\"2021\"].values\n",
        "\n",
        "std = statistics.pstdev(rets) * np.sqrt(12) * 100\n",
        "mean = np.mean(rets) * 12 * 100\n",
        "skewness = skew(rets)\n",
        "kurt = kurtosis(rets)\n",
        "max = np.max(rets) * 100\n",
        "min = np.min(rets) * 100\n",
        "std_negative = statistics.pstdev([ret for ret in rets if ret < 0])  * np.sqrt(12) * 100\n",
        "\n",
        "print(\"Standard Deviation: \" + str(std) + \"%\")\n",
        "print(\"Average Annual Return: \" + str(mean) + \"%\")\n",
        "print(\"Sharpe Ratio: \" + str(mean/std))\n",
        "print(\"Sortino Ratio: \" + str(mean/std_negative))\n",
        "print(\"Largest Gain: \" + str(max) + \"%\")\n",
        "print(\"Largest Loss: \" + str(min) + \"%\") \n",
        "print(\"Skewness: \" + str(skewness))\n",
        "print(\"Kurtosis: \" + str(kurt))"
      ],
      "metadata": {
        "colab": {
          "base_uri": "https://localhost:8080/"
        },
        "id": "1BuRLHn-5fQn",
        "outputId": "739d7816-7a7d-4d08-cfab-40c64476f96a"
      },
      "execution_count": 21,
      "outputs": [
        {
          "output_type": "stream",
          "name": "stdout",
          "text": [
            "Standard Deviation: 24.068407118989736%\n",
            "Average Annual Return: -14.563528945484205%\n",
            "Sharpe Ratio: -0.6050890228624114\n",
            "Sortino Ratio: -0.597676578131817\n",
            "Largest Gain: 7.7191776669620324%\n",
            "Largest Loss: -22.06844820784357%\n",
            "Skewness: -2.0010867483708425\n",
            "Kurtosis: 4.058507312957876\n"
          ]
        }
      ]
    },
    {
      "cell_type": "code",
      "source": [
        "cum_ret = 1\n",
        "cum_rets = [1]\n",
        "for ret in rets:\n",
        "  cum_ret = cum_ret * (1 + ret)\n",
        "  cum_rets.append(cum_ret)\n",
        "\n",
        "max_ret = 1\n",
        "drawdowns = []\n",
        "for ret in cum_rets:\n",
        "  max_ret = np.max([max_ret, ret])\n",
        "  drawdowns.append(-(max_ret - ret) / max_ret * 100)\n",
        "\n",
        "df = pd.DataFrame(cum_rets, columns = [\"Cumulative Return\"])\n",
        "df[\"Drawdown\"] = drawdowns\n",
        "\n",
        "print(\"Largest Drawdown: \" + str(round(np.min(drawdowns), 2)) + \"%\")\n",
        "print(\"Calmar Ratio: \" + str(mean / -np.min(drawdowns)))"
      ],
      "metadata": {
        "colab": {
          "base_uri": "https://localhost:8080/"
        },
        "id": "C61NLT_i5kYz",
        "outputId": "3a282b22-20fd-4ae9-c5ed-da029b7a951f"
      },
      "execution_count": 22,
      "outputs": [
        {
          "output_type": "stream",
          "name": "stdout",
          "text": [
            "Largest Drawdown: -27.63%\n",
            "Calmar Ratio: -0.5271762544997998\n"
          ]
        }
      ]
    },
    {
      "cell_type": "code",
      "source": [
        "dates = excess_returns[\"Excess Returns\"][\"2020\":\"2021\"].index\n",
        "plt.figure(figsize=(24,7))\n",
        "plt.plot(dates, rets)"
      ],
      "metadata": {
        "colab": {
          "base_uri": "https://localhost:8080/",
          "height": 445
        },
        "id": "CUSF5reTA-P4",
        "outputId": "d9ff706d-a1bb-45e7-831a-84192156d9ec"
      },
      "execution_count": 23,
      "outputs": [
        {
          "output_type": "execute_result",
          "data": {
            "text/plain": [
              "[<matplotlib.lines.Line2D at 0x7fb4dcc59f70>]"
            ]
          },
          "metadata": {},
          "execution_count": 23
        },
        {
          "output_type": "display_data",
          "data": {
            "text/plain": [
              "<Figure size 1728x504 with 1 Axes>"
            ],
            "image/png": "[encoded data removed]"
          },
          "metadata": {
            "needs_background": "light"
          }
        }
      ]
    },
    {
      "cell_type": "markdown",
      "source": [
        "**Factor Regression**"
      ],
      "metadata": {
        "id": "uRhb-2znpXu0"
      }
    },
    {
      "cell_type": "code",
      "source": [
        "excess_returns = pd.DataFrame(port_rets_beta, index = plot_dates[1:], columns = [\"Strategy Returns\"]) \n",
        "excess_returns[\"Strategy Returns\"] = excess_returns[\"Strategy Returns\"] \n",
        "excess_returns[\"Risk Free\"] = rf.values\n",
        "excess_returns[\"Excess Returns\"] = excess_returns[\"Strategy Returns\"] - excess_returns[\"Risk Free\"]\n",
        "rets = excess_returns[\"Excess Returns\"].values\n",
        "\n",
        "mom = pd.read_csv('/content/drive/MyDrive/_Data_/momentum.csv', index_col = \"dateff\", parse_dates = True)[1:]\n",
        "\n",
        "fff = fff\n",
        "fff[\"Momentum\"] = mom[\"umd\"].values\n",
        "fff[\"Excess Returns\"] = rets\n",
        "\n",
        "port_excess = fff[\"Excess Returns\"]\n",
        "mkt_excess = fff[\"mktrf\"]\n",
        "exp_var = pd.DataFrame()\n",
        "exp_var[\"Market - Rf\"] = mkt_excess.copy()\n",
        "exp_var[\"Constant\"] = 1\n",
        "exp_var[\"Value\"] = fff[\"hml\"]\n",
        "exp_var[\"Size\"] = fff[\"smb\"]\n",
        "exp_var[\"Momentum\"] = fff[\"Momentum\"]\n",
        "lm = sm.OLS(port_excess, exp_var).fit()\n",
        "\n",
        "lm.summary()"
      ],
      "metadata": {
        "colab": {
          "base_uri": "https://localhost:8080/",
          "height": 516
        },
        "id": "9MLhP7QkpZ0G",
        "outputId": "1fa2f4a4-74bd-4ae4-eefc-7c8af6f2493b"
      },
      "execution_count": 24,
      "outputs": [
        {
          "output_type": "execute_result",
          "data": {
            "text/plain": [
              "<class 'statsmodels.iolib.summary.Summary'>\n",
              "\"\"\"\n",
              "                            OLS Regression Results                            \n",
              "==============================================================================\n",
              "Dep. Variable:         Excess Returns   R-squared:                       0.225\n",
              "Model:                            OLS   Adj. R-squared:                  0.214\n",
              "Method:                 Least Squares   F-statistic:                     20.66\n",
              "Date:                Thu, 15 Dec 2022   Prob (F-statistic):           5.79e-15\n",
              "Time:                        23:28:07   Log-Likelihood:                 545.00\n",
              "No. Observations:                 290   AIC:                            -1080.\n",
              "Df Residuals:                     285   BIC:                            -1062.\n",
              "Df Model:                           4                                         \n",
              "Covariance Type:            nonrobust                                         \n",
              "===============================================================================\n",
              "                  coef    std err          t      P>|t|      [0.025      0.975]\n",
              "-------------------------------------------------------------------------------\n",
              "Market - Rf    -0.1131      0.053     -2.121      0.035      -0.218      -0.008\n",
              "Constant        0.0090      0.002      4.027      0.000       0.005       0.013\n",
              "Value           0.0309      0.068      0.452      0.652      -0.104       0.165\n",
              "Size           -0.1261      0.071     -1.784      0.075      -0.265       0.013\n",
              "Momentum        0.3293      0.047      7.021      0.000       0.237       0.422\n",
              "==============================================================================\n",
              "Omnibus:                       15.454   Durbin-Watson:                   1.939\n",
              "Prob(Omnibus):                  0.000   Jarque-Bera (JB):               40.904\n",
              "Skew:                           0.035   Prob(JB):                     1.31e-09\n",
              "Kurtosis:                       4.839   Cond. No.                         34.5\n",
              "==============================================================================\n",
              "\n",
              "Notes:\n",
              "[1] Standard Errors assume that the covariance matrix of the errors is correctly specified.\n",
              "\"\"\""
            ],
            "text/html": [
              "<table class=\"simpletable\">\n",
              "<caption>OLS Regression Results</caption>\n",
              "<tr>\n",
              "  <th>Dep. Variable:</th>     <td>Excess Returns</td>  <th>  R-squared:         </th> <td>   0.225</td>\n",
              "</tr>\n",
              "<tr>\n",
              "  <th>Model:</th>                   <td>OLS</td>       <th>  Adj. R-squared:    </th> <td>   0.214</td>\n",
              "</tr>\n",
              "<tr>\n",
              "  <th>Method:</th>             <td>Least Squares</td>  <th>  F-statistic:       </th> <td>   20.66</td>\n",
              "</tr>\n",
              "<tr>\n",
              "  <th>Date:</th>             <td>Thu, 15 Dec 2022</td> <th>  Prob (F-statistic):</th> <td>5.79e-15</td>\n",
              "</tr>\n",
              "<tr>\n",
              "  <th>Time:</th>                 <td>23:28:07</td>     <th>  Log-Likelihood:    </th> <td>  545.00</td>\n",
              "</tr>\n",
              "<tr>\n",
              "  <th>No. Observations:</th>      <td>   290</td>      <th>  AIC:               </th> <td>  -1080.</td>\n",
              "</tr>\n",
              "<tr>\n",
              "  <th>Df Residuals:</th>          <td>   285</td>      <th>  BIC:               </th> <td>  -1062.</td>\n",
              "</tr>\n",
              "<tr>\n",
              "  <th>Df Model:</th>              <td>     4</td>      <th>                     </th>     <td> </td>   \n",
              "</tr>\n",
              "<tr>\n",
              "  <th>Covariance Type:</th>      <td>nonrobust</td>    <th>                     </th>     <td> </td>   \n",
              "</tr>\n",
              "</table>\n",
              "<table class=\"simpletable\">\n",
              "<tr>\n",
              "       <td></td>          <th>coef</th>     <th>std err</th>      <th>t</th>      <th>P>|t|</th>  <th>[0.025</th>    <th>0.975]</th>  \n",
              "</tr>\n",
              "<tr>\n",
              "  <th>Market - Rf</th> <td>   -0.1131</td> <td>    0.053</td> <td>   -2.121</td> <td> 0.035</td> <td>   -0.218</td> <td>   -0.008</td>\n",
              "</tr>\n",
              "<tr>\n",
              "  <th>Constant</th>    <td>    0.0090</td> <td>    0.002</td> <td>    4.027</td> <td> 0.000</td> <td>    0.005</td> <td>    0.013</td>\n",
              "</tr>\n",
              "<tr>\n",
              "  <th>Value</th>       <td>    0.0309</td> <td>    0.068</td> <td>    0.452</td> <td> 0.652</td> <td>   -0.104</td> <td>    0.165</td>\n",
              "</tr>\n",
              "<tr>\n",
              "  <th>Size</th>        <td>   -0.1261</td> <td>    0.071</td> <td>   -1.784</td> <td> 0.075</td> <td>   -0.265</td> <td>    0.013</td>\n",
              "</tr>\n",
              "<tr>\n",
              "  <th>Momentum</th>    <td>    0.3293</td> <td>    0.047</td> <td>    7.021</td> <td> 0.000</td> <td>    0.237</td> <td>    0.422</td>\n",
              "</tr>\n",
              "</table>\n",
              "<table class=\"simpletable\">\n",
              "<tr>\n",
              "  <th>Omnibus:</th>       <td>15.454</td> <th>  Durbin-Watson:     </th> <td>   1.939</td>\n",
              "</tr>\n",
              "<tr>\n",
              "  <th>Prob(Omnibus):</th> <td> 0.000</td> <th>  Jarque-Bera (JB):  </th> <td>  40.904</td>\n",
              "</tr>\n",
              "<tr>\n",
              "  <th>Skew:</th>          <td> 0.035</td> <th>  Prob(JB):          </th> <td>1.31e-09</td>\n",
              "</tr>\n",
              "<tr>\n",
              "  <th>Kurtosis:</th>      <td> 4.839</td> <th>  Cond. No.          </th> <td>    34.5</td>\n",
              "</tr>\n",
              "</table><br/><br/>Notes:<br/>[1] Standard Errors assume that the covariance matrix of the errors is correctly specified."
            ]
          },
          "metadata": {},
          "execution_count": 24
        }
      ]
    },
    {
      "cell_type": "code",
      "source": [
        "replicating_port = excess_returns[\"Strategy Returns\"].values - lm.params[0]*(fff['mktrf'].values + fff['rf'].values) -(1-lm.params[0])*fff['rf'].values -lm.params[2]*fff['hml'].values-lm.params[3]*fff['smb'].values-lm.params[4]*fff['Momentum'].values"
      ],
      "metadata": {
        "id": "tEm9VuyzqCON"
      },
      "execution_count": 25,
      "outputs": []
    },
    {
      "cell_type": "code",
      "source": [
        "te = replicating_port.std() \n",
        "alpha = np.mean(replicating_port) \n",
        "IR = alpha * 12 / (te * np.sqrt(12))\n",
        "\n",
        "print(\"Information Ratio: \" + str(IR))"
      ],
      "metadata": {
        "colab": {
          "base_uri": "https://localhost:8080/"
        },
        "id": "yAGfjz4_qFE9",
        "outputId": "ce4b05cd-b78c-42d9-9dfd-93c160d1f944"
      },
      "execution_count": 26,
      "outputs": [
        {
          "output_type": "stream",
          "name": "stdout",
          "text": [
            "Information Ratio: 0.8422181017209348\n"
          ]
        }
      ]
    },
    {
      "cell_type": "markdown",
      "source": [
        "**Transaction Costs**"
      ],
      "metadata": {
        "id": "s09THs4Hhooa"
      }
    },
    {
      "cell_type": "code",
      "source": [
        "excess_returns = pd.DataFrame(port_rets_beta, index = plot_dates[1:], columns = [\"Strategy Returns\"]) \n",
        "excess_returns[\"Strategy Returns\"] = excess_returns[\"Strategy Returns\"] - 0.00461\n",
        "excess_returns[\"Risk Free\"] = rf.values\n",
        "excess_returns[\"Excess Returns\"] = excess_returns[\"Strategy Returns\"] - excess_returns[\"Risk Free\"]\n",
        "rets = excess_returns[\"Excess Returns\"].values\n",
        "\n",
        "mom = pd.read_csv('/content/drive/MyDrive/_Data_/momentum.csv', index_col = \"dateff\", parse_dates = True)[1:]\n",
        "\n",
        "fff = fff\n",
        "fff[\"Momentum\"] = mom[\"umd\"].values\n",
        "fff[\"Excess Returns\"] = rets\n",
        "\n",
        "port_excess = fff[\"Excess Returns\"]\n",
        "mkt_excess = fff[\"mktrf\"]\n",
        "exp_var = pd.DataFrame()\n",
        "exp_var[\"Market - Rf\"] = mkt_excess.copy()\n",
        "exp_var[\"Constant\"] = 1\n",
        "exp_var[\"Value\"] = fff[\"hml\"]\n",
        "exp_var[\"Size\"] = fff[\"smb\"]\n",
        "exp_var[\"Momentum\"] = fff[\"Momentum\"]\n",
        "lm = sm.OLS(port_excess, exp_var).fit()\n",
        "\n",
        "lm.summary()"
      ],
      "metadata": {
        "colab": {
          "base_uri": "https://localhost:8080/",
          "height": 516
        },
        "id": "aVu3EAIUhn7L",
        "outputId": "643957b8-d043-47a1-e170-953e386e8b68"
      },
      "execution_count": 27,
      "outputs": [
        {
          "output_type": "execute_result",
          "data": {
            "text/plain": [
              "<class 'statsmodels.iolib.summary.Summary'>\n",
              "\"\"\"\n",
              "                            OLS Regression Results                            \n",
              "==============================================================================\n",
              "Dep. Variable:         Excess Returns   R-squared:                       0.225\n",
              "Model:                            OLS   Adj. R-squared:                  0.214\n",
              "Method:                 Least Squares   F-statistic:                     20.66\n",
              "Date:                Thu, 15 Dec 2022   Prob (F-statistic):           5.79e-15\n",
              "Time:                        23:28:07   Log-Likelihood:                 545.00\n",
              "No. Observations:                 290   AIC:                            -1080.\n",
              "Df Residuals:                     285   BIC:                            -1062.\n",
              "Df Model:                           4                                         \n",
              "Covariance Type:            nonrobust                                         \n",
              "===============================================================================\n",
              "                  coef    std err          t      P>|t|      [0.025      0.975]\n",
              "-------------------------------------------------------------------------------\n",
              "Market - Rf    -0.1131      0.053     -2.121      0.035      -0.218      -0.008\n",
              "Constant        0.0044      0.002      1.960      0.051   -1.81e-05       0.009\n",
              "Value           0.0309      0.068      0.452      0.652      -0.104       0.165\n",
              "Size           -0.1261      0.071     -1.784      0.075      -0.265       0.013\n",
              "Momentum        0.3293      0.047      7.021      0.000       0.237       0.422\n",
              "==============================================================================\n",
              "Omnibus:                       15.454   Durbin-Watson:                   1.939\n",
              "Prob(Omnibus):                  0.000   Jarque-Bera (JB):               40.904\n",
              "Skew:                           0.035   Prob(JB):                     1.31e-09\n",
              "Kurtosis:                       4.839   Cond. No.                         34.5\n",
              "==============================================================================\n",
              "\n",
              "Notes:\n",
              "[1] Standard Errors assume that the covariance matrix of the errors is correctly specified.\n",
              "\"\"\""
            ],
            "text/html": [
              "<table class=\"simpletable\">\n",
              "<caption>OLS Regression Results</caption>\n",
              "<tr>\n",
              "  <th>Dep. Variable:</th>     <td>Excess Returns</td>  <th>  R-squared:         </th> <td>   0.225</td>\n",
              "</tr>\n",
              "<tr>\n",
              "  <th>Model:</th>                   <td>OLS</td>       <th>  Adj. R-squared:    </th> <td>   0.214</td>\n",
              "</tr>\n",
              "<tr>\n",
              "  <th>Method:</th>             <td>Least Squares</td>  <th>  F-statistic:       </th> <td>   20.66</td>\n",
              "</tr>\n",
              "<tr>\n",
              "  <th>Date:</th>             <td>Thu, 15 Dec 2022</td> <th>  Prob (F-statistic):</th> <td>5.79e-15</td>\n",
              "</tr>\n",
              "<tr>\n",
              "  <th>Time:</th>                 <td>23:28:07</td>     <th>  Log-Likelihood:    </th> <td>  545.00</td>\n",
              "</tr>\n",
              "<tr>\n",
              "  <th>No. Observations:</th>      <td>   290</td>      <th>  AIC:               </th> <td>  -1080.</td>\n",
              "</tr>\n",
              "<tr>\n",
              "  <th>Df Residuals:</th>          <td>   285</td>      <th>  BIC:               </th> <td>  -1062.</td>\n",
              "</tr>\n",
              "<tr>\n",
              "  <th>Df Model:</th>              <td>     4</td>      <th>                     </th>     <td> </td>   \n",
              "</tr>\n",
              "<tr>\n",
              "  <th>Covariance Type:</th>      <td>nonrobust</td>    <th>                     </th>     <td> </td>   \n",
              "</tr>\n",
              "</table>\n",
              "<table class=\"simpletable\">\n",
              "<tr>\n",
              "       <td></td>          <th>coef</th>     <th>std err</th>      <th>t</th>      <th>P>|t|</th>  <th>[0.025</th>    <th>0.975]</th>  \n",
              "</tr>\n",
              "<tr>\n",
              "  <th>Market - Rf</th> <td>   -0.1131</td> <td>    0.053</td> <td>   -2.121</td> <td> 0.035</td> <td>   -0.218</td> <td>   -0.008</td>\n",
              "</tr>\n",
              "<tr>\n",
              "  <th>Constant</th>    <td>    0.0044</td> <td>    0.002</td> <td>    1.960</td> <td> 0.051</td> <td>-1.81e-05</td> <td>    0.009</td>\n",
              "</tr>\n",
              "<tr>\n",
              "  <th>Value</th>       <td>    0.0309</td> <td>    0.068</td> <td>    0.452</td> <td> 0.652</td> <td>   -0.104</td> <td>    0.165</td>\n",
              "</tr>\n",
              "<tr>\n",
              "  <th>Size</th>        <td>   -0.1261</td> <td>    0.071</td> <td>   -1.784</td> <td> 0.075</td> <td>   -0.265</td> <td>    0.013</td>\n",
              "</tr>\n",
              "<tr>\n",
              "  <th>Momentum</th>    <td>    0.3293</td> <td>    0.047</td> <td>    7.021</td> <td> 0.000</td> <td>    0.237</td> <td>    0.422</td>\n",
              "</tr>\n",
              "</table>\n",
              "<table class=\"simpletable\">\n",
              "<tr>\n",
              "  <th>Omnibus:</th>       <td>15.454</td> <th>  Durbin-Watson:     </th> <td>   1.939</td>\n",
              "</tr>\n",
              "<tr>\n",
              "  <th>Prob(Omnibus):</th> <td> 0.000</td> <th>  Jarque-Bera (JB):  </th> <td>  40.904</td>\n",
              "</tr>\n",
              "<tr>\n",
              "  <th>Skew:</th>          <td> 0.035</td> <th>  Prob(JB):          </th> <td>1.31e-09</td>\n",
              "</tr>\n",
              "<tr>\n",
              "  <th>Kurtosis:</th>      <td> 4.839</td> <th>  Cond. No.          </th> <td>    34.5</td>\n",
              "</tr>\n",
              "</table><br/><br/>Notes:<br/>[1] Standard Errors assume that the covariance matrix of the errors is correctly specified."
            ]
          },
          "metadata": {},
          "execution_count": 27
        }
      ]
    },
    {
      "cell_type": "markdown",
      "source": [
        "**Historical VaR**"
      ],
      "metadata": {
        "id": "PDsgv3XC-vII"
      }
    },
    {
      "cell_type": "code",
      "source": [
        "rets = sorted(excess_returns[\"Excess Returns\"].values)\n",
        "length = len(rets)\n",
        "index = round(length / 100, 0) - 1\n",
        "\n",
        "var = rets[int(index)]\n",
        "\n",
        "print(\"Historical VaR: \" + str(var * 100) + \"%\")"
      ],
      "metadata": {
        "colab": {
          "base_uri": "https://localhost:8080/"
        },
        "id": "Tj_TxcuT-umk",
        "outputId": "fd9f0bcf-a1cd-4fc8-ef3b-656f803614ee"
      },
      "execution_count": 28,
      "outputs": [
        {
          "output_type": "stream",
          "name": "stdout",
          "text": [
            "Historical VaR: -12.054712255068779%\n"
          ]
        }
      ]
    },
    {
      "cell_type": "markdown",
      "source": [
        "**Sharpe Ratio across time**"
      ],
      "metadata": {
        "id": "-CQcrfvoDkaJ"
      }
    },
    {
      "cell_type": "code",
      "source": [
        "years = range(1998, 2023)\n",
        "srs = []\n",
        "\n",
        "for i in range(len(years)-1):\n",
        "  rets = excess_returns['Excess Returns'][str(years[i]) : str(years[i+1])]\n",
        "  mean = np.mean(rets)\n",
        "  std = statistics.pstdev(rets)\n",
        "  sr = mean/std * np.sqrt(12)\n",
        "  srs.append(sr)\n",
        "\n",
        "  print(str(years[i]) + \": \" + str(sr))\n",
        "\n",
        "\n",
        "rets = excess_returns['Excess Returns'][\"2022\" : ]\n",
        "mean = np.mean(rets)\n",
        "std = statistics.pstdev(rets)\n",
        "sr = mean/std * np.sqrt(12)\n",
        "srs.append(sr)\n",
        "\n",
        "print(\"2022: \" + str(sr))"
      ],
      "metadata": {
        "colab": {
          "base_uri": "https://localhost:8080/"
        },
        "id": "MHMPnatyDr_X",
        "outputId": "a7e659d4-d592-4f50-8894-3bba64ab82ff"
      },
      "execution_count": 29,
      "outputs": [
        {
          "output_type": "stream",
          "name": "stdout",
          "text": [
            "1998: 2.3881497168734844\n",
            "1999: 2.3335709945507097\n",
            "2000: 1.345257785944834\n",
            "2001: 0.7849312832075737\n",
            "2002: 1.1336813858133297\n",
            "2003: 0.31853338652444235\n",
            "2004: 1.2282288543191175\n",
            "2005: 3.8657037864631327\n",
            "2006: 0.1357988894812796\n",
            "2007: 1.6687765053502315\n",
            "2008: -0.44423146245584394\n",
            "2009: -1.2129511066619512\n",
            "2010: -1.9555099069148647\n",
            "2011: -0.4655202113530596\n",
            "2012: -1.5548390345048626\n",
            "2013: -1.9688104380189733\n",
            "2014: 0.09545151372344497\n",
            "2015: 0.7422648448241973\n",
            "2016: -1.5872078790781063\n",
            "2017: 0.4376493917018425\n",
            "2018: 1.5522073579972042\n",
            "2019: -0.6015620767097203\n",
            "2020: -0.8349338967940686\n",
            "2021: 0.7710477420270541\n",
            "2022: 4.119094490702848\n"
          ]
        }
      ]
    },
    {
      "cell_type": "code",
      "source": [
        "df = pd.DataFrame(srs, index = years)\n",
        "plt.figure(figsize=(24,7))\n",
        "plt.plot(df)\n",
        "plt.axhline(y=0, color = \"black\", alpha = 0.2)"
      ],
      "metadata": {
        "colab": {
          "base_uri": "https://localhost:8080/",
          "height": 445
        },
        "id": "VYkcCYKiIL10",
        "outputId": "2fa6ecdb-32d3-454f-a534-f076c8731c60"
      },
      "execution_count": 30,
      "outputs": [
        {
          "output_type": "execute_result",
          "data": {
            "text/plain": [
              "<matplotlib.lines.Line2D at 0x7fb4dcc31850>"
            ]
          },
          "metadata": {},
          "execution_count": 30
        },
        {
          "output_type": "display_data",
          "data": {
            "text/plain": [
              "<Figure size 1728x504 with 1 Axes>"
            ],
            "image/png": "[encoded data removed]"
          },
          "metadata": {
            "needs_background": "light"
          }
        }
      ]
    }
  ]
}